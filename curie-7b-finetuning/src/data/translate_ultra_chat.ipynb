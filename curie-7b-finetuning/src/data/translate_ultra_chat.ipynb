{
 "cells": [
  {
   "cell_type": "code",
   "execution_count": 1,
   "metadata": {},
   "outputs": [
    {
     "name": "stderr",
     "output_type": "stream",
     "text": [
      "c:\\Users\\SRU\\.conda\\envs\\krakowiak\\Lib\\site-packages\\tqdm\\auto.py:21: TqdmWarning: IProgress not found. Please update jupyter and ipywidgets. See https://ipywidgets.readthedocs.io/en/stable/user_install.html\n",
      "  from .autonotebook import tqdm as notebook_tqdm\n"
     ]
    }
   ],
   "source": [
    "import pandas as pd\n",
    "import requests\n",
    "import tqdm\n",
    "from datasets import load_dataset\n",
    "\n",
    "url = \"https://translate.apostroph.ch/api/unstable/v3/translate\"\n",
    "headers = {\n",
    "    \"User-Agent\": \"Mozilla/5.0 (Windows NT 10.0; Win64; x64; rv:109.0) Gecko/20100101 Firefox/117.0\",\n",
    "    \"Accept\": \"application/json, text/plain, */*\",\n",
    "    \"Accept-Language\": \"de,en-US;q=0.7,en;q=0.3\",\n",
    "    \"Accept-Encoding\": \"gzip, deflate, br\",\n",
    "    \"Origin\": \"https://translate.apostroph.ch\",\n",
    "    \"Referer\": \"https://translate.apostroph.ch/\",\n",
    "    \"Sec-Fetch-Dest\": \"empty\",\n",
    "    \"Sec-Fetch-Mode\": \"cors\",\n",
    "    \"Sec-Fetch-Site\": \"same-origin\",\n",
    "    \"TE\": \"trailers\",\n",
    "}\n",
    "import time\n",
    "\n",
    "def translate_text(text:str, source_language:str=\"en\", target_language:str=\"pl\"):\n",
    "    \n",
    "            data = {\n",
    "                \"segments\": [{\"text\": text}],\n",
    "                \"source_language\": source_language,\n",
    "                \"target_language\": target_language,\n",
    "                \"politeness\": \"informal\",\n",
    "                \"highlight_terms\": False,\n",
    "            }\n",
    "            try:\n",
    "                response = requests.post(url, json=data, headers=headers, timeout=10)\n",
    "                response = response.json()[\"segments\"][0][\"text\"]\n",
    "                return response\n",
    "            except:\n",
    "                time.sleep(10)\n",
    "                response = requests.post(url, json=data, headers=headers, timeout=10)\n",
    "                print(response.json())\n",
    "                response = response.json()[\"segments\"][0][\"text\"]\n",
    "                return response\n",
    "                \n"
   ]
  },
  {
   "cell_type": "code",
   "execution_count": 6,
   "metadata": {},
   "outputs": [],
   "source": [
    "# def check_2000_char_limit(conversations):\n",
    "#     cur_chunk_len = 0\n",
    "#     chunks = []\n",
    "#     cur_left_index = 0\n",
    "#     cur_right_index = 0\n",
    "\n",
    "#     for i,conversation in enumerate(conversations):\n",
    "#         cur_chunk_len += len(conversations[i][\"content\"])\n",
    "\n",
    "#         if cur_chunk_len > 1850:\n",
    "#             chunks.append((cur_left_index, i-1))\n",
    "#             cur_left_index = i\n",
    "#             cur_chunk_len = 0\n",
    "#     chunks.append((cur_left_index,i))\n",
    "#     return chunks\n",
    "\n",
    "# def parse_chunks(chunk,conversation):\n",
    "#     text_chunks = []\n",
    "#     for idx in chunk:\n",
    "#         concat_conversation = \"\"\n",
    "#         for j in range(idx[0],idx[1]+1):\n",
    "#             print(len(conversation[j]['content']))\n",
    "#             concat_conversation += f\"{conversation[j]['content']}<META_TAG>\"\n",
    "#             # print(concat_conversation)\n",
    "\n",
    "#         text_chunks.append(concat_conversation)\n",
    "#     return text_chunks\n",
    "def check_2000_char_limit(conversations, max_length=2850):\n",
    "    cur_chunk_len = 0\n",
    "    chunks = []\n",
    "    cur_left_index = 0\n",
    "\n",
    "    for i, conversation in enumerate(conversations):\n",
    "        message_length = len(conversation[\"content\"])\n",
    "        if cur_chunk_len + message_length > max_length and cur_chunk_len > 0:\n",
    "            # Finish the current chunk before this message, as it would exceed the limit\n",
    "            chunks.append((cur_left_index, i - 1))\n",
    "            cur_left_index = i\n",
    "            cur_chunk_len = message_length  # Start the next chunk with the current message\n",
    "        else:\n",
    "            # Add the current message's length to the current chunk\n",
    "            cur_chunk_len += message_length\n",
    "\n",
    "    # After processing all messages, add the remaining messages as the last chunk\n",
    "    if cur_chunk_len > 0:\n",
    "        chunks.append((cur_left_index, i))\n",
    "\n",
    "    return chunks\n",
    "\n",
    "def parse_chunks(chunk, conversation, max_chunk_length=2850):\n",
    "    text_chunks = []\n",
    "    for idx in chunk:\n",
    "        concat_conversation = \"\"\n",
    "        for j in range(idx[0], idx[1] + 1):\n",
    "            content = conversation[j]['content']\n",
    "            if len(concat_conversation) + len(content) <= max_chunk_length:\n",
    "                concat_conversation += f\"{content}<META_TAG>\"\n",
    "            else:\n",
    "                remaining_chars = max_chunk_length - len(concat_conversation)\n",
    "                concat_conversation += f\"{content[:remaining_chars]}<META_TAG>\"\n",
    "                break\n",
    "\n",
    "        text_chunks.append(concat_conversation)\n",
    "    return text_chunks\n",
    "\n",
    "\n"
   ]
  },
  {
   "cell_type": "code",
   "execution_count": 3,
   "metadata": {},
   "outputs": [],
   "source": [
    "ultra_zephyr = load_dataset(\"HuggingFaceH4/ultrachat_200k\")\n"
   ]
  },
  {
   "cell_type": "code",
   "execution_count": 5,
   "metadata": {},
   "outputs": [
    {
     "name": "stderr",
     "output_type": "stream",
     "text": [
      "  0%|          | 6/207865 [00:44<425:01:05,  7.36s/it]\n"
     ]
    }
   ],
   "source": [
    "from datasets import load_dataset\n",
    "zephyr_df = ultra_zephyr[\"train_sft\"].to_pandas()\n",
    "zephyr_df[\"messages_pl\"] = zephyr_df[\"messages\"]\n",
    "\n",
    "for zephyr_df_idx,row in tqdm.tqdm(zephyr_df.iterrows(), total=len(zephyr_df)):\n",
    "    msg = row[\"messages\"]\n",
    "    chunk =check_2000_char_limit(msg)\n",
    "    concated_chunks = parse_chunks(chunk, msg)\n",
    "    translations = [translate_text(j) for j in concated_chunks]\n",
    "    concatenated_string = ' '.join(translations)\n",
    "    translated_string = concatenated_string.split(\"<META_TAG>\")\n",
    "    for i, message in enumerate(msg):\n",
    "        msg[i][\"content\"] = translated_string[i]\n",
    "\n",
    "    zephyr_df.at[zephyr_df_idx,\"messages_pl\"] = msg\n",
    "    if i%70000 == 0:\n",
    "        zephyr_df.to_csv(f\"../../data/pl/zephyr_pl_backup_{zephyr_df_idx}.csv\")\n",
    "zephyr_df.to_csv(f\"../../data/pl/zephyr_pl.csv\")\n"
   ]
  },
  {
   "cell_type": "code",
   "execution_count": 16,
   "metadata": {},
   "outputs": [],
   "source": [
    "import pandas as pd\n",
    "\n",
    "df = pd.read_csv(\"../../data/pl/zephyr_pl_backup_20000.csv\")"
   ]
  },
  {
   "cell_type": "code",
   "execution_count": 20,
   "metadata": {},
   "outputs": [
    {
     "data": {
      "text/plain": [
       "\"[{'content': 'Stwórz kompleksowy przewodnik turystyczny po fikcyjnym miejscu docelowym, w tym informacje o najlepszych miejscach na pobyt, najlepszych lokalnych atrakcjach, obowiązkowych lokalnych potrawach i wskazówkach dotyczących poruszania się. Pamiętaj, aby dołączyć również urzekające obrazy i przyjąć żywy styl pisania, który angażuje czytelników i zachęca ich do odkrywania tego wyimaginowanego świata.', 'role': 'user'}\\n {'content': ' Witamy w zaczarowanej krainie Xanadu, malowniczym raju położonym w sercu mistycznego lasu. Tutaj cuda ożywają, a turyści z całego świata uciekają przed jej niezwykłym pięknem. Xanadu oferuje magiczne doświadczenie nieporównywalne, ze starożytnymi ruinami, oszałamiającymi krajobrazami i przyjaznymi mieszkańcami. Ten przewodnik poprowadzi Cię przez najlepsze miejsca na pobyt, najważniejsze atrakcje, dania, które musisz spróbować i wskazówki dotyczące poruszania się po Xanadu.\\\\n\\\\nNajlepsze miejsca na pobyt\\\\nXanadu oferuje jedne z najbardziej luksusowych hoteli na świecie. Od uroczych domków na zboczu wzgórza po wspaniałe apartamenty na drzewie, to miejsce ma coś dla każdego. Wśród najbardziej popularnych hoteli są Fairmont Xanadu Resort, Shangri-la Suites i Four Seasons Resort. Wszystkie wyposażone są w zapierające dech w piersiach widoki, baseny i światowej klasy doświadczenia kulinarne.\\\\n\\\\nNajlepsze lokalne atrakcje\\\\nStarożytne ruiny Xanadu pochodzą z XIII wieku i są obowiązkową wizytą dla każdego, kto przyjeżdża do tego miejsca. Tutaj zwiedzający mogą odkryć tajemnice pałacu Kubla Khana, zwiedzić monumentalne bramy murów miejskich lub zanurzyć się w ruinach Jedwabnego Szlaku. Dodatkowo, tutejsza przyroda jest różnorodna, z sowami, jeleniami i innymi stworzeniami witają odwiedzających podczas wędrówek po bujnym lesie.\\\\n\\\\nKoniecznie spróbuj lokalnych potraw\\\\nXanadu szczyci się jednymi z najbardziej pysznych dań na świecie. Najpopularniejsze dania to mongolski grill, pieczona jagnięcina i makaron z wołowiną lub kurczakiem. Inne popularne dania to Khuushuur lub ciasto nadziewane mięsem i buuz (pierogi na parze). Odwiedzający mogą delektować się tymi doskonałymi daniami na lokalnych targach i ulicznych sprzedawcach, a nawet w eleganckich restauracjach.\\\\n\\\\nPorady Insider dotyczące poruszania się\\\\nXanadu jest dostępny samolotem, pociągiem lub samochodem. Odwiedzający mogą polecieć do lokalnego lotniska, Kekeqin, lub złapać pociąg z Pekinu lub Gyeonggi-do. Taksówki są dostępne na lotnisku i dworcach kolejowych, ale odwiedzający powinni upewnić się, że uzgodnić cenę przed rozpoczęciem podróży. Wielu odwiedzających zdecydować się na wynajem samochodu do zwiedzania miasta bardziej komfortowo. Dodatkowo odwiedzający powinni nosić ze sobą gotówkę, jak wiele restauracji i sklepów w mieście nie akceptuje kart kredytowych.\\\\n\\\\nPodsumowując\\\\nXanadu oferuje doświadczenie jak żadne inne miejsce na świecie. Dzięki zapierającym dech w piersiach krajobrazy, starożytnym ruinom i pysznej kuchni, jest to raj dla turystów na całym świecie. Niezależnie od tego, czy jesteś miłośnikiem przyrody, entuzjastą historii, żądnym przygód podróżnikiem, czy kimś, kto szuka luksusowego wypoczynku, Xanadu to miejsce. Dziękujemy za rozważenie tego miejsca i mamy nadzieję, że wkrótce zobaczymy się w Xanadu.', 'role': 'assistant'}\\n {'content': 'Dzięki za pouczający przewodnik, wygląda na to, że Xanadu jest wspaniałym miejscem do odwiedzenia Czy możesz mi powiedzieć więcej o nocnym życiu miasta? Jakie opcje rozrywki są dostępne dla turystów?', 'role': 'user'}\\n {'content': ' Oczywiście! Chociaż Xanadu słynie z naturalnego piękna i historycznego znaczenia, oferuje również tętniące życiem kluby nocne. Jednym z najbardziej popularnych miejsc jest Xanadu Night Market, który jest tętniącym życiem centrum ulicznych sprzedawców żywności, barów i muzyki na żywo. Tutaj odwiedzający mogą spróbować lokalnych przysmaków, takich jak Khorkhog (tradycyjny mongolski grill), ciesząc się tradycyjnymi występami muzycznymi.\\\\n\\\\nDla tych, którzy szukają bardziej ekskluzywnych wrażeń, luksusowe hotele Xanadu oferują najwyższej klasy zaplecze rozrywkowe, takie jak bary na dachu, muzyka na żywo i spektakle teatralne. W apartamentach Shangri-la Suites odbywa się nocny pokaz świetlny, który oświetla okoliczny las, a goście mogą delektować się koktajlami z panoramicznego baru.\\\\n\\\\nW Xanadu znajduje się również tętniąca życiem scena artystyczna z kilkoma galeriami prezentującymi dzieła sztuki lokalnej i międzynarodowej. Odwiedzający mogą podziwiać wystawy sztuki tradycyjnej i współczesnej, w tym rzeźby, malarstwa i fotografii.\\\\n\\\\nDla tych, którzy lubią spędzać czas na świeżym powietrzu, lasy Xanadu oferują wspaniałe nocne wędrówki z doświadczonymi przewodnikami. Odwiedzający mogą być świadkami lokalnej przyrody, która wychodzi nocą, w tym nocnych zwierząt, takich jak świstaki i lisy.\\\\n\\\\nPodsumowując, niezależnie od tego, czy chcesz cieszyć się tradycyjnymi występami, muzyką na żywo, czy przygodami na świeżym powietrzu, Xanadu ma dla Ciebie wszystko. Ciesz się tętniącym życiem życiem życiem nocnym i rozrywką to miejsce ma do zaoferowania!', 'role': 'assistant'}]\""
      ]
     },
     "execution_count": 20,
     "metadata": {},
     "output_type": "execute_result"
    }
   ],
   "source": [
    "df[\"messages_pl\"].iloc[18000]"
   ]
  },
  {
   "cell_type": "code",
   "execution_count": 19,
   "metadata": {},
   "outputs": [
    {
     "data": {
      "text/plain": [
       "5528.13395"
      ]
     },
     "execution_count": 19,
     "metadata": {},
     "output_type": "execute_result"
    }
   ],
   "source": [
    "## show the average length of the messages\n",
    "lengths = []\n",
    "df = df[:20000]\n",
    "for i in range(len(df)):\n",
    "    lengths.append(len(df[\"messages_pl\"].iloc[i]))\n",
    "sum(lengths)/len(lengths)"
   ]
  }
 ],
 "metadata": {
  "kernelspec": {
   "display_name": "krakowiak",
   "language": "python",
   "name": "python3"
  },
  "language_info": {
   "codemirror_mode": {
    "name": "ipython",
    "version": 3
   },
   "file_extension": ".py",
   "mimetype": "text/x-python",
   "name": "python",
   "nbconvert_exporter": "python",
   "pygments_lexer": "ipython3",
   "version": "3.12.0"
  }
 },
 "nbformat": 4,
 "nbformat_minor": 2
}
