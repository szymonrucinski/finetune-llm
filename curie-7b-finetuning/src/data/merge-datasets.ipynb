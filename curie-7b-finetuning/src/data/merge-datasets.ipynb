{
 "cells": [
  {
   "cell_type": "code",
   "execution_count": 2,
   "metadata": {},
   "outputs": [],
   "source": [
    "from datasets import load_dataset\n",
    "import tqdm\n",
    "import pandas as pd\n",
    "from transformers import pipeline\n",
    "import random as rand\n",
    "from datasets import load_dataset\n",
    "from datasets import Dataset, DatasetDict\n",
    "from collections import OrderedDict\n",
    "from transformers import logging\n",
    "\n",
    "logging.set_verbosity_error()\n"
   ]
  },
  {
   "cell_type": "code",
   "execution_count": 3,
   "metadata": {},
   "outputs": [],
   "source": [
    "USER_TAG = '<|Użytkownik|>: '\n",
    "ASSISTANT_TAG = '<|Asystent|>: '\n",
    "CUT_OFF_THRESHOLD = 0.85"
   ]
  },
  {
   "cell_type": "markdown",
   "metadata": {},
   "source": [
    "### QA - Process Klej_dyk"
   ]
  },
  {
   "cell_type": "code",
   "execution_count": 4,
   "metadata": {},
   "outputs": [],
   "source": [
    "klej_dyk = load_dataset(\"allegro/klej-dyk\")\n",
    "klej_dyk_df_train = klej_dyk['train'].to_pandas()\n",
    "klej_dyk_df_test = klej_dyk['test'].to_pandas()\n",
    "# combine train and test\n",
    "klej_dyk_df = pd.concat([klej_dyk_df_train, klej_dyk_df_test], ignore_index=True)\n",
    "klej_dyk_df = klej_dyk_df[klej_dyk_df[\"target\"]==1][[\"question\",\"answer\"]]\n",
    "klej_dyk_df[\"question\"] = klej_dyk_df[\"question\"].str.capitalize()\n",
    "#### CREATE PROMPTS\n",
    "klej_dyk_df[\"question\"] = USER_TAG + klej_dyk_df[\"question\"]\n",
    "klej_dyk_df[\"answer\"] =  ASSISTANT_TAG + klej_dyk_df[\"answer\"]\n",
    "#### PROMPTS\n",
    "prompts_klej_dyk = klej_dyk_df[\"question\"] + klej_dyk_df[\"answer\"]\n",
    "prompts_klej_dyk = pd.DataFrame(prompts_klej_dyk, columns=[\"text\"]).reset_index(drop=True)\n",
    "prompts_klej_dyk[\"trans_score\"] = 1.0"
   ]
  },
  {
   "cell_type": "markdown",
   "metadata": {},
   "source": [
    "### Process GPT-EXAM"
   ]
  },
  {
   "cell_type": "code",
   "execution_count": 5,
   "metadata": {},
   "outputs": [
    {
     "data": {
      "text/html": [
       "<div>\n",
       "<style scoped>\n",
       "    .dataframe tbody tr th:only-of-type {\n",
       "        vertical-align: middle;\n",
       "    }\n",
       "\n",
       "    .dataframe tbody tr th {\n",
       "        vertical-align: top;\n",
       "    }\n",
       "\n",
       "    .dataframe thead th {\n",
       "        text-align: right;\n",
       "    }\n",
       "</style>\n",
       "<table border=\"1\" class=\"dataframe\">\n",
       "  <thead>\n",
       "    <tr style=\"text-align: right;\">\n",
       "      <th></th>\n",
       "      <th>text</th>\n",
       "      <th>trans_score</th>\n",
       "    </tr>\n",
       "  </thead>\n",
       "  <tbody>\n",
       "  </tbody>\n",
       "</table>\n",
       "</div>"
      ],
      "text/plain": [
       "Empty DataFrame\n",
       "Columns: [text, trans_score]\n",
       "Index: []"
      ]
     },
     "execution_count": 5,
     "metadata": {},
     "output_type": "execute_result"
    }
   ],
   "source": [
    "gpt_exam = load_dataset(\"sdadas/gpt-exams\")\n",
    "gpt_exam_df = gpt_exam['train'].to_pandas()\n",
    "#### CREATE PROMPTS\n",
    "gpt_exam_df[\"question\"] = USER_TAG + gpt_exam_df[\"question\"]\n",
    "gpt_exam_df[\"answer\"] = ASSISTANT_TAG + gpt_exam_df[\"answer\"]\n",
    "#### PROMPTS\n",
    "prompts_gpt_exam = gpt_exam_df[\"question\"] + gpt_exam_df[\"answer\"]\n",
    "prompts_gpt_exam = pd.DataFrame(prompts_gpt_exam, columns=[\"text\"]).reset_index(drop=True)\n",
    "prompts_gpt_exam[\"trans_score\"] = 1.0\n",
    "prompts_gpt_exam[prompts_gpt_exam[\"text\"].str.contains(\"Zagrajmy w grę fizz-buzz.\")]\n"
   ]
  },
  {
   "cell_type": "markdown",
   "metadata": {},
   "source": [
    "### Guanco"
   ]
  },
  {
   "cell_type": "code",
   "execution_count": 6,
   "metadata": {},
   "outputs": [],
   "source": [
    "# oa_guanco = load_dataset(\"timdettmers/openassistant-guanaco\")\n",
    "# oa_guanco_df = oa_guanco['train'].to_pandas()\n",
    "\n",
    "# pipe = pipeline(\"text-classification\", model=\"papluca/xlm-roberta-base-language-detection\", truncation=True, max_length=128)\n",
    "# oa_guanco_en = []\n",
    "# for i,text in enumerate(tqdm.tqdm(oa_guanco_df[\"text\"])):\n",
    "#     if pipe(text)[0][\"label\"] == \"en\":\n",
    "#         oa_guanco_en.append(text)\n",
    "\n",
    "# ### temp df\n",
    "# df = pd.DataFrame(oa_guanco_en, columns=[\"text\"])\n",
    "# df = df[~df[\"text\"].str.contains(\"Open Assistant\")]\n",
    "# df = df[~df[\"text\"].str.contains(\"grammar\")]\n",
    "# df = df[~df[\"text\"].str.contains(\"Re-write this sentence\")]\n",
    "# df = df[~df[\"text\"].str.contains(\"Rewrite\")]\n",
    "\n",
    "# ## replace ### Asystent with <ASYSTENT_TAG>\n",
    "# df[\"text\"] = df[\"text\"].str.replace(\"### Assistant\", \"<ASYSTENT_TAG>\")\n",
    "# ## replace ### Użytkownik with <USER_TAG>\n",
    "# df[\"text\"] = df[\"text\"].str.replace(\"### Human\", \"<USER_TAG>\")\n",
    "\n",
    "# df.to_csv(\"../data/en/oa_guanco_en.csv\", index=False)\n",
    "\n",
    "## replace ### Asystent with <ASYSTENT_TAG>\n",
    "# df[\"text\"] = df[\"text\"].str.replace(\"### Assistant\", \"<ASYSTENT_TAG>\")\n",
    "# ## replace ### Użytkownik with <USER_TAG>\n",
    "# df[\"text\"] = df[\"text\"].str.replace(\"### Human\", \"<USER_TAG>\")\n",
    "# df.to_csv(\"../data/en/oa_guanco_en.csv\", index=False)\n",
    "\n",
    "# oa_translated_df = pd.read_csv(\"oa_dataset_translated.csv\")\n",
    "# oa_translated_df = oa_translated_df[\"translation\"]\n",
    "# ## create new column in new df named oa_prompts with translation\n",
    "# oa_translated_df = oa_translated_df.str.replace(\"<ASYSTENT_TAG>\", \"### Asystent\")\n",
    "# prompts_oa = oa_translated_df.str.replace(\"<USER_TAG>\", \"### Użytkownik\")"
   ]
  },
  {
   "cell_type": "markdown",
   "metadata": {},
   "source": [
    "#### Dolly 15K"
   ]
  },
  {
   "cell_type": "code",
   "execution_count": 7,
   "metadata": {},
   "outputs": [],
   "source": [
    "# dolly = load_dataset(\"databricks/databricks-dolly-15k\")\n",
    "# dolly_train_df = dolly['train'].to_pandas()\n",
    "# # to csv\n",
    "# dolly_train_df.to_csv(\"../data/en/dolly_train.csv\", index=False)"
   ]
  },
  {
   "cell_type": "markdown",
   "metadata": {},
   "source": [
    "### QA - with context - Process clarin-pl/poquad"
   ]
  },
  {
   "cell_type": "code",
   "execution_count": 8,
   "metadata": {},
   "outputs": [],
   "source": [
    "poquad = load_dataset(\"clarin-pl/poquad\")\n",
    "poquad_df_train = poquad['train'].to_pandas()\n",
    "poquad_df_test = poquad['validation'].to_pandas()\n",
    "poquad_df = pd.concat([poquad_df_train, poquad_df_test], ignore_index=True)\n",
    "poquad_df = poquad_df.drop_duplicates(subset=[\"title\"]).reset_index(drop=True)\n",
    "poquad_df[\"answers\"] = poquad_df[\"answers\"].apply(lambda x: x[\"text\"][0])\n",
    "poquad_df[\"answers\"] = poquad_df[\"answers\"].str.capitalize()\n",
    "poquad_df = poquad_df[[\"context\",\"question\",\"answers\"]]\n",
    "poquad_df\n",
    "#### CREATE PROMPTS\n",
    "poquad_df[\"question_uzytownik\"] = USER_TAG + poquad_df[\"question\"]\n",
    "poquad_df[\"answer_asystent\"] = ASSISTANT_TAG + poquad_df[\"answers\"]\n"
   ]
  },
  {
   "cell_type": "markdown",
   "metadata": {},
   "source": [
    "### Process poleval_2019_mt"
   ]
  },
  {
   "cell_type": "code",
   "execution_count": 9,
   "metadata": {},
   "outputs": [
    {
     "name": "stderr",
     "output_type": "stream",
     "text": [
      "/var/folders/fn/clqd998j3vn03yyqqybzkq240000gn/T/ipykernel_19529/2628335791.py:9: SettingWithCopyWarning: \n",
      "A value is trying to be set on a copy of a slice from a DataFrame.\n",
      "Try using .loc[row_indexer,col_indexer] = value instead\n",
      "\n",
      "See the caveats in the documentation: https://pandas.pydata.org/pandas-docs/stable/user_guide/indexing.html#returning-a-view-versus-a-copy\n",
      "  opus100_df_en_pl[\"prompt\"] = \"### Użytkownik: Przetłumacz dany tekst z języka Angielskiego na Polski. \" + opus100_df_en_pl[\"en\"] + \"### Asystent: \" + opus100_df_en_pl[\"pl\"]\n",
      "/var/folders/fn/clqd998j3vn03yyqqybzkq240000gn/T/ipykernel_19529/2628335791.py:12: SettingWithCopyWarning: \n",
      "A value is trying to be set on a copy of a slice from a DataFrame.\n",
      "Try using .loc[row_indexer,col_indexer] = value instead\n",
      "\n",
      "See the caveats in the documentation: https://pandas.pydata.org/pandas-docs/stable/user_guide/indexing.html#returning-a-view-versus-a-copy\n",
      "  opus100_df_pl_en[\"prompt\"] = \"### Użytkownik: Przetłumacz dany tekst z języka Polskiego na Angielski. \" + opus100_df[\"pl\"] + \"### Asystent: \" + opus100_df[\"en\"]\n"
     ]
    }
   ],
   "source": [
    "opus100 = load_dataset(\"opus100\", \"en-pl\")\n",
    "opus100_df = opus100['validation'].to_pandas()\n",
    "#get data from dictonary inside column translation\n",
    "opus100_df[\"en\"] = opus100_df[\"translation\"].apply(lambda x: x[\"en\"])\n",
    "opus100_df[\"pl\"] = opus100_df[\"translation\"].apply(lambda x: x[\"pl\"])\n",
    "## przetłumacz teksty z angielskiego na polski z pierwszego 1000 wierszy\n",
    "# Take first 1000 rows\n",
    "opus100_df_en_pl = opus100_df[:1000]\n",
    "opus100_df_en_pl[\"prompt\"] = \"### Użytkownik: Przetłumacz dany tekst z języka Angielskiego na Polski. \" + opus100_df_en_pl[\"en\"] + \"### Asystent: \" + opus100_df_en_pl[\"pl\"]\n",
    "\n",
    "opus100_df_pl_en = opus100_df[1000:2000]\n",
    "opus100_df_pl_en[\"prompt\"] = \"### Użytkownik: Przetłumacz dany tekst z języka Polskiego na Angielski. \" + opus100_df[\"pl\"] + \"### Asystent: \" + opus100_df[\"en\"]\n",
    "\n",
    "#### concat \n",
    "prompts_opus100 = pd.concat([opus100_df_en_pl[\"prompt\"], opus100_df_pl_en[\"prompt\"]], ignore_index=True)\n",
    "# reset index\n",
    "prompts_opus100 = prompts_opus100.reset_index(drop=True)\n"
   ]
  },
  {
   "cell_type": "markdown",
   "metadata": {},
   "source": [
    "# JOIN DATA"
   ]
  },
  {
   "cell_type": "markdown",
   "metadata": {},
   "source": [
    "### JOIN dolly prompts"
   ]
  },
  {
   "cell_type": "code",
   "execution_count": 10,
   "metadata": {},
   "outputs": [
    {
     "data": {
      "text/html": [
       "<div>\n",
       "<style scoped>\n",
       "    .dataframe tbody tr th:only-of-type {\n",
       "        vertical-align: middle;\n",
       "    }\n",
       "\n",
       "    .dataframe tbody tr th {\n",
       "        vertical-align: top;\n",
       "    }\n",
       "\n",
       "    .dataframe thead th {\n",
       "        text-align: right;\n",
       "    }\n",
       "</style>\n",
       "<table border=\"1\" class=\"dataframe\">\n",
       "  <thead>\n",
       "    <tr style=\"text-align: right;\">\n",
       "      <th></th>\n",
       "      <th>text</th>\n",
       "      <th>trans_score</th>\n",
       "    </tr>\n",
       "  </thead>\n",
       "  <tbody>\n",
       "  </tbody>\n",
       "</table>\n",
       "</div>"
      ],
      "text/plain": [
       "Empty DataFrame\n",
       "Columns: [text, trans_score]\n",
       "Index: []"
      ]
     },
     "execution_count": 10,
     "metadata": {},
     "output_type": "execute_result"
    }
   ],
   "source": [
    "### Load translated dataset\n",
    "dolly_translated_df = pd.read_csv(\"../../data/pl_eval/dolly_pl.csv\")\n",
    "# dolly_translated_df = dolly_translated_df[dolly_translated_df[\"trans_score_pl\"] >= CUT_OFF_THRESHOLD]\n",
    "dolly_translated_df[\"text\"] = ''\n",
    "# join prompts\n",
    "for i, row in dolly_translated_df.iterrows():\n",
    "    dolly_translated_df.at[i,\"text\"] = USER_TAG + row[\"instruction_pl\"] + ' '+row[\"context_pl\"] + ASSISTANT_TAG + row[\"response_pl\"]\n",
    "    # dolly_translated_df.at[i,\"text\"] = USER_TAG + row[\"instruction_pl\"] + f\"\\n{synonimy_do_tekst_źródłowy[i%len(synonimy_do_tekst_źródłowy)]}\\n\" + row[\"context_pl\"] + ASSISTANT_TAG + row[\"response_pl\"]\n",
    "# rename column to text\n",
    "dolly_translated_df.reset_index(drop=True, inplace=True)\n",
    "dolly_translated_df = dolly_translated_df[[\"text\",\"trans_score_pl\"]]\n",
    "dolly_translated_df.columns = [\"text\",\"trans_score\"]\n",
    "dolly_translated_df\n",
    "## find rows that have string <ASYSTENT_TAG> in them\n",
    "dolly_translated_df[dolly_translated_df['text'].str.contains(\"<ASYSTENT_TAG>\")]\n",
    "dolly_translated_df[dolly_translated_df[\"text\"].str.contains(\"Zagrajmy w grę fizz-buzz.\")]\n",
    "\n"
   ]
  },
  {
   "cell_type": "markdown",
   "metadata": {},
   "source": [
    "#### JOIN GUANCO PROMPTS"
   ]
  },
  {
   "cell_type": "code",
   "execution_count": 11,
   "metadata": {},
   "outputs": [
    {
     "data": {
      "text/html": [
       "<div>\n",
       "<style scoped>\n",
       "    .dataframe tbody tr th:only-of-type {\n",
       "        vertical-align: middle;\n",
       "    }\n",
       "\n",
       "    .dataframe tbody tr th {\n",
       "        vertical-align: top;\n",
       "    }\n",
       "\n",
       "    .dataframe thead th {\n",
       "        text-align: right;\n",
       "    }\n",
       "</style>\n",
       "<table border=\"1\" class=\"dataframe\">\n",
       "  <thead>\n",
       "    <tr style=\"text-align: right;\">\n",
       "      <th></th>\n",
       "      <th>text</th>\n",
       "      <th>trans_score</th>\n",
       "    </tr>\n",
       "  </thead>\n",
       "  <tbody>\n",
       "    <tr>\n",
       "      <th>0</th>\n",
       "      <td>&lt;|Użytkownik|&gt;:  Czy możesz napisać krótkie wp...</td>\n",
       "      <td>0.5953</td>\n",
       "    </tr>\n",
       "    <tr>\n",
       "      <th>1</th>\n",
       "      <td>&lt;|Użytkownik|&gt;:  Jak mogę nauczyć się optymali...</td>\n",
       "      <td>0.7000</td>\n",
       "    </tr>\n",
       "    <tr>\n",
       "      <th>2</th>\n",
       "      <td>&lt;|Użytkownik|&gt;:  Słuchałem symfonii “Nowy Świa...</td>\n",
       "      <td>0.7543</td>\n",
       "    </tr>\n",
       "    <tr>\n",
       "      <th>3</th>\n",
       "      <td>&lt;|Użytkownik|&gt;:  Używam docker compose i muszę...</td>\n",
       "      <td>0.7683</td>\n",
       "    </tr>\n",
       "    <tr>\n",
       "      <th>4</th>\n",
       "      <td>&lt;|Użytkownik|&gt;:  Tworzę backend NodeJS przy uż...</td>\n",
       "      <td>0.6548</td>\n",
       "    </tr>\n",
       "    <tr>\n",
       "      <th>...</th>\n",
       "      <td>...</td>\n",
       "      <td>...</td>\n",
       "    </tr>\n",
       "    <tr>\n",
       "      <th>2241</th>\n",
       "      <td>&lt;|Użytkownik|&gt;:  Napisz mi skrypt w pythonie, ...</td>\n",
       "      <td>0.7959</td>\n",
       "    </tr>\n",
       "    <tr>\n",
       "      <th>2242</th>\n",
       "      <td>&lt;|Użytkownik|&gt;:  Jak używać modułów w pythonie...</td>\n",
       "      <td>0.5153</td>\n",
       "    </tr>\n",
       "    <tr>\n",
       "      <th>2243</th>\n",
       "      <td>&lt;|Użytkownik|&gt;:  Czy znasz Game Creator 2, atu...</td>\n",
       "      <td>0.8085</td>\n",
       "    </tr>\n",
       "    <tr>\n",
       "      <th>2244</th>\n",
       "      <td>&lt;|Użytkownik|&gt;:  Jakie są główne czynniki wpły...</td>\n",
       "      <td>0.6401</td>\n",
       "    </tr>\n",
       "    <tr>\n",
       "      <th>2245</th>\n",
       "      <td>&lt;|Użytkownik|&gt;:  Jakie są zagrożenia, jeśli ni...</td>\n",
       "      <td>0.6032</td>\n",
       "    </tr>\n",
       "  </tbody>\n",
       "</table>\n",
       "<p>2246 rows × 2 columns</p>\n",
       "</div>"
      ],
      "text/plain": [
       "                                                   text  trans_score\n",
       "0     <|Użytkownik|>:  Czy możesz napisać krótkie wp...       0.5953\n",
       "1     <|Użytkownik|>:  Jak mogę nauczyć się optymali...       0.7000\n",
       "2     <|Użytkownik|>:  Słuchałem symfonii “Nowy Świa...       0.7543\n",
       "3     <|Użytkownik|>:  Używam docker compose i muszę...       0.7683\n",
       "4     <|Użytkownik|>:  Tworzę backend NodeJS przy uż...       0.6548\n",
       "...                                                 ...          ...\n",
       "2241  <|Użytkownik|>:  Napisz mi skrypt w pythonie, ...       0.7959\n",
       "2242  <|Użytkownik|>:  Jak używać modułów w pythonie...       0.5153\n",
       "2243  <|Użytkownik|>:  Czy znasz Game Creator 2, atu...       0.8085\n",
       "2244  <|Użytkownik|>:  Jakie są główne czynniki wpły...       0.6401\n",
       "2245  <|Użytkownik|>:  Jakie są zagrożenia, jeśli ni...       0.6032\n",
       "\n",
       "[2246 rows x 2 columns]"
      ]
     },
     "execution_count": 11,
     "metadata": {},
     "output_type": "execute_result"
    }
   ],
   "source": [
    "guanco_translated_df = pd.read_csv(\"../../data/pl_eval/guanco_pl.csv\")\n",
    "\n",
    "guanco_translated_df[\"text_pl\"] = guanco_translated_df[\"text_pl\"].str.replace(\"<ASYSTENT_TAG>: \", ASSISTANT_TAG)\n",
    "guanco_translated_df[\"text_pl\"] = guanco_translated_df[\"text_pl\"].str.replace(\"<ASYSTENT_TAG>:\", ASSISTANT_TAG)\n",
    "guanco_translated_df[\"text_pl\"] = guanco_translated_df[\"text_pl\"].str.replace(\"<ASYSTENT_TAG>\", ASSISTANT_TAG)\n",
    "guanco_translated_df[\"text_pl\"] = guanco_translated_df[\"text_pl\"].str.replace(\"<USER_TAG>:\", USER_TAG)\n",
    "guanco_translated_df[\"text\"] = guanco_translated_df[\"text_pl\"].str.replace(\"<USER_TAG>: \", USER_TAG)\n",
    "guanco_translated_df[\"text\"] = guanco_translated_df[\"text\"].str.replace(\"Open Assistant\", \"Krakowiak\")\n",
    "# guanco_translated_df = guanco_translated_df[guanco_translated_df[\"trans_score_pl\"] >= CUT_OFF_THRESHOLD][\"text\"]\n",
    "guanco_translated_df.reset_index(drop=True, inplace=True)\n",
    "guanco_translated_df\n",
    "guanco_translated_df = pd.DataFrame(guanco_translated_df, columns=[\"text\",\"trans_score_pl\"])\n",
    "guanco_translated_df.columns = [\"text\",\"trans_score\"]\n",
    "guanco_translated_df\n",
    "\n"
   ]
  },
  {
   "cell_type": "code",
   "execution_count": null,
   "metadata": {},
   "outputs": [],
   "source": [
    "guanco_translated_df.iloc[106][\"text\"]"
   ]
  },
  {
   "cell_type": "code",
   "execution_count": null,
   "metadata": {},
   "outputs": [],
   "source": [
    "# def remove_after_second_occurrence_from_right(input_string, substring):\n",
    "#     parts = input_string.rsplit(substring, 2)\n",
    "#     if len(parts) == 3:\n",
    "#         result_string = parts[0] + substring + parts[1]\n",
    "#         return result_string\n",
    "#     else:\n",
    "#         return input_string\n",
    "\n",
    "# input_string = guanco_translated_df.iloc[5]\n",
    "# substring = USER_TAG\n",
    "\n",
    "# result = remove_after_second_occurrence_from_right(input_string, substring)\n",
    "# print(result)\n"
   ]
  },
  {
   "cell_type": "markdown",
   "metadata": {},
   "source": [
    "### JOIN OS WIZARD PROMPTS"
   ]
  },
  {
   "cell_type": "code",
   "execution_count": 13,
   "metadata": {},
   "outputs": [],
   "source": [
    "os_wizard = pd.read_csv(\"../../data/pl_eval/oa_wizard_pl.csv\")\n",
    "os_wizard[\"text_pl\"] = os_wizard[\"text_pl\"].str.replace(\"<ASYSTENT_TAG>:\", ASSISTANT_TAG)\n",
    "os_wizard[\"text\"] = os_wizard[\"text_pl\"].str.replace(\"<USER_TAG>:\", USER_TAG)\n",
    "# trans_score_pl >= 0.8 get those rows\n",
    "# os_wizard_translated_df = os_wizard[os_wizard[\"trans_score_pl\"] >= CUT_OFF_THRESHOLD][\"text\"]\n",
    "# os_wizard.reset_index(drop=True, inplace=True)\n",
    "os_wizard_translated_df = os_wizard[[\"text\",\"trans_score_pl\"]]\n",
    "os_wizard_translated_df.columns = [\"text\",\"trans_score\"]\n"
   ]
  },
  {
   "cell_type": "markdown",
   "metadata": {},
   "source": [
    "### Ultrachat"
   ]
  },
  {
   "cell_type": "code",
   "execution_count": 14,
   "metadata": {},
   "outputs": [
    {
     "data": {
      "text/html": [
       "<div>\n",
       "<style scoped>\n",
       "    .dataframe tbody tr th:only-of-type {\n",
       "        vertical-align: middle;\n",
       "    }\n",
       "\n",
       "    .dataframe tbody tr th {\n",
       "        vertical-align: top;\n",
       "    }\n",
       "\n",
       "    .dataframe thead th {\n",
       "        text-align: right;\n",
       "    }\n",
       "</style>\n",
       "<table border=\"1\" class=\"dataframe\">\n",
       "  <thead>\n",
       "    <tr style=\"text-align: right;\">\n",
       "      <th></th>\n",
       "      <th>text</th>\n",
       "      <th>trans_score</th>\n",
       "    </tr>\n",
       "  </thead>\n",
       "  <tbody>\n",
       "    <tr>\n",
       "      <th>0</th>\n",
       "      <td>&lt;|Użytkownik|&gt;: Czy istnieją szczególne korzyś...</td>\n",
       "      <td>0.8210</td>\n",
       "    </tr>\n",
       "    <tr>\n",
       "      <th>1</th>\n",
       "      <td>&lt;|Użytkownik|&gt;: Jaki procent powierzchni Ziemi...</td>\n",
       "      <td>0.8788</td>\n",
       "    </tr>\n",
       "    <tr>\n",
       "      <th>2</th>\n",
       "      <td>&lt;|Użytkownik|&gt;: Jaka jest obecnie najpopularni...</td>\n",
       "      <td>0.8619</td>\n",
       "    </tr>\n",
       "    <tr>\n",
       "      <th>3</th>\n",
       "      <td>&lt;|Użytkownik|&gt;: Czy mindful walking może być u...</td>\n",
       "      <td>0.8212</td>\n",
       "    </tr>\n",
       "    <tr>\n",
       "      <th>4</th>\n",
       "      <td>&lt;|Użytkownik|&gt;: Jak ten podręcznik wypada w po...</td>\n",
       "      <td>0.8555</td>\n",
       "    </tr>\n",
       "    <tr>\n",
       "      <th>...</th>\n",
       "      <td>...</td>\n",
       "      <td>...</td>\n",
       "    </tr>\n",
       "    <tr>\n",
       "      <th>135160</th>\n",
       "      <td>&lt;|Użytkownik|&gt;: Biorąc pod uwagę tekst: Piękna...</td>\n",
       "      <td>0.8160</td>\n",
       "    </tr>\n",
       "    <tr>\n",
       "      <th>135161</th>\n",
       "      <td>&lt;|Użytkownik|&gt;: Żadna z tych postaci nie należ...</td>\n",
       "      <td>0.8222</td>\n",
       "    </tr>\n",
       "    <tr>\n",
       "      <th>135162</th>\n",
       "      <td>&lt;|Użytkownik|&gt;: Proszę sparafrazować linijkę “...</td>\n",
       "      <td>0.7902</td>\n",
       "    </tr>\n",
       "    <tr>\n",
       "      <th>135163</th>\n",
       "      <td>&lt;|Użytkownik|&gt;: Edukacyjne i interaktywne kosz...</td>\n",
       "      <td>0.8551</td>\n",
       "    </tr>\n",
       "    <tr>\n",
       "      <th>135164</th>\n",
       "      <td>&lt;|Użytkownik|&gt;: Czy możesz sparafrazować zdani...</td>\n",
       "      <td>0.6895</td>\n",
       "    </tr>\n",
       "  </tbody>\n",
       "</table>\n",
       "<p>135165 rows × 2 columns</p>\n",
       "</div>"
      ],
      "text/plain": [
       "                                                     text  trans_score\n",
       "0       <|Użytkownik|>: Czy istnieją szczególne korzyś...       0.8210\n",
       "1       <|Użytkownik|>: Jaki procent powierzchni Ziemi...       0.8788\n",
       "2       <|Użytkownik|>: Jaka jest obecnie najpopularni...       0.8619\n",
       "3       <|Użytkownik|>: Czy mindful walking może być u...       0.8212\n",
       "4       <|Użytkownik|>: Jak ten podręcznik wypada w po...       0.8555\n",
       "...                                                   ...          ...\n",
       "135160  <|Użytkownik|>: Biorąc pod uwagę tekst: Piękna...       0.8160\n",
       "135161  <|Użytkownik|>: Żadna z tych postaci nie należ...       0.8222\n",
       "135162  <|Użytkownik|>: Proszę sparafrazować linijkę “...       0.7902\n",
       "135163  <|Użytkownik|>: Edukacyjne i interaktywne kosz...       0.8551\n",
       "135164  <|Użytkownik|>: Czy możesz sparafrazować zdani...       0.6895\n",
       "\n",
       "[135165 rows x 2 columns]"
      ]
     },
     "execution_count": 14,
     "metadata": {},
     "output_type": "execute_result"
    }
   ],
   "source": [
    "ultrachat_df = pd.read_csv(\"../../data/pl_eval/ultrachat_pl.csv\")\n",
    "## select rows wherte trans_score_pl >= 0.8\n",
    "# ultrachat_translated_df = ultrachat_df[ultrachat_df[\"trans_score_pl\"] >= CUT_OFF_THRESHOLD][\"text_pl\"].reset_index(drop=True)\n",
    "# replace tag\n",
    "ultrachat_df[\"text\"] = ultrachat_df[\"text_pl\"].str.replace(\"<ASSISTANT_TAG>: \", ASSISTANT_TAG)\n",
    "ultrachat_df[\"text\"] = ultrachat_df[\"text\"].str.replace(\"<USER_TAG>: \", USER_TAG)\n",
    "ultrachat_translated_df = ultrachat_df[[\"text\",\"trans_score_pl\"]]\n",
    "ultrachat_translated_df.columns = [\"text\",\"trans_score\"]\n",
    "ultrachat_translated_df"
   ]
  },
  {
   "cell_type": "code",
   "execution_count": 15,
   "metadata": {},
   "outputs": [
    {
     "data": {
      "text/plain": [
       "text           <|Użytkownik|>: Które księgi Biblii są uważane...\n",
       "trans_score                                               0.8508\n",
       "Name: 57776, dtype: object"
      ]
     },
     "execution_count": 15,
     "metadata": {},
     "output_type": "execute_result"
    }
   ],
   "source": [
    "ultrachat_translated_df.iloc[rand.randint(0, len(ultrachat_translated_df))]"
   ]
  },
  {
   "cell_type": "code",
   "execution_count": 16,
   "metadata": {},
   "outputs": [
    {
     "data": {
      "text/plain": [
       "text           <|Użytkownik|>: Jakie choroby genetyczne dzied...\n",
       "trans_score                                                  1.0\n",
       "Name: 0, dtype: object"
      ]
     },
     "execution_count": 16,
     "metadata": {},
     "output_type": "execute_result"
    }
   ],
   "source": [
    "prompts_klej_dyk.iloc[0]"
   ]
  },
  {
   "cell_type": "code",
   "execution_count": 17,
   "metadata": {},
   "outputs": [
    {
     "data": {
      "text/plain": [
       "text           <|Użytkownik|>: Kim był Donatello i jakie są j...\n",
       "trans_score                                                  1.0\n",
       "Name: 0, dtype: object"
      ]
     },
     "execution_count": 17,
     "metadata": {},
     "output_type": "execute_result"
    }
   ],
   "source": [
    "prompts_gpt_exam.iloc[0]"
   ]
  },
  {
   "cell_type": "code",
   "execution_count": null,
   "metadata": {},
   "outputs": [],
   "source": [
    "prompts_opus100.iloc[0]"
   ]
  },
  {
   "cell_type": "code",
   "execution_count": null,
   "metadata": {},
   "outputs": [],
   "source": [
    "os_wizard_translated_df.iloc[0]"
   ]
  },
  {
   "cell_type": "code",
   "execution_count": null,
   "metadata": {},
   "outputs": [],
   "source": [
    "dolly_translated_df.iloc[0]"
   ]
  },
  {
   "cell_type": "code",
   "execution_count": null,
   "metadata": {},
   "outputs": [],
   "source": [
    "ultrachat_translated_df.iloc[0]"
   ]
  },
  {
   "cell_type": "code",
   "execution_count": 18,
   "metadata": {},
   "outputs": [
    {
     "data": {
      "text/html": [
       "<div>\n",
       "<style scoped>\n",
       "    .dataframe tbody tr th:only-of-type {\n",
       "        vertical-align: middle;\n",
       "    }\n",
       "\n",
       "    .dataframe tbody tr th {\n",
       "        vertical-align: top;\n",
       "    }\n",
       "\n",
       "    .dataframe thead th {\n",
       "        text-align: right;\n",
       "    }\n",
       "</style>\n",
       "<table border=\"1\" class=\"dataframe\">\n",
       "  <thead>\n",
       "    <tr style=\"text-align: right;\">\n",
       "      <th></th>\n",
       "      <th>text</th>\n",
       "      <th>trans_score</th>\n",
       "    </tr>\n",
       "  </thead>\n",
       "  <tbody>\n",
       "    <tr>\n",
       "      <th>0</th>\n",
       "      <td>&lt;|Użytkownik|&gt;: Które narodowe drużyny rugby o...</td>\n",
       "      <td>0.8786</td>\n",
       "    </tr>\n",
       "    <tr>\n",
       "      <th>1</th>\n",
       "      <td>&lt;|Użytkownik|&gt;: Ile jaj zazwyczaj składa klaun...</td>\n",
       "      <td>0.8697</td>\n",
       "    </tr>\n",
       "    <tr>\n",
       "      <th>2</th>\n",
       "      <td>&lt;|Użytkownik|&gt;: Czy możesz polecić rodzaj muzy...</td>\n",
       "      <td>0.8617</td>\n",
       "    </tr>\n",
       "    <tr>\n",
       "      <th>3</th>\n",
       "      <td>&lt;|Użytkownik|&gt;: Jakie są długoterminowe perspe...</td>\n",
       "      <td>0.8396</td>\n",
       "    </tr>\n",
       "    <tr>\n",
       "      <th>4</th>\n",
       "      <td>&lt;|Użytkownik|&gt;: Jakie są najpopularniejsze alg...</td>\n",
       "      <td>1.0000</td>\n",
       "    </tr>\n",
       "    <tr>\n",
       "      <th>...</th>\n",
       "      <td>...</td>\n",
       "      <td>...</td>\n",
       "    </tr>\n",
       "    <tr>\n",
       "      <th>159015</th>\n",
       "      <td>&lt;|Użytkownik|&gt;: Jak długo zazwyczaj trwa dołąc...</td>\n",
       "      <td>0.7560</td>\n",
       "    </tr>\n",
       "    <tr>\n",
       "      <th>159016</th>\n",
       "      <td>&lt;|Użytkownik|&gt;: Czy konieczne jest posiadanie ...</td>\n",
       "      <td>0.8245</td>\n",
       "    </tr>\n",
       "    <tr>\n",
       "      <th>159017</th>\n",
       "      <td>&lt;|Użytkownik|&gt;: W jaki sposób Sahitya Akademi ...</td>\n",
       "      <td>0.8395</td>\n",
       "    </tr>\n",
       "    <tr>\n",
       "      <th>159018</th>\n",
       "      <td>&lt;|Użytkownik|&gt;: Jakie są główne elementy rosyj...</td>\n",
       "      <td>1.0000</td>\n",
       "    </tr>\n",
       "    <tr>\n",
       "      <th>159019</th>\n",
       "      <td>&lt;|Użytkownik|&gt;: 2. Nazwy użytkowników muszą sk...</td>\n",
       "      <td>0.8469</td>\n",
       "    </tr>\n",
       "  </tbody>\n",
       "</table>\n",
       "<p>159020 rows × 2 columns</p>\n",
       "</div>"
      ],
      "text/plain": [
       "                                                     text  trans_score\n",
       "0       <|Użytkownik|>: Które narodowe drużyny rugby o...       0.8786\n",
       "1       <|Użytkownik|>: Ile jaj zazwyczaj składa klaun...       0.8697\n",
       "2       <|Użytkownik|>: Czy możesz polecić rodzaj muzy...       0.8617\n",
       "3       <|Użytkownik|>: Jakie są długoterminowe perspe...       0.8396\n",
       "4       <|Użytkownik|>: Jakie są najpopularniejsze alg...       1.0000\n",
       "...                                                   ...          ...\n",
       "159015  <|Użytkownik|>: Jak długo zazwyczaj trwa dołąc...       0.7560\n",
       "159016  <|Użytkownik|>: Czy konieczne jest posiadanie ...       0.8245\n",
       "159017  <|Użytkownik|>: W jaki sposób Sahitya Akademi ...       0.8395\n",
       "159018  <|Użytkownik|>: Jakie są główne elementy rosyj...       1.0000\n",
       "159019  <|Użytkownik|>: 2. Nazwy użytkowników muszą sk...       0.8469\n",
       "\n",
       "[159020 rows x 2 columns]"
      ]
     },
     "execution_count": 18,
     "metadata": {},
     "output_type": "execute_result"
    }
   ],
   "source": [
    "## concat all prompts\n",
    "prompts = pd.concat([prompts_klej_dyk, prompts_gpt_exam, os_wizard_translated_df, guanco_translated_df, dolly_translated_df, ultrachat_translated_df], ignore_index=True)\n",
    "## shuffle rows in prompts \n",
    "prompts = prompts.sample(frac=1, random_state=1).reset_index(drop=True)\n",
    "## add column NAMED text\n",
    "prompts[\"text\"] = prompts[\"text\"].str.replace(\"<USER_TAG>:\", USER_TAG)\n",
    "prompts[\"text\"] = prompts[\"text\"].str.replace(\"<ASSISTANT_TAG>\", ASSISTANT_TAG)\n",
    "\n",
    "# prompts = pd.DataFrame(prompts, columns=[\"text\",\"trans_score\"])\n",
    "prompts"
   ]
  },
  {
   "cell_type": "code",
   "execution_count": 19,
   "metadata": {},
   "outputs": [],
   "source": [
    "# prompts.iloc[44]['text'].split(ASSISTANT_TAG)\n",
    "# prompts.iloc[44]['text'].split(USER_TAG)\n",
    "for i, row in prompts.iterrows():\n",
    "    try:\n",
    "        prompts.iloc[i]['text'].split(ASSISTANT_TAG)[0] + ASSISTANT_TAG + prompts.iloc[i]['text'].split(USER_TAG)[1]\n",
    "    except:\n",
    "        print(i)"
   ]
  },
  {
   "cell_type": "code",
   "execution_count": null,
   "metadata": {},
   "outputs": [],
   "source": [
    "# prompts.iloc[45]['text'].split(ASSISTANT_TAG)[1]\n",
    "prompts.iloc[45]['text'].split(ASSISTANT_TAG)[0].replace(USER_TAG, \"\")"
   ]
  },
  {
   "cell_type": "code",
   "execution_count": null,
   "metadata": {},
   "outputs": [],
   "source": [
    "prompts.iloc[45]"
   ]
  },
  {
   "cell_type": "code",
   "execution_count": null,
   "metadata": {},
   "outputs": [],
   "source": [
    "prompts.iloc[103101][\"text\"]"
   ]
  },
  {
   "cell_type": "code",
   "execution_count": null,
   "metadata": {},
   "outputs": [],
   "source": [
    "init_prompts"
   ]
  },
  {
   "cell_type": "code",
   "execution_count": 20,
   "metadata": {},
   "outputs": [
    {
     "name": "stderr",
     "output_type": "stream",
     "text": [
      "100%|██████████| 159020/159020 [00:08<00:00, 19484.02it/s]"
     ]
    },
    {
     "name": "stdout",
     "output_type": "stream",
     "text": [
      "158911 109\n"
     ]
    },
    {
     "name": "stderr",
     "output_type": "stream",
     "text": [
      "\n"
     ]
    }
   ],
   "source": [
    "init_prompts = prompts\n",
    "bad_examples = []\n",
    "arr = []\n",
    "scores = []\n",
    "for i in tqdm.tqdm(range(0, len(init_prompts)), total=len(init_prompts)):\n",
    "    try:\n",
    "        user_quotes = OrderedDict()\n",
    "        user_quotes[\"role\"] = \"user\"\n",
    "        user_quotes[\"content\"] = prompts.iloc[i]['text'].split(ASSISTANT_TAG)[0].replace(USER_TAG, \"\")\n",
    "        ###\n",
    "        assistant_quotes =  OrderedDict()\n",
    "        assistant_quotes[\"role\"] = \"assistant\"\n",
    "        assistant_quotes[\"content\"] = prompts.iloc[i]['text'].split(ASSISTANT_TAG)[1]\n",
    "\n",
    "        prompt = [user_quotes, assistant_quotes]\n",
    "        arr.append(prompt)\n",
    "        scores.append(prompts.iloc[i]['trans_score'])\n",
    "    except:\n",
    "        bad_examples.append(i)\n",
    "\n",
    "full_prompts = pd.DataFrame([i]*len(arr), columns=[\"text\"])\n",
    "full_prompts[\"text\"] = arr\n",
    "print(len(full_prompts), len(bad_examples))"
   ]
  },
  {
   "cell_type": "markdown",
   "metadata": {},
   "source": [
    "### Post to huggingface dataset"
   ]
  },
  {
   "cell_type": "code",
   "execution_count": 21,
   "metadata": {},
   "outputs": [],
   "source": [
    "full_prompts = pd.DataFrame.from_dict({\"text\":arr,\"trans_score\":scores})"
   ]
  },
  {
   "cell_type": "code",
   "execution_count": null,
   "metadata": {},
   "outputs": [],
   "source": [
    "full_prompts"
   ]
  },
  {
   "cell_type": "code",
   "execution_count": 22,
   "metadata": {},
   "outputs": [],
   "source": [
    "## select text where trans_score >= 0.8\n",
    "prompts_filtered = full_prompts[full_prompts[\"trans_score\"] >= 0.85].reset_index(drop=True)"
   ]
  },
  {
   "cell_type": "code",
   "execution_count": 25,
   "metadata": {},
   "outputs": [
    {
     "data": {
      "text/plain": [
       "[OrderedDict([('role', 'user'),\n",
       "              ('content',\n",
       "               ' Wygeneruj listę sześciu rzeczy, które przynoszą Ci radość.\\r\\n')]),\n",
       " OrderedDict([('role', 'assistant'),\n",
       "              ('content',\n",
       "               ' 1. Spędzanie czasu z rodziną i przyjaciółmi\\r\\n2. Słuchanie muzyki i taniec\\r\\n3. Czytanie dobrej książki\\r\\n4. Będąc w przyrodzie, czy to wędrówki, kemping, czy po prostu spacer\\r\\n5. Gotowanie i wypróbowywanie nowych przepisów\\r\\n6. Podróżuj i poznawaj nowe kultury i potrawy')])]"
      ]
     },
     "execution_count": 25,
     "metadata": {},
     "output_type": "execute_result"
    }
   ],
   "source": [
    "prompts_filtered.iloc[rand.randint(0, len(prompts_filtered))][\"text\"]"
   ]
  },
  {
   "cell_type": "code",
   "execution_count": null,
   "metadata": {},
   "outputs": [],
   "source": [
    "# ### get random 1000 rows from prompts with seed and put into validation df\n",
    "# prompts_sample = full_prompts.sample(n=1000, random_state=1)\n",
    "# prompts_sample = full_prompts.reset_index(drop=True)"
   ]
  },
  {
   "cell_type": "code",
   "execution_count": 26,
   "metadata": {},
   "outputs": [],
   "source": [
    "train = prompts_filtered[:len(prompts_filtered)-500].reset_index(drop=True)\n",
    "valid = prompts_filtered[len(prompts_filtered)-500:].reset_index(drop=True)"
   ]
  },
  {
   "cell_type": "code",
   "execution_count": 27,
   "metadata": {},
   "outputs": [
    {
     "data": {
      "text/html": [
       "<div>\n",
       "<style scoped>\n",
       "    .dataframe tbody tr th:only-of-type {\n",
       "        vertical-align: middle;\n",
       "    }\n",
       "\n",
       "    .dataframe tbody tr th {\n",
       "        vertical-align: top;\n",
       "    }\n",
       "\n",
       "    .dataframe thead th {\n",
       "        text-align: right;\n",
       "    }\n",
       "</style>\n",
       "<table border=\"1\" class=\"dataframe\">\n",
       "  <thead>\n",
       "    <tr style=\"text-align: right;\">\n",
       "      <th></th>\n",
       "      <th>text</th>\n",
       "      <th>trans_score</th>\n",
       "    </tr>\n",
       "  </thead>\n",
       "  <tbody>\n",
       "    <tr>\n",
       "      <th>0</th>\n",
       "      <td>[{'role': 'user', 'content': 'Które narodowe d...</td>\n",
       "      <td>0.8786</td>\n",
       "    </tr>\n",
       "    <tr>\n",
       "      <th>1</th>\n",
       "      <td>[{'role': 'user', 'content': 'Ile jaj zazwycza...</td>\n",
       "      <td>0.8697</td>\n",
       "    </tr>\n",
       "    <tr>\n",
       "      <th>2</th>\n",
       "      <td>[{'role': 'user', 'content': 'Czy możesz polec...</td>\n",
       "      <td>0.8617</td>\n",
       "    </tr>\n",
       "    <tr>\n",
       "      <th>3</th>\n",
       "      <td>[{'role': 'user', 'content': 'Jakie są najpopu...</td>\n",
       "      <td>1.0000</td>\n",
       "    </tr>\n",
       "    <tr>\n",
       "      <th>4</th>\n",
       "      <td>[{'role': 'user', 'content': 'Napisz osobisty ...</td>\n",
       "      <td>0.8737</td>\n",
       "    </tr>\n",
       "    <tr>\n",
       "      <th>...</th>\n",
       "      <td>...</td>\n",
       "      <td>...</td>\n",
       "    </tr>\n",
       "    <tr>\n",
       "      <th>50329</th>\n",
       "      <td>[{'role': 'user', 'content': 'Użyj co najmniej...</td>\n",
       "      <td>0.8548</td>\n",
       "    </tr>\n",
       "    <tr>\n",
       "      <th>50330</th>\n",
       "      <td>[{'role': 'user', 'content': 'Czy etyczne jest...</td>\n",
       "      <td>0.8570</td>\n",
       "    </tr>\n",
       "    <tr>\n",
       "      <th>50331</th>\n",
       "      <td>[{'role': 'user', 'content': 'Jak oceniasz, kt...</td>\n",
       "      <td>0.8554</td>\n",
       "    </tr>\n",
       "    <tr>\n",
       "      <th>50332</th>\n",
       "      <td>[{'role': 'user', 'content': 'Czy różne uczeln...</td>\n",
       "      <td>0.8542</td>\n",
       "    </tr>\n",
       "    <tr>\n",
       "      <th>50333</th>\n",
       "      <td>[{'role': 'user', 'content': 'Co odróżnia kuch...</td>\n",
       "      <td>0.8530</td>\n",
       "    </tr>\n",
       "  </tbody>\n",
       "</table>\n",
       "<p>50334 rows × 2 columns</p>\n",
       "</div>"
      ],
      "text/plain": [
       "                                                    text  trans_score\n",
       "0      [{'role': 'user', 'content': 'Które narodowe d...       0.8786\n",
       "1      [{'role': 'user', 'content': 'Ile jaj zazwycza...       0.8697\n",
       "2      [{'role': 'user', 'content': 'Czy możesz polec...       0.8617\n",
       "3      [{'role': 'user', 'content': 'Jakie są najpopu...       1.0000\n",
       "4      [{'role': 'user', 'content': 'Napisz osobisty ...       0.8737\n",
       "...                                                  ...          ...\n",
       "50329  [{'role': 'user', 'content': 'Użyj co najmniej...       0.8548\n",
       "50330  [{'role': 'user', 'content': 'Czy etyczne jest...       0.8570\n",
       "50331  [{'role': 'user', 'content': 'Jak oceniasz, kt...       0.8554\n",
       "50332  [{'role': 'user', 'content': 'Czy różne uczeln...       0.8542\n",
       "50333  [{'role': 'user', 'content': 'Co odróżnia kuch...       0.8530\n",
       "\n",
       "[50334 rows x 2 columns]"
      ]
     },
     "execution_count": 27,
     "metadata": {},
     "output_type": "execute_result"
    }
   ],
   "source": [
    "train"
   ]
  },
  {
   "cell_type": "code",
   "execution_count": 28,
   "metadata": {},
   "outputs": [
    {
     "data": {
      "text/plain": [
       "[OrderedDict([('role', 'user'),\n",
       "              ('content', '6. Śledzenie zamówień i historia')]),\n",
       " OrderedDict([('role', 'assistant'),\n",
       "              ('content',\n",
       "               'Nie mogę wykonać tej funkcji, ponieważ nie mam możliwości śledzenia zamówień ani przechowywania danych historycznych.')])]"
      ]
     },
     "execution_count": 28,
     "metadata": {},
     "output_type": "execute_result"
    }
   ],
   "source": [
    "valid.iloc[rand.randint(0, len(valid))][\"text\"]"
   ]
  },
  {
   "cell_type": "code",
   "execution_count": null,
   "metadata": {},
   "outputs": [],
   "source": [
    "import pyarrow as pa"
   ]
  },
  {
   "cell_type": "code",
   "execution_count": null,
   "metadata": {},
   "outputs": [],
   "source": [
    "table = pa.Table.from_pandas(train,)"
   ]
  },
  {
   "cell_type": "code",
   "execution_count": 29,
   "metadata": {},
   "outputs": [],
   "source": [
    "ds = DatasetDict()\n",
    "ds['train'] = Dataset.from_pandas(train)\n",
    "ds['validation'] = Dataset.from_pandas(valid)\n",
    "ds['everything'] = Dataset.from_pandas(full_prompts)"
   ]
  },
  {
   "cell_type": "code",
   "execution_count": 31,
   "metadata": {},
   "outputs": [
    {
     "data": {
      "text/plain": [
       "DatasetDict({\n",
       "    train: Dataset({\n",
       "        features: ['text', 'trans_score'],\n",
       "        num_rows: 50334\n",
       "    })\n",
       "    validation: Dataset({\n",
       "        features: ['text', 'trans_score'],\n",
       "        num_rows: 500\n",
       "    })\n",
       "    everything: Dataset({\n",
       "        features: ['text', 'trans_score'],\n",
       "        num_rows: 158911\n",
       "    })\n",
       "})"
      ]
     },
     "execution_count": 31,
     "metadata": {},
     "output_type": "execute_result"
    }
   ],
   "source": [
    "ds"
   ]
  },
  {
   "cell_type": "code",
   "execution_count": 32,
   "metadata": {},
   "outputs": [
    {
     "name": "stderr",
     "output_type": "stream",
     "text": [
      "Creating parquet from Arrow format: 100%|██████████| 51/51 [00:00<00:00, 389.27ba/s]\n",
      "Pushing dataset shards to the dataset hub: 100%|██████████| 1/1 [00:02<00:00,  2.87s/it]\n",
      "Deleting unused files from dataset repository: 100%|██████████| 1/1 [00:00<00:00,  5.77it/s]\n",
      "Creating parquet from Arrow format: 100%|██████████| 1/1 [00:00<00:00, 284.09ba/s]\n",
      "Pushing dataset shards to the dataset hub: 100%|██████████| 1/1 [00:00<00:00,  1.00it/s]\n",
      "Deleting unused files from dataset repository: 100%|██████████| 1/1 [00:00<00:00,  5.28it/s]\n",
      "Creating parquet from Arrow format: 100%|██████████| 159/159 [00:00<00:00, 413.09ba/s]\n",
      "Pushing dataset shards to the dataset hub: 100%|██████████| 1/1 [00:04<00:00,  4.38s/it]\n",
      "Deleting unused files from dataset repository: 100%|██████████| 1/1 [00:00<00:00,  4.35it/s]\n"
     ]
    }
   ],
   "source": [
    "ds.push_to_hub(\"szymonrucinski/krakowiak-pl\")"
   ]
  },
  {
   "cell_type": "code",
   "execution_count": null,
   "metadata": {},
   "outputs": [],
   "source": [
    "from datasets import load_dataset"
   ]
  },
  {
   "cell_type": "code",
   "execution_count": null,
   "metadata": {},
   "outputs": [],
   "source": [
    "x = load_dataset(\"szymonrucinski/krakowiak-pl\")"
   ]
  },
  {
   "cell_type": "code",
   "execution_count": 41,
   "metadata": {},
   "outputs": [
    {
     "name": "stderr",
     "output_type": "stream",
     "text": [
      "Downloading (…)okenizer_config.json: 100%|██████████| 1.47k/1.47k [00:00<00:00, 1.15MB/s]\n",
      "Downloading tokenizer.model: 100%|██████████| 493k/493k [00:00<00:00, 15.0MB/s]\n",
      "Downloading (…)/main/tokenizer.json: 100%|██████████| 1.80M/1.80M [00:00<00:00, 6.36MB/s]\n",
      "Downloading (…)cial_tokens_map.json: 100%|██████████| 72.0/72.0 [00:00<00:00, 132kB/s]\n"
     ]
    }
   ],
   "source": [
    "from transformers import AutoTokenizer\n",
    "base_model_id = \"mistralai/Mistral-7B-Instruct-v0.1\"\n",
    "\n",
    "tokenizer = AutoTokenizer.from_pretrained(\n",
    "    base_model_id,\n",
    "    model_max_length=2048)\n"
   ]
  },
  {
   "cell_type": "code",
   "execution_count": 42,
   "metadata": {},
   "outputs": [
    {
     "name": "stderr",
     "output_type": "stream",
     "text": [
      "<>:1: SyntaxWarning: list indices must be integers or slices, not str; perhaps you missed a comma?\n",
      "<>:1: SyntaxWarning: list indices must be integers or slices, not str; perhaps you missed a comma?\n",
      "/var/folders/fn/clqd998j3vn03yyqqybzkq240000gn/T/ipykernel_19529/210924293.py:1: SyntaxWarning: list indices must be integers or slices, not str; perhaps you missed a comma?\n",
      "  [\"train\"][\"text\"][2]\n",
      "/var/folders/fn/clqd998j3vn03yyqqybzkq240000gn/T/ipykernel_19529/210924293.py:1: SyntaxWarning: list indices must be integers or slices, not str; perhaps you missed a comma?\n",
      "  [\"train\"][\"text\"][2]\n",
      "/var/folders/fn/clqd998j3vn03yyqqybzkq240000gn/T/ipykernel_19529/210924293.py:1: SyntaxWarning: list indices must be integers or slices, not str; perhaps you missed a comma?\n",
      "  [\"train\"][\"text\"][2]\n",
      "/var/folders/fn/clqd998j3vn03yyqqybzkq240000gn/T/ipykernel_19529/210924293.py:1: SyntaxWarning: list indices must be integers or slices, not str; perhaps you missed a comma?\n",
      "  [\"train\"][\"text\"][2]\n"
     ]
    },
    {
     "ename": "TypeError",
     "evalue": "list indices must be integers or slices, not str",
     "output_type": "error",
     "traceback": [
      "\u001b[0;31m---------------------------------------------------------------------------\u001b[0m",
      "\u001b[0;31mTypeError\u001b[0m                                 Traceback (most recent call last)",
      "\u001b[1;32m/Users/szymon/Desktop/finetune-llm/src/data/merge-datasets.ipynb Cell 57\u001b[0m line \u001b[0;36m1\n\u001b[0;32m----> <a href='vscode-notebook-cell:/Users/szymon/Desktop/finetune-llm/src/data/merge-datasets.ipynb#Y120sZmlsZQ%3D%3D?line=0'>1</a>\u001b[0m [\u001b[39m\"\u001b[39;49m\u001b[39mtrain\u001b[39;49m\u001b[39m\"\u001b[39;49m][\u001b[39m\"\u001b[39;49m\u001b[39mtext\u001b[39;49m\u001b[39m\"\u001b[39;49m][\u001b[39m2\u001b[39m]\n",
      "\u001b[0;31mTypeError\u001b[0m: list indices must be integers or slices, not str"
     ]
    }
   ],
   "source": [
    "[\"train\"][\"text\"][2]"
   ]
  },
  {
   "cell_type": "code",
   "execution_count": 47,
   "metadata": {},
   "outputs": [
    {
     "name": "stderr",
     "output_type": "stream",
     "text": [
      "Using sep_token, but it is not set yet.\n",
      "Using cls_token, but it is not set yet.\n",
      "Using mask_token, but it is not set yet.\n"
     ]
    },
    {
     "data": {
      "text/plain": [
       "'<s>[INST] Czy możesz polecić rodzaj muzyki, który idealnie nadaje się do nauki lub pracy? [/INST]Jako model języka sztucznej inteligencji nie mam osobistych preferencji, ale mogę zasugerować muzykę instrumentalną i klasyczną, która jest uważana za idealną do nauki i pracy. Niektóre popularne opcje obejmują muzykę ambientową, jazz instrumentalny, muzykę klasyczną i dźwięki natury. Te rodzaje muzyki są kojące i pomagają skupić się, skoncentrować i zmniejszyć stres podczas pracy lub nauki.</s> '"
      ]
     },
     "execution_count": 47,
     "metadata": {},
     "output_type": "execute_result"
    }
   ],
   "source": [
    "tokenizer.apply_chat_template(ds[\"train\"][\"text\"][2], tokenize=False)"
   ]
  },
  {
   "cell_type": "code",
   "execution_count": null,
   "metadata": {},
   "outputs": [],
   "source": [
    "def process_for"
   ]
  },
  {
   "cell_type": "code",
   "execution_count": null,
   "metadata": {},
   "outputs": [],
   "source": [
    "x[\"train\"][\"text\"]"
   ]
  },
  {
   "cell_type": "code",
   "execution_count": 46,
   "metadata": {},
   "outputs": [
    {
     "name": "stderr",
     "output_type": "stream",
     "text": [
      "Using sep_token, but it is not set yet.\n",
      "Using pad_token, but it is not set yet.\n",
      "Using cls_token, but it is not set yet.\n",
      "Using mask_token, but it is not set yet.\n"
     ]
    },
    {
     "ename": "KeyError",
     "evalue": "'valid'",
     "output_type": "error",
     "traceback": [
      "\u001b[0;31m---------------------------------------------------------------------------\u001b[0m",
      "\u001b[0;31mKeyError\u001b[0m                                  Traceback (most recent call last)",
      "\u001b[1;32m/Users/szymon/Desktop/finetune-llm/src/data/merge-datasets.ipynb Cell 61\u001b[0m line \u001b[0;36m5\n\u001b[1;32m      <a href='vscode-notebook-cell:/Users/szymon/Desktop/finetune-llm/src/data/merge-datasets.ipynb#Y114sZmlsZQ%3D%3D?line=1'>2</a>\u001b[0m d_dict \u001b[39m=\u001b[39m {\u001b[39m\"\u001b[39m\u001b[39mtrain\u001b[39m\u001b[39m\"\u001b[39m:[], \u001b[39m'\u001b[39m\u001b[39mvalid\u001b[39m\u001b[39m'\u001b[39m:[]}\n\u001b[1;32m      <a href='vscode-notebook-cell:/Users/szymon/Desktop/finetune-llm/src/data/merge-datasets.ipynb#Y114sZmlsZQ%3D%3D?line=3'>4</a>\u001b[0m \u001b[39mfor\u001b[39;00m stage \u001b[39min\u001b[39;00m d_dict\u001b[39m.\u001b[39mkeys():\n\u001b[0;32m----> <a href='vscode-notebook-cell:/Users/szymon/Desktop/finetune-llm/src/data/merge-datasets.ipynb#Y114sZmlsZQ%3D%3D?line=4'>5</a>\u001b[0m     \u001b[39mfor\u001b[39;00m instruction \u001b[39min\u001b[39;00m ds[stage][\u001b[39m\"\u001b[39m\u001b[39mtext\u001b[39m\u001b[39m\"\u001b[39m]:\n\u001b[1;32m      <a href='vscode-notebook-cell:/Users/szymon/Desktop/finetune-llm/src/data/merge-datasets.ipynb#Y114sZmlsZQ%3D%3D?line=5'>6</a>\u001b[0m         \u001b[39mtry\u001b[39;00m:\n\u001b[1;32m      <a href='vscode-notebook-cell:/Users/szymon/Desktop/finetune-llm/src/data/merge-datasets.ipynb#Y114sZmlsZQ%3D%3D?line=6'>7</a>\u001b[0m             d_dict[\u001b[39m\"\u001b[39m\u001b[39mtrain\u001b[39m\u001b[39m\"\u001b[39m]\u001b[39m.\u001b[39mappend(tokenizer\u001b[39m.\u001b[39mapply_chat_template(instruction, tokenize\u001b[39m=\u001b[39m\u001b[39mFalse\u001b[39;00m))\n",
      "File \u001b[0;32m/opt/homebrew/Caskroom/mambaforge/base/envs/krakowiak/lib/python3.9/site-packages/datasets/dataset_dict.py:59\u001b[0m, in \u001b[0;36mDatasetDict.__getitem__\u001b[0;34m(self, k)\u001b[0m\n\u001b[1;32m     57\u001b[0m \u001b[39mdef\u001b[39;00m \u001b[39m__getitem__\u001b[39m(\u001b[39mself\u001b[39m, k) \u001b[39m-\u001b[39m\u001b[39m>\u001b[39m Dataset:\n\u001b[1;32m     58\u001b[0m     \u001b[39mif\u001b[39;00m \u001b[39misinstance\u001b[39m(k, (\u001b[39mstr\u001b[39m, NamedSplit)) \u001b[39mor\u001b[39;00m \u001b[39mlen\u001b[39m(\u001b[39mself\u001b[39m) \u001b[39m==\u001b[39m \u001b[39m0\u001b[39m:\n\u001b[0;32m---> 59\u001b[0m         \u001b[39mreturn\u001b[39;00m \u001b[39msuper\u001b[39;49m()\u001b[39m.\u001b[39;49m\u001b[39m__getitem__\u001b[39;49m(k)\n\u001b[1;32m     60\u001b[0m     \u001b[39melse\u001b[39;00m:\n\u001b[1;32m     61\u001b[0m         available_suggested_splits \u001b[39m=\u001b[39m [\n\u001b[1;32m     62\u001b[0m             split \u001b[39mfor\u001b[39;00m split \u001b[39min\u001b[39;00m (Split\u001b[39m.\u001b[39mTRAIN, Split\u001b[39m.\u001b[39mTEST, Split\u001b[39m.\u001b[39mVALIDATION) \u001b[39mif\u001b[39;00m split \u001b[39min\u001b[39;00m \u001b[39mself\u001b[39m\n\u001b[1;32m     63\u001b[0m         ]\n",
      "\u001b[0;31mKeyError\u001b[0m: 'valid'"
     ]
    }
   ],
   "source": [
    "tokenizer.use_default_system_prompt = False\n",
    "d_dict = {\"train\":[], 'valid':[]}\n",
    "tokenizer.pad_token = tokenizer.eos_token\n",
    "\n",
    "for stage in d_dict.keys():\n",
    "    for instruction in ds[stage][\"text\"]:\n",
    "        try:\n",
    "            d_dict[\"train\"].append(tokenizer.apply_chat_template(instruction, tokenize=False))\n",
    "        except:\n",
    "            pass\n",
    "            \n"
   ]
  },
  {
   "cell_type": "code",
   "execution_count": null,
   "metadata": {},
   "outputs": [],
   "source": [
    "chat[\"train\"][\"text\"]"
   ]
  },
  {
   "cell_type": "code",
   "execution_count": null,
   "metadata": {},
   "outputs": [],
   "source": []
  }
 ],
 "metadata": {
  "kernelspec": {
   "display_name": "intranet-search",
   "language": "python",
   "name": "python3"
  },
  "language_info": {
   "codemirror_mode": {
    "name": "ipython",
    "version": 3
   },
   "file_extension": ".py",
   "mimetype": "text/x-python",
   "name": "python",
   "nbconvert_exporter": "python",
   "pygments_lexer": "ipython3",
   "version": "3.10.13"
  },
  "orig_nbformat": 4
 },
 "nbformat": 4,
 "nbformat_minor": 2
}
