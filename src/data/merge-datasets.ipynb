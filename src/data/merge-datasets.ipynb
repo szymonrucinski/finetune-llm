{
 "cells": [
  {
   "cell_type": "code",
   "execution_count": 1,
   "metadata": {},
   "outputs": [
    {
     "name": "stderr",
     "output_type": "stream",
     "text": [
      "/opt/homebrew/Caskroom/mambaforge/base/envs/krakowiak/lib/python3.9/site-packages/tqdm/auto.py:21: TqdmWarning: IProgress not found. Please update jupyter and ipywidgets. See https://ipywidgets.readthedocs.io/en/stable/user_install.html\n",
      "  from .autonotebook import tqdm as notebook_tqdm\n"
     ]
    }
   ],
   "source": [
    "from datasets import load_dataset\n",
    "import tqdm\n",
    "import pandas as pd\n",
    "from transformers import pipeline"
   ]
  },
  {
   "cell_type": "code",
   "execution_count": 185,
   "metadata": {},
   "outputs": [],
   "source": [
    "USER_TAG = '<|Użytkownik|>: '\n",
    "ASSISTANT_TAG = '<|Asystent-AI|>: '"
   ]
  },
  {
   "cell_type": "markdown",
   "metadata": {},
   "source": [
    "### QA - Process Klej_dyk"
   ]
  },
  {
   "cell_type": "code",
   "execution_count": 186,
   "metadata": {},
   "outputs": [
    {
     "data": {
      "text/plain": [
       "2       <|Użytkownik|>: Jakie choroby genetyczne dzied...\n",
       "5       <|Użytkownik|>: Czym zajmowali się świątnicy?<...\n",
       "6       <|Użytkownik|>: Kto w księdze metrykalnej opac...\n",
       "17      <|Użytkownik|>: Kto był tłumaczem języka angie...\n",
       "19      <|Użytkownik|>: Jak promieniowanie słoneczne m...\n",
       "                              ...                        \n",
       "5166    <|Użytkownik|>: Jaką pomoc można otrzymać pod ...\n",
       "5169    <|Użytkownik|>: Dlaczego w chorobie hartnupów ...\n",
       "5174    <|Użytkownik|>: Z jakimi zbrodniarzami nazisto...\n",
       "5178    <|Użytkownik|>: Skąd wzięła swą nazwę jedna z ...\n",
       "5180    <|Użytkownik|>: Gdzie ma początek magistrala t...\n",
       "Length: 875, dtype: object"
      ]
     },
     "execution_count": 186,
     "metadata": {},
     "output_type": "execute_result"
    }
   ],
   "source": [
    "klej_dyk = load_dataset(\"allegro/klej-dyk\")\n",
    "klej_dyk_df_train = klej_dyk['train'].to_pandas()\n",
    "klej_dyk_df_test = klej_dyk['test'].to_pandas()\n",
    "# combine train and test\n",
    "klej_dyk_df = pd.concat([klej_dyk_df_train, klej_dyk_df_test], ignore_index=True)\n",
    "klej_dyk_df = klej_dyk_df[klej_dyk_df[\"target\"]==1][[\"question\",\"answer\"]]\n",
    "klej_dyk_df[\"question\"] = klej_dyk_df[\"question\"].str.capitalize()\n",
    "#### CREATE PROMPTS\n",
    "klej_dyk_df[\"question\"] = USER_TAG + klej_dyk_df[\"question\"]\n",
    "klej_dyk_df[\"answer\"] =  ASSISTANT_TAG + klej_dyk_df[\"answer\"]\n",
    "#### PROMPTS\n",
    "prompts_klej_dyk = klej_dyk_df[\"question\"] + klej_dyk_df[\"answer\"]\n",
    "prompts_klej_dyk"
   ]
  },
  {
   "cell_type": "markdown",
   "metadata": {},
   "source": [
    "### GPT-EXAM"
   ]
  },
  {
   "cell_type": "code",
   "execution_count": 184,
   "metadata": {},
   "outputs": [
    {
     "data": {
      "text/plain": [
       "0       <|użytkownik|> Kim był Donatello i jakie są je...\n",
       "1       <|użytkownik|> Jakie są główne cechy systemów ...\n",
       "2       <|użytkownik|> Jakie są najważniejsze metody z...\n",
       "3       <|użytkownik|> Jakie są możliwości leczenia ja...\n",
       "4       <|użytkownik|> Jakie są przyczyny i leczenie z...\n",
       "                              ...                        \n",
       "8126    <|użytkownik|> Co to jest amortyzacja? Jakie s...\n",
       "8127    <|użytkownik|> Jaka jest rola lekarza medycyny...\n",
       "8128    <|użytkownik|> Jakie są prawa człowieka dotycz...\n",
       "8129    <|użytkownik|> Jakie są podstawowe instrumenty...\n",
       "8130    <|użytkownik|> Jakie są różnice między konfigu...\n",
       "Length: 8131, dtype: object"
      ]
     },
     "execution_count": 184,
     "metadata": {},
     "output_type": "execute_result"
    }
   ],
   "source": [
    "gpt_exam = load_dataset(\"sdadas/gpt-exams\")\n",
    "gpt_exam_df = gpt_exam['train'].to_pandas()\n",
    "#### CREATE PROMPTS\n",
    "gpt_exam_df[\"question\"] = USER_TAG + gpt_exam_df[\"question\"]\n",
    "gpt_exam_df[\"answer\"] = ASSISTANT_TAG + gpt_exam_df[\"answer\"]\n",
    "#### PROMPTS\n",
    "prompts_gpt_exam = gpt_exam_df[\"question\"] + gpt_exam_df[\"answer\"]\n",
    "prompts_gpt_exam\n"
   ]
  },
  {
   "cell_type": "markdown",
   "metadata": {},
   "source": [
    "### Guanco"
   ]
  },
  {
   "cell_type": "code",
   "execution_count": 5,
   "metadata": {},
   "outputs": [
    {
     "name": "stderr",
     "output_type": "stream",
     "text": [
      "Repo card metadata block was not found. Setting CardData to empty.\n"
     ]
    }
   ],
   "source": [
    "oa_guanco = load_dataset(\"timdettmers/openassistant-guanaco\")\n",
    "oa_guanco_df = oa_guanco['train'].to_pandas()"
   ]
  },
  {
   "cell_type": "code",
   "execution_count": 6,
   "metadata": {},
   "outputs": [
    {
     "name": "stderr",
     "output_type": "stream",
     "text": [
      "  0%|          | 33/9846 [00:02<13:21, 12.24it/s]\n"
     ]
    },
    {
     "ename": "KeyboardInterrupt",
     "evalue": "",
     "output_type": "error",
     "traceback": [
      "\u001b[0;31m---------------------------------------------------------------------------\u001b[0m",
      "\u001b[0;31mKeyboardInterrupt\u001b[0m                         Traceback (most recent call last)",
      "\u001b[1;32m/Users/szymon/Desktop/finetune-llm/src/data/merge-datasets.ipynb Cell 9\u001b[0m line \u001b[0;36m4\n\u001b[1;32m      <a href='vscode-notebook-cell:/Users/szymon/Desktop/finetune-llm/src/data/merge-datasets.ipynb#X11sZmlsZQ%3D%3D?line=1'>2</a>\u001b[0m oa_guanco_en \u001b[39m=\u001b[39m []\n\u001b[1;32m      <a href='vscode-notebook-cell:/Users/szymon/Desktop/finetune-llm/src/data/merge-datasets.ipynb#X11sZmlsZQ%3D%3D?line=2'>3</a>\u001b[0m \u001b[39mfor\u001b[39;00m i,text \u001b[39min\u001b[39;00m \u001b[39menumerate\u001b[39m(tqdm\u001b[39m.\u001b[39mtqdm(oa_guanco_df[\u001b[39m\"\u001b[39m\u001b[39mtext\u001b[39m\u001b[39m\"\u001b[39m])):\n\u001b[0;32m----> <a href='vscode-notebook-cell:/Users/szymon/Desktop/finetune-llm/src/data/merge-datasets.ipynb#X11sZmlsZQ%3D%3D?line=3'>4</a>\u001b[0m     \u001b[39mif\u001b[39;00m pipe(text)[\u001b[39m0\u001b[39m][\u001b[39m\"\u001b[39m\u001b[39mlabel\u001b[39m\u001b[39m\"\u001b[39m] \u001b[39m==\u001b[39m \u001b[39m\"\u001b[39m\u001b[39men\u001b[39m\u001b[39m\"\u001b[39m:\n\u001b[1;32m      <a href='vscode-notebook-cell:/Users/szymon/Desktop/finetune-llm/src/data/merge-datasets.ipynb#X11sZmlsZQ%3D%3D?line=4'>5</a>\u001b[0m         oa_guanco_en\u001b[39m.\u001b[39mappend(text)\n\u001b[1;32m      <a href='vscode-notebook-cell:/Users/szymon/Desktop/finetune-llm/src/data/merge-datasets.ipynb#X11sZmlsZQ%3D%3D?line=6'>7</a>\u001b[0m \u001b[39m### temp df\u001b[39;00m\n",
      "File \u001b[0;32m/opt/homebrew/Caskroom/mambaforge/base/envs/krakowiak/lib/python3.9/site-packages/transformers/pipelines/text_classification.py:156\u001b[0m, in \u001b[0;36mTextClassificationPipeline.__call__\u001b[0;34m(self, *args, **kwargs)\u001b[0m\n\u001b[1;32m    122\u001b[0m \u001b[39mdef\u001b[39;00m \u001b[39m__call__\u001b[39m(\u001b[39mself\u001b[39m, \u001b[39m*\u001b[39margs, \u001b[39m*\u001b[39m\u001b[39m*\u001b[39mkwargs):\n\u001b[1;32m    123\u001b[0m \u001b[39m    \u001b[39m\u001b[39m\"\"\"\u001b[39;00m\n\u001b[1;32m    124\u001b[0m \u001b[39m    Classify the text(s) given as inputs.\u001b[39;00m\n\u001b[1;32m    125\u001b[0m \n\u001b[0;32m   (...)\u001b[0m\n\u001b[1;32m    154\u001b[0m \u001b[39m        If `top_k` is used, one such dictionary is returned per label.\u001b[39;00m\n\u001b[1;32m    155\u001b[0m \u001b[39m    \"\"\"\u001b[39;00m\n\u001b[0;32m--> 156\u001b[0m     result \u001b[39m=\u001b[39m \u001b[39msuper\u001b[39;49m()\u001b[39m.\u001b[39;49m\u001b[39m__call__\u001b[39;49m(\u001b[39m*\u001b[39;49margs, \u001b[39m*\u001b[39;49m\u001b[39m*\u001b[39;49mkwargs)\n\u001b[1;32m    157\u001b[0m     \u001b[39m# TODO try and retrieve it in a nicer way from _sanitize_parameters.\u001b[39;00m\n\u001b[1;32m    158\u001b[0m     _legacy \u001b[39m=\u001b[39m \u001b[39m\"\u001b[39m\u001b[39mtop_k\u001b[39m\u001b[39m\"\u001b[39m \u001b[39mnot\u001b[39;00m \u001b[39min\u001b[39;00m kwargs\n",
      "File \u001b[0;32m/opt/homebrew/Caskroom/mambaforge/base/envs/krakowiak/lib/python3.9/site-packages/transformers/pipelines/base.py:1140\u001b[0m, in \u001b[0;36mPipeline.__call__\u001b[0;34m(self, inputs, num_workers, batch_size, *args, **kwargs)\u001b[0m\n\u001b[1;32m   1132\u001b[0m     \u001b[39mreturn\u001b[39;00m \u001b[39mnext\u001b[39m(\n\u001b[1;32m   1133\u001b[0m         \u001b[39miter\u001b[39m(\n\u001b[1;32m   1134\u001b[0m             \u001b[39mself\u001b[39m\u001b[39m.\u001b[39mget_iterator(\n\u001b[0;32m   (...)\u001b[0m\n\u001b[1;32m   1137\u001b[0m         )\n\u001b[1;32m   1138\u001b[0m     )\n\u001b[1;32m   1139\u001b[0m \u001b[39melse\u001b[39;00m:\n\u001b[0;32m-> 1140\u001b[0m     \u001b[39mreturn\u001b[39;00m \u001b[39mself\u001b[39;49m\u001b[39m.\u001b[39;49mrun_single(inputs, preprocess_params, forward_params, postprocess_params)\n",
      "File \u001b[0;32m/opt/homebrew/Caskroom/mambaforge/base/envs/krakowiak/lib/python3.9/site-packages/transformers/pipelines/base.py:1147\u001b[0m, in \u001b[0;36mPipeline.run_single\u001b[0;34m(self, inputs, preprocess_params, forward_params, postprocess_params)\u001b[0m\n\u001b[1;32m   1145\u001b[0m \u001b[39mdef\u001b[39;00m \u001b[39mrun_single\u001b[39m(\u001b[39mself\u001b[39m, inputs, preprocess_params, forward_params, postprocess_params):\n\u001b[1;32m   1146\u001b[0m     model_inputs \u001b[39m=\u001b[39m \u001b[39mself\u001b[39m\u001b[39m.\u001b[39mpreprocess(inputs, \u001b[39m*\u001b[39m\u001b[39m*\u001b[39mpreprocess_params)\n\u001b[0;32m-> 1147\u001b[0m     model_outputs \u001b[39m=\u001b[39m \u001b[39mself\u001b[39;49m\u001b[39m.\u001b[39;49mforward(model_inputs, \u001b[39m*\u001b[39;49m\u001b[39m*\u001b[39;49mforward_params)\n\u001b[1;32m   1148\u001b[0m     outputs \u001b[39m=\u001b[39m \u001b[39mself\u001b[39m\u001b[39m.\u001b[39mpostprocess(model_outputs, \u001b[39m*\u001b[39m\u001b[39m*\u001b[39mpostprocess_params)\n\u001b[1;32m   1149\u001b[0m     \u001b[39mreturn\u001b[39;00m outputs\n",
      "File \u001b[0;32m/opt/homebrew/Caskroom/mambaforge/base/envs/krakowiak/lib/python3.9/site-packages/transformers/pipelines/base.py:1046\u001b[0m, in \u001b[0;36mPipeline.forward\u001b[0;34m(self, model_inputs, **forward_params)\u001b[0m\n\u001b[1;32m   1044\u001b[0m     \u001b[39mwith\u001b[39;00m inference_context():\n\u001b[1;32m   1045\u001b[0m         model_inputs \u001b[39m=\u001b[39m \u001b[39mself\u001b[39m\u001b[39m.\u001b[39m_ensure_tensor_on_device(model_inputs, device\u001b[39m=\u001b[39m\u001b[39mself\u001b[39m\u001b[39m.\u001b[39mdevice)\n\u001b[0;32m-> 1046\u001b[0m         model_outputs \u001b[39m=\u001b[39m \u001b[39mself\u001b[39;49m\u001b[39m.\u001b[39;49m_forward(model_inputs, \u001b[39m*\u001b[39;49m\u001b[39m*\u001b[39;49mforward_params)\n\u001b[1;32m   1047\u001b[0m         model_outputs \u001b[39m=\u001b[39m \u001b[39mself\u001b[39m\u001b[39m.\u001b[39m_ensure_tensor_on_device(model_outputs, device\u001b[39m=\u001b[39mtorch\u001b[39m.\u001b[39mdevice(\u001b[39m\"\u001b[39m\u001b[39mcpu\u001b[39m\u001b[39m\"\u001b[39m))\n\u001b[1;32m   1048\u001b[0m \u001b[39melse\u001b[39;00m:\n",
      "File \u001b[0;32m/opt/homebrew/Caskroom/mambaforge/base/envs/krakowiak/lib/python3.9/site-packages/transformers/pipelines/text_classification.py:187\u001b[0m, in \u001b[0;36mTextClassificationPipeline._forward\u001b[0;34m(self, model_inputs)\u001b[0m\n\u001b[1;32m    185\u001b[0m \u001b[39mif\u001b[39;00m \u001b[39m\"\u001b[39m\u001b[39muse_cache\u001b[39m\u001b[39m\"\u001b[39m \u001b[39min\u001b[39;00m inspect\u001b[39m.\u001b[39msignature(model_forward)\u001b[39m.\u001b[39mparameters\u001b[39m.\u001b[39mkeys():\n\u001b[1;32m    186\u001b[0m     model_inputs[\u001b[39m\"\u001b[39m\u001b[39muse_cache\u001b[39m\u001b[39m\"\u001b[39m] \u001b[39m=\u001b[39m \u001b[39mFalse\u001b[39;00m\n\u001b[0;32m--> 187\u001b[0m \u001b[39mreturn\u001b[39;00m \u001b[39mself\u001b[39;49m\u001b[39m.\u001b[39;49mmodel(\u001b[39m*\u001b[39;49m\u001b[39m*\u001b[39;49mmodel_inputs)\n",
      "File \u001b[0;32m/opt/homebrew/Caskroom/mambaforge/base/envs/krakowiak/lib/python3.9/site-packages/torch/nn/modules/module.py:1518\u001b[0m, in \u001b[0;36mModule._wrapped_call_impl\u001b[0;34m(self, *args, **kwargs)\u001b[0m\n\u001b[1;32m   1516\u001b[0m     \u001b[39mreturn\u001b[39;00m \u001b[39mself\u001b[39m\u001b[39m.\u001b[39m_compiled_call_impl(\u001b[39m*\u001b[39margs, \u001b[39m*\u001b[39m\u001b[39m*\u001b[39mkwargs)  \u001b[39m# type: ignore[misc]\u001b[39;00m\n\u001b[1;32m   1517\u001b[0m \u001b[39melse\u001b[39;00m:\n\u001b[0;32m-> 1518\u001b[0m     \u001b[39mreturn\u001b[39;00m \u001b[39mself\u001b[39;49m\u001b[39m.\u001b[39;49m_call_impl(\u001b[39m*\u001b[39;49margs, \u001b[39m*\u001b[39;49m\u001b[39m*\u001b[39;49mkwargs)\n",
      "File \u001b[0;32m/opt/homebrew/Caskroom/mambaforge/base/envs/krakowiak/lib/python3.9/site-packages/torch/nn/modules/module.py:1527\u001b[0m, in \u001b[0;36mModule._call_impl\u001b[0;34m(self, *args, **kwargs)\u001b[0m\n\u001b[1;32m   1522\u001b[0m \u001b[39m# If we don't have any hooks, we want to skip the rest of the logic in\u001b[39;00m\n\u001b[1;32m   1523\u001b[0m \u001b[39m# this function, and just call forward.\u001b[39;00m\n\u001b[1;32m   1524\u001b[0m \u001b[39mif\u001b[39;00m \u001b[39mnot\u001b[39;00m (\u001b[39mself\u001b[39m\u001b[39m.\u001b[39m_backward_hooks \u001b[39mor\u001b[39;00m \u001b[39mself\u001b[39m\u001b[39m.\u001b[39m_backward_pre_hooks \u001b[39mor\u001b[39;00m \u001b[39mself\u001b[39m\u001b[39m.\u001b[39m_forward_hooks \u001b[39mor\u001b[39;00m \u001b[39mself\u001b[39m\u001b[39m.\u001b[39m_forward_pre_hooks\n\u001b[1;32m   1525\u001b[0m         \u001b[39mor\u001b[39;00m _global_backward_pre_hooks \u001b[39mor\u001b[39;00m _global_backward_hooks\n\u001b[1;32m   1526\u001b[0m         \u001b[39mor\u001b[39;00m _global_forward_hooks \u001b[39mor\u001b[39;00m _global_forward_pre_hooks):\n\u001b[0;32m-> 1527\u001b[0m     \u001b[39mreturn\u001b[39;00m forward_call(\u001b[39m*\u001b[39;49margs, \u001b[39m*\u001b[39;49m\u001b[39m*\u001b[39;49mkwargs)\n\u001b[1;32m   1529\u001b[0m \u001b[39mtry\u001b[39;00m:\n\u001b[1;32m   1530\u001b[0m     result \u001b[39m=\u001b[39m \u001b[39mNone\u001b[39;00m\n",
      "File \u001b[0;32m/opt/homebrew/Caskroom/mambaforge/base/envs/krakowiak/lib/python3.9/site-packages/transformers/models/xlm_roberta/modeling_xlm_roberta.py:1208\u001b[0m, in \u001b[0;36mXLMRobertaForSequenceClassification.forward\u001b[0;34m(self, input_ids, attention_mask, token_type_ids, position_ids, head_mask, inputs_embeds, labels, output_attentions, output_hidden_states, return_dict)\u001b[0m\n\u001b[1;32m   1200\u001b[0m \u001b[39m\u001b[39m\u001b[39mr\u001b[39m\u001b[39m\"\"\"\u001b[39;00m\n\u001b[1;32m   1201\u001b[0m \u001b[39mlabels (`torch.LongTensor` of shape `(batch_size,)`, *optional*):\u001b[39;00m\n\u001b[1;32m   1202\u001b[0m \u001b[39m    Labels for computing the sequence classification/regression loss. Indices should be in `[0, ...,\u001b[39;00m\n\u001b[1;32m   1203\u001b[0m \u001b[39m    config.num_labels - 1]`. If `config.num_labels == 1` a regression loss is computed (Mean-Square loss), If\u001b[39;00m\n\u001b[1;32m   1204\u001b[0m \u001b[39m    `config.num_labels > 1` a classification loss is computed (Cross-Entropy).\u001b[39;00m\n\u001b[1;32m   1205\u001b[0m \u001b[39m\"\"\"\u001b[39;00m\n\u001b[1;32m   1206\u001b[0m return_dict \u001b[39m=\u001b[39m return_dict \u001b[39mif\u001b[39;00m return_dict \u001b[39mis\u001b[39;00m \u001b[39mnot\u001b[39;00m \u001b[39mNone\u001b[39;00m \u001b[39melse\u001b[39;00m \u001b[39mself\u001b[39m\u001b[39m.\u001b[39mconfig\u001b[39m.\u001b[39muse_return_dict\n\u001b[0;32m-> 1208\u001b[0m outputs \u001b[39m=\u001b[39m \u001b[39mself\u001b[39;49m\u001b[39m.\u001b[39;49mroberta(\n\u001b[1;32m   1209\u001b[0m     input_ids,\n\u001b[1;32m   1210\u001b[0m     attention_mask\u001b[39m=\u001b[39;49mattention_mask,\n\u001b[1;32m   1211\u001b[0m     token_type_ids\u001b[39m=\u001b[39;49mtoken_type_ids,\n\u001b[1;32m   1212\u001b[0m     position_ids\u001b[39m=\u001b[39;49mposition_ids,\n\u001b[1;32m   1213\u001b[0m     head_mask\u001b[39m=\u001b[39;49mhead_mask,\n\u001b[1;32m   1214\u001b[0m     inputs_embeds\u001b[39m=\u001b[39;49minputs_embeds,\n\u001b[1;32m   1215\u001b[0m     output_attentions\u001b[39m=\u001b[39;49moutput_attentions,\n\u001b[1;32m   1216\u001b[0m     output_hidden_states\u001b[39m=\u001b[39;49moutput_hidden_states,\n\u001b[1;32m   1217\u001b[0m     return_dict\u001b[39m=\u001b[39;49mreturn_dict,\n\u001b[1;32m   1218\u001b[0m )\n\u001b[1;32m   1219\u001b[0m sequence_output \u001b[39m=\u001b[39m outputs[\u001b[39m0\u001b[39m]\n\u001b[1;32m   1220\u001b[0m logits \u001b[39m=\u001b[39m \u001b[39mself\u001b[39m\u001b[39m.\u001b[39mclassifier(sequence_output)\n",
      "File \u001b[0;32m/opt/homebrew/Caskroom/mambaforge/base/envs/krakowiak/lib/python3.9/site-packages/torch/nn/modules/module.py:1518\u001b[0m, in \u001b[0;36mModule._wrapped_call_impl\u001b[0;34m(self, *args, **kwargs)\u001b[0m\n\u001b[1;32m   1516\u001b[0m     \u001b[39mreturn\u001b[39;00m \u001b[39mself\u001b[39m\u001b[39m.\u001b[39m_compiled_call_impl(\u001b[39m*\u001b[39margs, \u001b[39m*\u001b[39m\u001b[39m*\u001b[39mkwargs)  \u001b[39m# type: ignore[misc]\u001b[39;00m\n\u001b[1;32m   1517\u001b[0m \u001b[39melse\u001b[39;00m:\n\u001b[0;32m-> 1518\u001b[0m     \u001b[39mreturn\u001b[39;00m \u001b[39mself\u001b[39;49m\u001b[39m.\u001b[39;49m_call_impl(\u001b[39m*\u001b[39;49margs, \u001b[39m*\u001b[39;49m\u001b[39m*\u001b[39;49mkwargs)\n",
      "File \u001b[0;32m/opt/homebrew/Caskroom/mambaforge/base/envs/krakowiak/lib/python3.9/site-packages/torch/nn/modules/module.py:1527\u001b[0m, in \u001b[0;36mModule._call_impl\u001b[0;34m(self, *args, **kwargs)\u001b[0m\n\u001b[1;32m   1522\u001b[0m \u001b[39m# If we don't have any hooks, we want to skip the rest of the logic in\u001b[39;00m\n\u001b[1;32m   1523\u001b[0m \u001b[39m# this function, and just call forward.\u001b[39;00m\n\u001b[1;32m   1524\u001b[0m \u001b[39mif\u001b[39;00m \u001b[39mnot\u001b[39;00m (\u001b[39mself\u001b[39m\u001b[39m.\u001b[39m_backward_hooks \u001b[39mor\u001b[39;00m \u001b[39mself\u001b[39m\u001b[39m.\u001b[39m_backward_pre_hooks \u001b[39mor\u001b[39;00m \u001b[39mself\u001b[39m\u001b[39m.\u001b[39m_forward_hooks \u001b[39mor\u001b[39;00m \u001b[39mself\u001b[39m\u001b[39m.\u001b[39m_forward_pre_hooks\n\u001b[1;32m   1525\u001b[0m         \u001b[39mor\u001b[39;00m _global_backward_pre_hooks \u001b[39mor\u001b[39;00m _global_backward_hooks\n\u001b[1;32m   1526\u001b[0m         \u001b[39mor\u001b[39;00m _global_forward_hooks \u001b[39mor\u001b[39;00m _global_forward_pre_hooks):\n\u001b[0;32m-> 1527\u001b[0m     \u001b[39mreturn\u001b[39;00m forward_call(\u001b[39m*\u001b[39;49margs, \u001b[39m*\u001b[39;49m\u001b[39m*\u001b[39;49mkwargs)\n\u001b[1;32m   1529\u001b[0m \u001b[39mtry\u001b[39;00m:\n\u001b[1;32m   1530\u001b[0m     result \u001b[39m=\u001b[39m \u001b[39mNone\u001b[39;00m\n",
      "File \u001b[0;32m/opt/homebrew/Caskroom/mambaforge/base/envs/krakowiak/lib/python3.9/site-packages/transformers/models/xlm_roberta/modeling_xlm_roberta.py:846\u001b[0m, in \u001b[0;36mXLMRobertaModel.forward\u001b[0;34m(self, input_ids, attention_mask, token_type_ids, position_ids, head_mask, inputs_embeds, encoder_hidden_states, encoder_attention_mask, past_key_values, use_cache, output_attentions, output_hidden_states, return_dict)\u001b[0m\n\u001b[1;32m    837\u001b[0m head_mask \u001b[39m=\u001b[39m \u001b[39mself\u001b[39m\u001b[39m.\u001b[39mget_head_mask(head_mask, \u001b[39mself\u001b[39m\u001b[39m.\u001b[39mconfig\u001b[39m.\u001b[39mnum_hidden_layers)\n\u001b[1;32m    839\u001b[0m embedding_output \u001b[39m=\u001b[39m \u001b[39mself\u001b[39m\u001b[39m.\u001b[39membeddings(\n\u001b[1;32m    840\u001b[0m     input_ids\u001b[39m=\u001b[39minput_ids,\n\u001b[1;32m    841\u001b[0m     position_ids\u001b[39m=\u001b[39mposition_ids,\n\u001b[0;32m   (...)\u001b[0m\n\u001b[1;32m    844\u001b[0m     past_key_values_length\u001b[39m=\u001b[39mpast_key_values_length,\n\u001b[1;32m    845\u001b[0m )\n\u001b[0;32m--> 846\u001b[0m encoder_outputs \u001b[39m=\u001b[39m \u001b[39mself\u001b[39;49m\u001b[39m.\u001b[39;49mencoder(\n\u001b[1;32m    847\u001b[0m     embedding_output,\n\u001b[1;32m    848\u001b[0m     attention_mask\u001b[39m=\u001b[39;49mextended_attention_mask,\n\u001b[1;32m    849\u001b[0m     head_mask\u001b[39m=\u001b[39;49mhead_mask,\n\u001b[1;32m    850\u001b[0m     encoder_hidden_states\u001b[39m=\u001b[39;49mencoder_hidden_states,\n\u001b[1;32m    851\u001b[0m     encoder_attention_mask\u001b[39m=\u001b[39;49mencoder_extended_attention_mask,\n\u001b[1;32m    852\u001b[0m     past_key_values\u001b[39m=\u001b[39;49mpast_key_values,\n\u001b[1;32m    853\u001b[0m     use_cache\u001b[39m=\u001b[39;49muse_cache,\n\u001b[1;32m    854\u001b[0m     output_attentions\u001b[39m=\u001b[39;49moutput_attentions,\n\u001b[1;32m    855\u001b[0m     output_hidden_states\u001b[39m=\u001b[39;49moutput_hidden_states,\n\u001b[1;32m    856\u001b[0m     return_dict\u001b[39m=\u001b[39;49mreturn_dict,\n\u001b[1;32m    857\u001b[0m )\n\u001b[1;32m    858\u001b[0m sequence_output \u001b[39m=\u001b[39m encoder_outputs[\u001b[39m0\u001b[39m]\n\u001b[1;32m    859\u001b[0m pooled_output \u001b[39m=\u001b[39m \u001b[39mself\u001b[39m\u001b[39m.\u001b[39mpooler(sequence_output) \u001b[39mif\u001b[39;00m \u001b[39mself\u001b[39m\u001b[39m.\u001b[39mpooler \u001b[39mis\u001b[39;00m \u001b[39mnot\u001b[39;00m \u001b[39mNone\u001b[39;00m \u001b[39melse\u001b[39;00m \u001b[39mNone\u001b[39;00m\n",
      "File \u001b[0;32m/opt/homebrew/Caskroom/mambaforge/base/envs/krakowiak/lib/python3.9/site-packages/torch/nn/modules/module.py:1518\u001b[0m, in \u001b[0;36mModule._wrapped_call_impl\u001b[0;34m(self, *args, **kwargs)\u001b[0m\n\u001b[1;32m   1516\u001b[0m     \u001b[39mreturn\u001b[39;00m \u001b[39mself\u001b[39m\u001b[39m.\u001b[39m_compiled_call_impl(\u001b[39m*\u001b[39margs, \u001b[39m*\u001b[39m\u001b[39m*\u001b[39mkwargs)  \u001b[39m# type: ignore[misc]\u001b[39;00m\n\u001b[1;32m   1517\u001b[0m \u001b[39melse\u001b[39;00m:\n\u001b[0;32m-> 1518\u001b[0m     \u001b[39mreturn\u001b[39;00m \u001b[39mself\u001b[39;49m\u001b[39m.\u001b[39;49m_call_impl(\u001b[39m*\u001b[39;49margs, \u001b[39m*\u001b[39;49m\u001b[39m*\u001b[39;49mkwargs)\n",
      "File \u001b[0;32m/opt/homebrew/Caskroom/mambaforge/base/envs/krakowiak/lib/python3.9/site-packages/torch/nn/modules/module.py:1527\u001b[0m, in \u001b[0;36mModule._call_impl\u001b[0;34m(self, *args, **kwargs)\u001b[0m\n\u001b[1;32m   1522\u001b[0m \u001b[39m# If we don't have any hooks, we want to skip the rest of the logic in\u001b[39;00m\n\u001b[1;32m   1523\u001b[0m \u001b[39m# this function, and just call forward.\u001b[39;00m\n\u001b[1;32m   1524\u001b[0m \u001b[39mif\u001b[39;00m \u001b[39mnot\u001b[39;00m (\u001b[39mself\u001b[39m\u001b[39m.\u001b[39m_backward_hooks \u001b[39mor\u001b[39;00m \u001b[39mself\u001b[39m\u001b[39m.\u001b[39m_backward_pre_hooks \u001b[39mor\u001b[39;00m \u001b[39mself\u001b[39m\u001b[39m.\u001b[39m_forward_hooks \u001b[39mor\u001b[39;00m \u001b[39mself\u001b[39m\u001b[39m.\u001b[39m_forward_pre_hooks\n\u001b[1;32m   1525\u001b[0m         \u001b[39mor\u001b[39;00m _global_backward_pre_hooks \u001b[39mor\u001b[39;00m _global_backward_hooks\n\u001b[1;32m   1526\u001b[0m         \u001b[39mor\u001b[39;00m _global_forward_hooks \u001b[39mor\u001b[39;00m _global_forward_pre_hooks):\n\u001b[0;32m-> 1527\u001b[0m     \u001b[39mreturn\u001b[39;00m forward_call(\u001b[39m*\u001b[39;49margs, \u001b[39m*\u001b[39;49m\u001b[39m*\u001b[39;49mkwargs)\n\u001b[1;32m   1529\u001b[0m \u001b[39mtry\u001b[39;00m:\n\u001b[1;32m   1530\u001b[0m     result \u001b[39m=\u001b[39m \u001b[39mNone\u001b[39;00m\n",
      "File \u001b[0;32m/opt/homebrew/Caskroom/mambaforge/base/envs/krakowiak/lib/python3.9/site-packages/transformers/models/xlm_roberta/modeling_xlm_roberta.py:530\u001b[0m, in \u001b[0;36mXLMRobertaEncoder.forward\u001b[0;34m(self, hidden_states, attention_mask, head_mask, encoder_hidden_states, encoder_attention_mask, past_key_values, use_cache, output_attentions, output_hidden_states, return_dict)\u001b[0m\n\u001b[1;32m    521\u001b[0m     layer_outputs \u001b[39m=\u001b[39m torch\u001b[39m.\u001b[39mutils\u001b[39m.\u001b[39mcheckpoint\u001b[39m.\u001b[39mcheckpoint(\n\u001b[1;32m    522\u001b[0m         create_custom_forward(layer_module),\n\u001b[1;32m    523\u001b[0m         hidden_states,\n\u001b[0;32m   (...)\u001b[0m\n\u001b[1;32m    527\u001b[0m         encoder_attention_mask,\n\u001b[1;32m    528\u001b[0m     )\n\u001b[1;32m    529\u001b[0m \u001b[39melse\u001b[39;00m:\n\u001b[0;32m--> 530\u001b[0m     layer_outputs \u001b[39m=\u001b[39m layer_module(\n\u001b[1;32m    531\u001b[0m         hidden_states,\n\u001b[1;32m    532\u001b[0m         attention_mask,\n\u001b[1;32m    533\u001b[0m         layer_head_mask,\n\u001b[1;32m    534\u001b[0m         encoder_hidden_states,\n\u001b[1;32m    535\u001b[0m         encoder_attention_mask,\n\u001b[1;32m    536\u001b[0m         past_key_value,\n\u001b[1;32m    537\u001b[0m         output_attentions,\n\u001b[1;32m    538\u001b[0m     )\n\u001b[1;32m    540\u001b[0m hidden_states \u001b[39m=\u001b[39m layer_outputs[\u001b[39m0\u001b[39m]\n\u001b[1;32m    541\u001b[0m \u001b[39mif\u001b[39;00m use_cache:\n",
      "File \u001b[0;32m/opt/homebrew/Caskroom/mambaforge/base/envs/krakowiak/lib/python3.9/site-packages/torch/nn/modules/module.py:1518\u001b[0m, in \u001b[0;36mModule._wrapped_call_impl\u001b[0;34m(self, *args, **kwargs)\u001b[0m\n\u001b[1;32m   1516\u001b[0m     \u001b[39mreturn\u001b[39;00m \u001b[39mself\u001b[39m\u001b[39m.\u001b[39m_compiled_call_impl(\u001b[39m*\u001b[39margs, \u001b[39m*\u001b[39m\u001b[39m*\u001b[39mkwargs)  \u001b[39m# type: ignore[misc]\u001b[39;00m\n\u001b[1;32m   1517\u001b[0m \u001b[39melse\u001b[39;00m:\n\u001b[0;32m-> 1518\u001b[0m     \u001b[39mreturn\u001b[39;00m \u001b[39mself\u001b[39;49m\u001b[39m.\u001b[39;49m_call_impl(\u001b[39m*\u001b[39;49margs, \u001b[39m*\u001b[39;49m\u001b[39m*\u001b[39;49mkwargs)\n",
      "File \u001b[0;32m/opt/homebrew/Caskroom/mambaforge/base/envs/krakowiak/lib/python3.9/site-packages/torch/nn/modules/module.py:1527\u001b[0m, in \u001b[0;36mModule._call_impl\u001b[0;34m(self, *args, **kwargs)\u001b[0m\n\u001b[1;32m   1522\u001b[0m \u001b[39m# If we don't have any hooks, we want to skip the rest of the logic in\u001b[39;00m\n\u001b[1;32m   1523\u001b[0m \u001b[39m# this function, and just call forward.\u001b[39;00m\n\u001b[1;32m   1524\u001b[0m \u001b[39mif\u001b[39;00m \u001b[39mnot\u001b[39;00m (\u001b[39mself\u001b[39m\u001b[39m.\u001b[39m_backward_hooks \u001b[39mor\u001b[39;00m \u001b[39mself\u001b[39m\u001b[39m.\u001b[39m_backward_pre_hooks \u001b[39mor\u001b[39;00m \u001b[39mself\u001b[39m\u001b[39m.\u001b[39m_forward_hooks \u001b[39mor\u001b[39;00m \u001b[39mself\u001b[39m\u001b[39m.\u001b[39m_forward_pre_hooks\n\u001b[1;32m   1525\u001b[0m         \u001b[39mor\u001b[39;00m _global_backward_pre_hooks \u001b[39mor\u001b[39;00m _global_backward_hooks\n\u001b[1;32m   1526\u001b[0m         \u001b[39mor\u001b[39;00m _global_forward_hooks \u001b[39mor\u001b[39;00m _global_forward_pre_hooks):\n\u001b[0;32m-> 1527\u001b[0m     \u001b[39mreturn\u001b[39;00m forward_call(\u001b[39m*\u001b[39;49margs, \u001b[39m*\u001b[39;49m\u001b[39m*\u001b[39;49mkwargs)\n\u001b[1;32m   1529\u001b[0m \u001b[39mtry\u001b[39;00m:\n\u001b[1;32m   1530\u001b[0m     result \u001b[39m=\u001b[39m \u001b[39mNone\u001b[39;00m\n",
      "File \u001b[0;32m/opt/homebrew/Caskroom/mambaforge/base/envs/krakowiak/lib/python3.9/site-packages/transformers/models/xlm_roberta/modeling_xlm_roberta.py:456\u001b[0m, in \u001b[0;36mXLMRobertaLayer.forward\u001b[0;34m(self, hidden_states, attention_mask, head_mask, encoder_hidden_states, encoder_attention_mask, past_key_value, output_attentions)\u001b[0m\n\u001b[1;32m    453\u001b[0m     cross_attn_present_key_value \u001b[39m=\u001b[39m cross_attention_outputs[\u001b[39m-\u001b[39m\u001b[39m1\u001b[39m]\n\u001b[1;32m    454\u001b[0m     present_key_value \u001b[39m=\u001b[39m present_key_value \u001b[39m+\u001b[39m cross_attn_present_key_value\n\u001b[0;32m--> 456\u001b[0m layer_output \u001b[39m=\u001b[39m apply_chunking_to_forward(\n\u001b[1;32m    457\u001b[0m     \u001b[39mself\u001b[39;49m\u001b[39m.\u001b[39;49mfeed_forward_chunk, \u001b[39mself\u001b[39;49m\u001b[39m.\u001b[39;49mchunk_size_feed_forward, \u001b[39mself\u001b[39;49m\u001b[39m.\u001b[39;49mseq_len_dim, attention_output\n\u001b[1;32m    458\u001b[0m )\n\u001b[1;32m    459\u001b[0m outputs \u001b[39m=\u001b[39m (layer_output,) \u001b[39m+\u001b[39m outputs\n\u001b[1;32m    461\u001b[0m \u001b[39m# if decoder, return the attn key/values as the last output\u001b[39;00m\n",
      "File \u001b[0;32m/opt/homebrew/Caskroom/mambaforge/base/envs/krakowiak/lib/python3.9/site-packages/transformers/pytorch_utils.py:240\u001b[0m, in \u001b[0;36mapply_chunking_to_forward\u001b[0;34m(forward_fn, chunk_size, chunk_dim, *input_tensors)\u001b[0m\n\u001b[1;32m    237\u001b[0m     \u001b[39m# concatenate output at same dimension\u001b[39;00m\n\u001b[1;32m    238\u001b[0m     \u001b[39mreturn\u001b[39;00m torch\u001b[39m.\u001b[39mcat(output_chunks, dim\u001b[39m=\u001b[39mchunk_dim)\n\u001b[0;32m--> 240\u001b[0m \u001b[39mreturn\u001b[39;00m forward_fn(\u001b[39m*\u001b[39;49minput_tensors)\n",
      "File \u001b[0;32m/opt/homebrew/Caskroom/mambaforge/base/envs/krakowiak/lib/python3.9/site-packages/transformers/models/xlm_roberta/modeling_xlm_roberta.py:468\u001b[0m, in \u001b[0;36mXLMRobertaLayer.feed_forward_chunk\u001b[0;34m(self, attention_output)\u001b[0m\n\u001b[1;32m    467\u001b[0m \u001b[39mdef\u001b[39;00m \u001b[39mfeed_forward_chunk\u001b[39m(\u001b[39mself\u001b[39m, attention_output):\n\u001b[0;32m--> 468\u001b[0m     intermediate_output \u001b[39m=\u001b[39m \u001b[39mself\u001b[39;49m\u001b[39m.\u001b[39;49mintermediate(attention_output)\n\u001b[1;32m    469\u001b[0m     layer_output \u001b[39m=\u001b[39m \u001b[39mself\u001b[39m\u001b[39m.\u001b[39moutput(intermediate_output, attention_output)\n\u001b[1;32m    470\u001b[0m     \u001b[39mreturn\u001b[39;00m layer_output\n",
      "File \u001b[0;32m/opt/homebrew/Caskroom/mambaforge/base/envs/krakowiak/lib/python3.9/site-packages/torch/nn/modules/module.py:1518\u001b[0m, in \u001b[0;36mModule._wrapped_call_impl\u001b[0;34m(self, *args, **kwargs)\u001b[0m\n\u001b[1;32m   1516\u001b[0m     \u001b[39mreturn\u001b[39;00m \u001b[39mself\u001b[39m\u001b[39m.\u001b[39m_compiled_call_impl(\u001b[39m*\u001b[39margs, \u001b[39m*\u001b[39m\u001b[39m*\u001b[39mkwargs)  \u001b[39m# type: ignore[misc]\u001b[39;00m\n\u001b[1;32m   1517\u001b[0m \u001b[39melse\u001b[39;00m:\n\u001b[0;32m-> 1518\u001b[0m     \u001b[39mreturn\u001b[39;00m \u001b[39mself\u001b[39;49m\u001b[39m.\u001b[39;49m_call_impl(\u001b[39m*\u001b[39;49margs, \u001b[39m*\u001b[39;49m\u001b[39m*\u001b[39;49mkwargs)\n",
      "File \u001b[0;32m/opt/homebrew/Caskroom/mambaforge/base/envs/krakowiak/lib/python3.9/site-packages/torch/nn/modules/module.py:1527\u001b[0m, in \u001b[0;36mModule._call_impl\u001b[0;34m(self, *args, **kwargs)\u001b[0m\n\u001b[1;32m   1522\u001b[0m \u001b[39m# If we don't have any hooks, we want to skip the rest of the logic in\u001b[39;00m\n\u001b[1;32m   1523\u001b[0m \u001b[39m# this function, and just call forward.\u001b[39;00m\n\u001b[1;32m   1524\u001b[0m \u001b[39mif\u001b[39;00m \u001b[39mnot\u001b[39;00m (\u001b[39mself\u001b[39m\u001b[39m.\u001b[39m_backward_hooks \u001b[39mor\u001b[39;00m \u001b[39mself\u001b[39m\u001b[39m.\u001b[39m_backward_pre_hooks \u001b[39mor\u001b[39;00m \u001b[39mself\u001b[39m\u001b[39m.\u001b[39m_forward_hooks \u001b[39mor\u001b[39;00m \u001b[39mself\u001b[39m\u001b[39m.\u001b[39m_forward_pre_hooks\n\u001b[1;32m   1525\u001b[0m         \u001b[39mor\u001b[39;00m _global_backward_pre_hooks \u001b[39mor\u001b[39;00m _global_backward_hooks\n\u001b[1;32m   1526\u001b[0m         \u001b[39mor\u001b[39;00m _global_forward_hooks \u001b[39mor\u001b[39;00m _global_forward_pre_hooks):\n\u001b[0;32m-> 1527\u001b[0m     \u001b[39mreturn\u001b[39;00m forward_call(\u001b[39m*\u001b[39;49margs, \u001b[39m*\u001b[39;49m\u001b[39m*\u001b[39;49mkwargs)\n\u001b[1;32m   1529\u001b[0m \u001b[39mtry\u001b[39;00m:\n\u001b[1;32m   1530\u001b[0m     result \u001b[39m=\u001b[39m \u001b[39mNone\u001b[39;00m\n",
      "File \u001b[0;32m/opt/homebrew/Caskroom/mambaforge/base/envs/krakowiak/lib/python3.9/site-packages/transformers/models/xlm_roberta/modeling_xlm_roberta.py:367\u001b[0m, in \u001b[0;36mXLMRobertaIntermediate.forward\u001b[0;34m(self, hidden_states)\u001b[0m\n\u001b[1;32m    365\u001b[0m \u001b[39mdef\u001b[39;00m \u001b[39mforward\u001b[39m(\u001b[39mself\u001b[39m, hidden_states: torch\u001b[39m.\u001b[39mTensor) \u001b[39m-\u001b[39m\u001b[39m>\u001b[39m torch\u001b[39m.\u001b[39mTensor:\n\u001b[1;32m    366\u001b[0m     hidden_states \u001b[39m=\u001b[39m \u001b[39mself\u001b[39m\u001b[39m.\u001b[39mdense(hidden_states)\n\u001b[0;32m--> 367\u001b[0m     hidden_states \u001b[39m=\u001b[39m \u001b[39mself\u001b[39;49m\u001b[39m.\u001b[39;49mintermediate_act_fn(hidden_states)\n\u001b[1;32m    368\u001b[0m     \u001b[39mreturn\u001b[39;00m hidden_states\n",
      "File \u001b[0;32m/opt/homebrew/Caskroom/mambaforge/base/envs/krakowiak/lib/python3.9/site-packages/torch/nn/modules/module.py:1518\u001b[0m, in \u001b[0;36mModule._wrapped_call_impl\u001b[0;34m(self, *args, **kwargs)\u001b[0m\n\u001b[1;32m   1516\u001b[0m     \u001b[39mreturn\u001b[39;00m \u001b[39mself\u001b[39m\u001b[39m.\u001b[39m_compiled_call_impl(\u001b[39m*\u001b[39margs, \u001b[39m*\u001b[39m\u001b[39m*\u001b[39mkwargs)  \u001b[39m# type: ignore[misc]\u001b[39;00m\n\u001b[1;32m   1517\u001b[0m \u001b[39melse\u001b[39;00m:\n\u001b[0;32m-> 1518\u001b[0m     \u001b[39mreturn\u001b[39;00m \u001b[39mself\u001b[39;49m\u001b[39m.\u001b[39;49m_call_impl(\u001b[39m*\u001b[39;49margs, \u001b[39m*\u001b[39;49m\u001b[39m*\u001b[39;49mkwargs)\n",
      "File \u001b[0;32m/opt/homebrew/Caskroom/mambaforge/base/envs/krakowiak/lib/python3.9/site-packages/torch/nn/modules/module.py:1527\u001b[0m, in \u001b[0;36mModule._call_impl\u001b[0;34m(self, *args, **kwargs)\u001b[0m\n\u001b[1;32m   1522\u001b[0m \u001b[39m# If we don't have any hooks, we want to skip the rest of the logic in\u001b[39;00m\n\u001b[1;32m   1523\u001b[0m \u001b[39m# this function, and just call forward.\u001b[39;00m\n\u001b[1;32m   1524\u001b[0m \u001b[39mif\u001b[39;00m \u001b[39mnot\u001b[39;00m (\u001b[39mself\u001b[39m\u001b[39m.\u001b[39m_backward_hooks \u001b[39mor\u001b[39;00m \u001b[39mself\u001b[39m\u001b[39m.\u001b[39m_backward_pre_hooks \u001b[39mor\u001b[39;00m \u001b[39mself\u001b[39m\u001b[39m.\u001b[39m_forward_hooks \u001b[39mor\u001b[39;00m \u001b[39mself\u001b[39m\u001b[39m.\u001b[39m_forward_pre_hooks\n\u001b[1;32m   1525\u001b[0m         \u001b[39mor\u001b[39;00m _global_backward_pre_hooks \u001b[39mor\u001b[39;00m _global_backward_hooks\n\u001b[1;32m   1526\u001b[0m         \u001b[39mor\u001b[39;00m _global_forward_hooks \u001b[39mor\u001b[39;00m _global_forward_pre_hooks):\n\u001b[0;32m-> 1527\u001b[0m     \u001b[39mreturn\u001b[39;00m forward_call(\u001b[39m*\u001b[39;49margs, \u001b[39m*\u001b[39;49m\u001b[39m*\u001b[39;49mkwargs)\n\u001b[1;32m   1529\u001b[0m \u001b[39mtry\u001b[39;00m:\n\u001b[1;32m   1530\u001b[0m     result \u001b[39m=\u001b[39m \u001b[39mNone\u001b[39;00m\n",
      "File \u001b[0;32m/opt/homebrew/Caskroom/mambaforge/base/envs/krakowiak/lib/python3.9/site-packages/transformers/activations.py:78\u001b[0m, in \u001b[0;36mGELUActivation.forward\u001b[0;34m(self, input)\u001b[0m\n\u001b[1;32m     77\u001b[0m \u001b[39mdef\u001b[39;00m \u001b[39mforward\u001b[39m(\u001b[39mself\u001b[39m, \u001b[39minput\u001b[39m: Tensor) \u001b[39m-\u001b[39m\u001b[39m>\u001b[39m Tensor:\n\u001b[0;32m---> 78\u001b[0m     \u001b[39mreturn\u001b[39;00m \u001b[39mself\u001b[39;49m\u001b[39m.\u001b[39;49mact(\u001b[39minput\u001b[39;49m)\n",
      "\u001b[0;31mKeyboardInterrupt\u001b[0m: "
     ]
    }
   ],
   "source": [
    "pipe = pipeline(\"text-classification\", model=\"papluca/xlm-roberta-base-language-detection\", truncation=True, max_length=128)\n",
    "oa_guanco_en = []\n",
    "for i,text in enumerate(tqdm.tqdm(oa_guanco_df[\"text\"])):\n",
    "    if pipe(text)[0][\"label\"] == \"en\":\n",
    "        oa_guanco_en.append(text)\n",
    "\n",
    "### temp df\n",
    "df = pd.DataFrame(oa_guanco_en, columns=[\"text\"])\n",
    "df = df[~df[\"text\"].str.contains(\"Open Assistant\")]\n",
    "df = df[~df[\"text\"].str.contains(\"grammar\")]\n",
    "df = df[~df[\"text\"].str.contains(\"Re-write this sentence\")]\n",
    "df = df[~df[\"text\"].str.contains(\"Rewrite\")]\n",
    "\n",
    "## replace ### Asystent with <ASYSTENT_TAG>\n",
    "df[\"text\"] = df[\"text\"].str.replace(\"### Assistant\", \"<ASYSTENT_TAG>\")\n",
    "## replace ### Użytkownik with <USER_TAG>\n",
    "df[\"text\"] = df[\"text\"].str.replace(\"### Human\", \"<USER_TAG>\")\n",
    "\n",
    "df.to_csv(\"../data/en/oa_guanco_en.csv\", index=False)"
   ]
  },
  {
   "cell_type": "code",
   "execution_count": 8,
   "metadata": {},
   "outputs": [
    {
     "ename": "NameError",
     "evalue": "name 'df' is not defined",
     "output_type": "error",
     "traceback": [
      "\u001b[0;31m---------------------------------------------------------------------------\u001b[0m",
      "\u001b[0;31mNameError\u001b[0m                                 Traceback (most recent call last)",
      "\u001b[1;32m/Users/szymon/Desktop/finetune-llm/src/data/merge-datasets.ipynb Cell 10\u001b[0m line \u001b[0;36m2\n\u001b[1;32m      <a href='vscode-notebook-cell:/Users/szymon/Desktop/finetune-llm/src/data/merge-datasets.ipynb#X12sZmlsZQ%3D%3D?line=0'>1</a>\u001b[0m \u001b[39m## replace ### Asystent with <ASYSTENT_TAG>\u001b[39;00m\n\u001b[0;32m----> <a href='vscode-notebook-cell:/Users/szymon/Desktop/finetune-llm/src/data/merge-datasets.ipynb#X12sZmlsZQ%3D%3D?line=1'>2</a>\u001b[0m df[\u001b[39m\"\u001b[39m\u001b[39mtext\u001b[39m\u001b[39m\"\u001b[39m] \u001b[39m=\u001b[39m df[\u001b[39m\"\u001b[39m\u001b[39mtext\u001b[39m\u001b[39m\"\u001b[39m]\u001b[39m.\u001b[39mstr\u001b[39m.\u001b[39mreplace(\u001b[39m\"\u001b[39m\u001b[39m### Assistant\u001b[39m\u001b[39m\"\u001b[39m, \u001b[39m\"\u001b[39m\u001b[39m<ASYSTENT_TAG>\u001b[39m\u001b[39m\"\u001b[39m)\n\u001b[1;32m      <a href='vscode-notebook-cell:/Users/szymon/Desktop/finetune-llm/src/data/merge-datasets.ipynb#X12sZmlsZQ%3D%3D?line=2'>3</a>\u001b[0m \u001b[39m## replace ### Użytkownik with <USER_TAG>\u001b[39;00m\n\u001b[1;32m      <a href='vscode-notebook-cell:/Users/szymon/Desktop/finetune-llm/src/data/merge-datasets.ipynb#X12sZmlsZQ%3D%3D?line=3'>4</a>\u001b[0m df[\u001b[39m\"\u001b[39m\u001b[39mtext\u001b[39m\u001b[39m\"\u001b[39m] \u001b[39m=\u001b[39m df[\u001b[39m\"\u001b[39m\u001b[39mtext\u001b[39m\u001b[39m\"\u001b[39m]\u001b[39m.\u001b[39mstr\u001b[39m.\u001b[39mreplace(\u001b[39m\"\u001b[39m\u001b[39m### Human\u001b[39m\u001b[39m\"\u001b[39m, \u001b[39m\"\u001b[39m\u001b[39m<USER_TAG>\u001b[39m\u001b[39m\"\u001b[39m)\n",
      "\u001b[0;31mNameError\u001b[0m: name 'df' is not defined"
     ]
    }
   ],
   "source": [
    "## replace ### Asystent with <ASYSTENT_TAG>\n",
    "df[\"text\"] = df[\"text\"].str.replace(\"### Assistant\", \"<ASYSTENT_TAG>\")\n",
    "## replace ### Użytkownik with <USER_TAG>\n",
    "df[\"text\"] = df[\"text\"].str.replace(\"### Human\", \"<USER_TAG>\")\n",
    "df.to_csv(\"../data/en/oa_guanco_en.csv\", index=False)"
   ]
  },
  {
   "cell_type": "code",
   "execution_count": 9,
   "metadata": {},
   "outputs": [
    {
     "ename": "FileNotFoundError",
     "evalue": "[Errno 2] No such file or directory: 'oa_dataset_translated.csv'",
     "output_type": "error",
     "traceback": [
      "\u001b[0;31m---------------------------------------------------------------------------\u001b[0m",
      "\u001b[0;31mFileNotFoundError\u001b[0m                         Traceback (most recent call last)",
      "\u001b[1;32m/Users/szymon/Desktop/finetune-llm/src/data/merge-datasets.ipynb Cell 11\u001b[0m line \u001b[0;36m1\n\u001b[0;32m----> <a href='vscode-notebook-cell:/Users/szymon/Desktop/finetune-llm/src/data/merge-datasets.ipynb#X13sZmlsZQ%3D%3D?line=0'>1</a>\u001b[0m oa_translated_df \u001b[39m=\u001b[39m pd\u001b[39m.\u001b[39;49mread_csv(\u001b[39m\"\u001b[39;49m\u001b[39moa_dataset_translated.csv\u001b[39;49m\u001b[39m\"\u001b[39;49m)\n\u001b[1;32m      <a href='vscode-notebook-cell:/Users/szymon/Desktop/finetune-llm/src/data/merge-datasets.ipynb#X13sZmlsZQ%3D%3D?line=1'>2</a>\u001b[0m oa_translated_df \u001b[39m=\u001b[39m oa_translated_df[\u001b[39m\"\u001b[39m\u001b[39mtranslation\u001b[39m\u001b[39m\"\u001b[39m]\n\u001b[1;32m      <a href='vscode-notebook-cell:/Users/szymon/Desktop/finetune-llm/src/data/merge-datasets.ipynb#X13sZmlsZQ%3D%3D?line=2'>3</a>\u001b[0m \u001b[39m## create new column in new df named oa_prompts with translation\u001b[39;00m\n",
      "File \u001b[0;32m/opt/homebrew/Caskroom/mambaforge/base/envs/krakowiak/lib/python3.9/site-packages/pandas/io/parsers/readers.py:948\u001b[0m, in \u001b[0;36mread_csv\u001b[0;34m(filepath_or_buffer, sep, delimiter, header, names, index_col, usecols, dtype, engine, converters, true_values, false_values, skipinitialspace, skiprows, skipfooter, nrows, na_values, keep_default_na, na_filter, verbose, skip_blank_lines, parse_dates, infer_datetime_format, keep_date_col, date_parser, date_format, dayfirst, cache_dates, iterator, chunksize, compression, thousands, decimal, lineterminator, quotechar, quoting, doublequote, escapechar, comment, encoding, encoding_errors, dialect, on_bad_lines, delim_whitespace, low_memory, memory_map, float_precision, storage_options, dtype_backend)\u001b[0m\n\u001b[1;32m    935\u001b[0m kwds_defaults \u001b[39m=\u001b[39m _refine_defaults_read(\n\u001b[1;32m    936\u001b[0m     dialect,\n\u001b[1;32m    937\u001b[0m     delimiter,\n\u001b[0;32m   (...)\u001b[0m\n\u001b[1;32m    944\u001b[0m     dtype_backend\u001b[39m=\u001b[39mdtype_backend,\n\u001b[1;32m    945\u001b[0m )\n\u001b[1;32m    946\u001b[0m kwds\u001b[39m.\u001b[39mupdate(kwds_defaults)\n\u001b[0;32m--> 948\u001b[0m \u001b[39mreturn\u001b[39;00m _read(filepath_or_buffer, kwds)\n",
      "File \u001b[0;32m/opt/homebrew/Caskroom/mambaforge/base/envs/krakowiak/lib/python3.9/site-packages/pandas/io/parsers/readers.py:611\u001b[0m, in \u001b[0;36m_read\u001b[0;34m(filepath_or_buffer, kwds)\u001b[0m\n\u001b[1;32m    608\u001b[0m _validate_names(kwds\u001b[39m.\u001b[39mget(\u001b[39m\"\u001b[39m\u001b[39mnames\u001b[39m\u001b[39m\"\u001b[39m, \u001b[39mNone\u001b[39;00m))\n\u001b[1;32m    610\u001b[0m \u001b[39m# Create the parser.\u001b[39;00m\n\u001b[0;32m--> 611\u001b[0m parser \u001b[39m=\u001b[39m TextFileReader(filepath_or_buffer, \u001b[39m*\u001b[39;49m\u001b[39m*\u001b[39;49mkwds)\n\u001b[1;32m    613\u001b[0m \u001b[39mif\u001b[39;00m chunksize \u001b[39mor\u001b[39;00m iterator:\n\u001b[1;32m    614\u001b[0m     \u001b[39mreturn\u001b[39;00m parser\n",
      "File \u001b[0;32m/opt/homebrew/Caskroom/mambaforge/base/envs/krakowiak/lib/python3.9/site-packages/pandas/io/parsers/readers.py:1448\u001b[0m, in \u001b[0;36mTextFileReader.__init__\u001b[0;34m(self, f, engine, **kwds)\u001b[0m\n\u001b[1;32m   1445\u001b[0m     \u001b[39mself\u001b[39m\u001b[39m.\u001b[39moptions[\u001b[39m\"\u001b[39m\u001b[39mhas_index_names\u001b[39m\u001b[39m\"\u001b[39m] \u001b[39m=\u001b[39m kwds[\u001b[39m\"\u001b[39m\u001b[39mhas_index_names\u001b[39m\u001b[39m\"\u001b[39m]\n\u001b[1;32m   1447\u001b[0m \u001b[39mself\u001b[39m\u001b[39m.\u001b[39mhandles: IOHandles \u001b[39m|\u001b[39m \u001b[39mNone\u001b[39;00m \u001b[39m=\u001b[39m \u001b[39mNone\u001b[39;00m\n\u001b[0;32m-> 1448\u001b[0m \u001b[39mself\u001b[39m\u001b[39m.\u001b[39m_engine \u001b[39m=\u001b[39m \u001b[39mself\u001b[39;49m\u001b[39m.\u001b[39;49m_make_engine(f, \u001b[39mself\u001b[39;49m\u001b[39m.\u001b[39;49mengine)\n",
      "File \u001b[0;32m/opt/homebrew/Caskroom/mambaforge/base/envs/krakowiak/lib/python3.9/site-packages/pandas/io/parsers/readers.py:1705\u001b[0m, in \u001b[0;36mTextFileReader._make_engine\u001b[0;34m(self, f, engine)\u001b[0m\n\u001b[1;32m   1703\u001b[0m     \u001b[39mif\u001b[39;00m \u001b[39m\"\u001b[39m\u001b[39mb\u001b[39m\u001b[39m\"\u001b[39m \u001b[39mnot\u001b[39;00m \u001b[39min\u001b[39;00m mode:\n\u001b[1;32m   1704\u001b[0m         mode \u001b[39m+\u001b[39m\u001b[39m=\u001b[39m \u001b[39m\"\u001b[39m\u001b[39mb\u001b[39m\u001b[39m\"\u001b[39m\n\u001b[0;32m-> 1705\u001b[0m \u001b[39mself\u001b[39m\u001b[39m.\u001b[39mhandles \u001b[39m=\u001b[39m get_handle(\n\u001b[1;32m   1706\u001b[0m     f,\n\u001b[1;32m   1707\u001b[0m     mode,\n\u001b[1;32m   1708\u001b[0m     encoding\u001b[39m=\u001b[39;49m\u001b[39mself\u001b[39;49m\u001b[39m.\u001b[39;49moptions\u001b[39m.\u001b[39;49mget(\u001b[39m\"\u001b[39;49m\u001b[39mencoding\u001b[39;49m\u001b[39m\"\u001b[39;49m, \u001b[39mNone\u001b[39;49;00m),\n\u001b[1;32m   1709\u001b[0m     compression\u001b[39m=\u001b[39;49m\u001b[39mself\u001b[39;49m\u001b[39m.\u001b[39;49moptions\u001b[39m.\u001b[39;49mget(\u001b[39m\"\u001b[39;49m\u001b[39mcompression\u001b[39;49m\u001b[39m\"\u001b[39;49m, \u001b[39mNone\u001b[39;49;00m),\n\u001b[1;32m   1710\u001b[0m     memory_map\u001b[39m=\u001b[39;49m\u001b[39mself\u001b[39;49m\u001b[39m.\u001b[39;49moptions\u001b[39m.\u001b[39;49mget(\u001b[39m\"\u001b[39;49m\u001b[39mmemory_map\u001b[39;49m\u001b[39m\"\u001b[39;49m, \u001b[39mFalse\u001b[39;49;00m),\n\u001b[1;32m   1711\u001b[0m     is_text\u001b[39m=\u001b[39;49mis_text,\n\u001b[1;32m   1712\u001b[0m     errors\u001b[39m=\u001b[39;49m\u001b[39mself\u001b[39;49m\u001b[39m.\u001b[39;49moptions\u001b[39m.\u001b[39;49mget(\u001b[39m\"\u001b[39;49m\u001b[39mencoding_errors\u001b[39;49m\u001b[39m\"\u001b[39;49m, \u001b[39m\"\u001b[39;49m\u001b[39mstrict\u001b[39;49m\u001b[39m\"\u001b[39;49m),\n\u001b[1;32m   1713\u001b[0m     storage_options\u001b[39m=\u001b[39;49m\u001b[39mself\u001b[39;49m\u001b[39m.\u001b[39;49moptions\u001b[39m.\u001b[39;49mget(\u001b[39m\"\u001b[39;49m\u001b[39mstorage_options\u001b[39;49m\u001b[39m\"\u001b[39;49m, \u001b[39mNone\u001b[39;49;00m),\n\u001b[1;32m   1714\u001b[0m )\n\u001b[1;32m   1715\u001b[0m \u001b[39massert\u001b[39;00m \u001b[39mself\u001b[39m\u001b[39m.\u001b[39mhandles \u001b[39mis\u001b[39;00m \u001b[39mnot\u001b[39;00m \u001b[39mNone\u001b[39;00m\n\u001b[1;32m   1716\u001b[0m f \u001b[39m=\u001b[39m \u001b[39mself\u001b[39m\u001b[39m.\u001b[39mhandles\u001b[39m.\u001b[39mhandle\n",
      "File \u001b[0;32m/opt/homebrew/Caskroom/mambaforge/base/envs/krakowiak/lib/python3.9/site-packages/pandas/io/common.py:863\u001b[0m, in \u001b[0;36mget_handle\u001b[0;34m(path_or_buf, mode, encoding, compression, memory_map, is_text, errors, storage_options)\u001b[0m\n\u001b[1;32m    858\u001b[0m \u001b[39melif\u001b[39;00m \u001b[39misinstance\u001b[39m(handle, \u001b[39mstr\u001b[39m):\n\u001b[1;32m    859\u001b[0m     \u001b[39m# Check whether the filename is to be opened in binary mode.\u001b[39;00m\n\u001b[1;32m    860\u001b[0m     \u001b[39m# Binary mode does not support 'encoding' and 'newline'.\u001b[39;00m\n\u001b[1;32m    861\u001b[0m     \u001b[39mif\u001b[39;00m ioargs\u001b[39m.\u001b[39mencoding \u001b[39mand\u001b[39;00m \u001b[39m\"\u001b[39m\u001b[39mb\u001b[39m\u001b[39m\"\u001b[39m \u001b[39mnot\u001b[39;00m \u001b[39min\u001b[39;00m ioargs\u001b[39m.\u001b[39mmode:\n\u001b[1;32m    862\u001b[0m         \u001b[39m# Encoding\u001b[39;00m\n\u001b[0;32m--> 863\u001b[0m         handle \u001b[39m=\u001b[39m \u001b[39mopen\u001b[39;49m(\n\u001b[1;32m    864\u001b[0m             handle,\n\u001b[1;32m    865\u001b[0m             ioargs\u001b[39m.\u001b[39;49mmode,\n\u001b[1;32m    866\u001b[0m             encoding\u001b[39m=\u001b[39;49mioargs\u001b[39m.\u001b[39;49mencoding,\n\u001b[1;32m    867\u001b[0m             errors\u001b[39m=\u001b[39;49merrors,\n\u001b[1;32m    868\u001b[0m             newline\u001b[39m=\u001b[39;49m\u001b[39m\"\u001b[39;49m\u001b[39m\"\u001b[39;49m,\n\u001b[1;32m    869\u001b[0m         )\n\u001b[1;32m    870\u001b[0m     \u001b[39melse\u001b[39;00m:\n\u001b[1;32m    871\u001b[0m         \u001b[39m# Binary mode\u001b[39;00m\n\u001b[1;32m    872\u001b[0m         handle \u001b[39m=\u001b[39m \u001b[39mopen\u001b[39m(handle, ioargs\u001b[39m.\u001b[39mmode)\n",
      "\u001b[0;31mFileNotFoundError\u001b[0m: [Errno 2] No such file or directory: 'oa_dataset_translated.csv'"
     ]
    }
   ],
   "source": [
    "oa_translated_df = pd.read_csv(\"oa_dataset_translated.csv\")\n",
    "oa_translated_df = oa_translated_df[\"translation\"]\n",
    "## create new column in new df named oa_prompts with translation\n",
    "oa_translated_df = oa_translated_df.str.replace(\"<ASYSTENT_TAG>\", \"### Asystent\")\n",
    "prompts_oa = oa_translated_df.str.replace(\"<USER_TAG>\", \"### Użytkownik\")"
   ]
  },
  {
   "cell_type": "markdown",
   "metadata": {},
   "source": [
    "#### Dolly 15K"
   ]
  },
  {
   "cell_type": "code",
   "execution_count": 10,
   "metadata": {},
   "outputs": [
    {
     "ename": "OSError",
     "evalue": "Cannot save file into a non-existent directory: '../data/en'",
     "output_type": "error",
     "traceback": [
      "\u001b[0;31m---------------------------------------------------------------------------\u001b[0m",
      "\u001b[0;31mOSError\u001b[0m                                   Traceback (most recent call last)",
      "\u001b[1;32m/Users/szymon/Desktop/finetune-llm/src/data/merge-datasets.ipynb Cell 13\u001b[0m line \u001b[0;36m4\n\u001b[1;32m      <a href='vscode-notebook-cell:/Users/szymon/Desktop/finetune-llm/src/data/merge-datasets.ipynb#X15sZmlsZQ%3D%3D?line=1'>2</a>\u001b[0m dolly_train_df \u001b[39m=\u001b[39m dolly[\u001b[39m'\u001b[39m\u001b[39mtrain\u001b[39m\u001b[39m'\u001b[39m]\u001b[39m.\u001b[39mto_pandas()\n\u001b[1;32m      <a href='vscode-notebook-cell:/Users/szymon/Desktop/finetune-llm/src/data/merge-datasets.ipynb#X15sZmlsZQ%3D%3D?line=2'>3</a>\u001b[0m \u001b[39m# to csv\u001b[39;00m\n\u001b[0;32m----> <a href='vscode-notebook-cell:/Users/szymon/Desktop/finetune-llm/src/data/merge-datasets.ipynb#X15sZmlsZQ%3D%3D?line=3'>4</a>\u001b[0m dolly_train_df\u001b[39m.\u001b[39;49mto_csv(\u001b[39m\"\u001b[39;49m\u001b[39m../data/en/dolly_train.csv\u001b[39;49m\u001b[39m\"\u001b[39;49m, index\u001b[39m=\u001b[39;49m\u001b[39mFalse\u001b[39;49;00m)\n",
      "File \u001b[0;32m/opt/homebrew/Caskroom/mambaforge/base/envs/krakowiak/lib/python3.9/site-packages/pandas/core/generic.py:3902\u001b[0m, in \u001b[0;36mNDFrame.to_csv\u001b[0;34m(self, path_or_buf, sep, na_rep, float_format, columns, header, index, index_label, mode, encoding, compression, quoting, quotechar, lineterminator, chunksize, date_format, doublequote, escapechar, decimal, errors, storage_options)\u001b[0m\n\u001b[1;32m   3891\u001b[0m df \u001b[39m=\u001b[39m \u001b[39mself\u001b[39m \u001b[39mif\u001b[39;00m \u001b[39misinstance\u001b[39m(\u001b[39mself\u001b[39m, ABCDataFrame) \u001b[39melse\u001b[39;00m \u001b[39mself\u001b[39m\u001b[39m.\u001b[39mto_frame()\n\u001b[1;32m   3893\u001b[0m formatter \u001b[39m=\u001b[39m DataFrameFormatter(\n\u001b[1;32m   3894\u001b[0m     frame\u001b[39m=\u001b[39mdf,\n\u001b[1;32m   3895\u001b[0m     header\u001b[39m=\u001b[39mheader,\n\u001b[0;32m   (...)\u001b[0m\n\u001b[1;32m   3899\u001b[0m     decimal\u001b[39m=\u001b[39mdecimal,\n\u001b[1;32m   3900\u001b[0m )\n\u001b[0;32m-> 3902\u001b[0m \u001b[39mreturn\u001b[39;00m DataFrameRenderer(formatter)\u001b[39m.\u001b[39;49mto_csv(\n\u001b[1;32m   3903\u001b[0m     path_or_buf,\n\u001b[1;32m   3904\u001b[0m     lineterminator\u001b[39m=\u001b[39;49mlineterminator,\n\u001b[1;32m   3905\u001b[0m     sep\u001b[39m=\u001b[39;49msep,\n\u001b[1;32m   3906\u001b[0m     encoding\u001b[39m=\u001b[39;49mencoding,\n\u001b[1;32m   3907\u001b[0m     errors\u001b[39m=\u001b[39;49merrors,\n\u001b[1;32m   3908\u001b[0m     compression\u001b[39m=\u001b[39;49mcompression,\n\u001b[1;32m   3909\u001b[0m     quoting\u001b[39m=\u001b[39;49mquoting,\n\u001b[1;32m   3910\u001b[0m     columns\u001b[39m=\u001b[39;49mcolumns,\n\u001b[1;32m   3911\u001b[0m     index_label\u001b[39m=\u001b[39;49mindex_label,\n\u001b[1;32m   3912\u001b[0m     mode\u001b[39m=\u001b[39;49mmode,\n\u001b[1;32m   3913\u001b[0m     chunksize\u001b[39m=\u001b[39;49mchunksize,\n\u001b[1;32m   3914\u001b[0m     quotechar\u001b[39m=\u001b[39;49mquotechar,\n\u001b[1;32m   3915\u001b[0m     date_format\u001b[39m=\u001b[39;49mdate_format,\n\u001b[1;32m   3916\u001b[0m     doublequote\u001b[39m=\u001b[39;49mdoublequote,\n\u001b[1;32m   3917\u001b[0m     escapechar\u001b[39m=\u001b[39;49mescapechar,\n\u001b[1;32m   3918\u001b[0m     storage_options\u001b[39m=\u001b[39;49mstorage_options,\n\u001b[1;32m   3919\u001b[0m )\n",
      "File \u001b[0;32m/opt/homebrew/Caskroom/mambaforge/base/envs/krakowiak/lib/python3.9/site-packages/pandas/io/formats/format.py:1152\u001b[0m, in \u001b[0;36mDataFrameRenderer.to_csv\u001b[0;34m(self, path_or_buf, encoding, sep, columns, index_label, mode, compression, quoting, quotechar, lineterminator, chunksize, date_format, doublequote, escapechar, errors, storage_options)\u001b[0m\n\u001b[1;32m   1131\u001b[0m     created_buffer \u001b[39m=\u001b[39m \u001b[39mFalse\u001b[39;00m\n\u001b[1;32m   1133\u001b[0m csv_formatter \u001b[39m=\u001b[39m CSVFormatter(\n\u001b[1;32m   1134\u001b[0m     path_or_buf\u001b[39m=\u001b[39mpath_or_buf,\n\u001b[1;32m   1135\u001b[0m     lineterminator\u001b[39m=\u001b[39mlineterminator,\n\u001b[0;32m   (...)\u001b[0m\n\u001b[1;32m   1150\u001b[0m     formatter\u001b[39m=\u001b[39m\u001b[39mself\u001b[39m\u001b[39m.\u001b[39mfmt,\n\u001b[1;32m   1151\u001b[0m )\n\u001b[0;32m-> 1152\u001b[0m csv_formatter\u001b[39m.\u001b[39;49msave()\n\u001b[1;32m   1154\u001b[0m \u001b[39mif\u001b[39;00m created_buffer:\n\u001b[1;32m   1155\u001b[0m     \u001b[39massert\u001b[39;00m \u001b[39misinstance\u001b[39m(path_or_buf, StringIO)\n",
      "File \u001b[0;32m/opt/homebrew/Caskroom/mambaforge/base/envs/krakowiak/lib/python3.9/site-packages/pandas/io/formats/csvs.py:247\u001b[0m, in \u001b[0;36mCSVFormatter.save\u001b[0;34m(self)\u001b[0m\n\u001b[1;32m    243\u001b[0m \u001b[39m\u001b[39m\u001b[39m\"\"\"\u001b[39;00m\n\u001b[1;32m    244\u001b[0m \u001b[39mCreate the writer & save.\u001b[39;00m\n\u001b[1;32m    245\u001b[0m \u001b[39m\"\"\"\u001b[39;00m\n\u001b[1;32m    246\u001b[0m \u001b[39m# apply compression and byte/text conversion\u001b[39;00m\n\u001b[0;32m--> 247\u001b[0m \u001b[39mwith\u001b[39;00m get_handle(\n\u001b[1;32m    248\u001b[0m     \u001b[39mself\u001b[39;49m\u001b[39m.\u001b[39;49mfilepath_or_buffer,\n\u001b[1;32m    249\u001b[0m     \u001b[39mself\u001b[39;49m\u001b[39m.\u001b[39;49mmode,\n\u001b[1;32m    250\u001b[0m     encoding\u001b[39m=\u001b[39;49m\u001b[39mself\u001b[39;49m\u001b[39m.\u001b[39;49mencoding,\n\u001b[1;32m    251\u001b[0m     errors\u001b[39m=\u001b[39;49m\u001b[39mself\u001b[39;49m\u001b[39m.\u001b[39;49merrors,\n\u001b[1;32m    252\u001b[0m     compression\u001b[39m=\u001b[39;49m\u001b[39mself\u001b[39;49m\u001b[39m.\u001b[39;49mcompression,\n\u001b[1;32m    253\u001b[0m     storage_options\u001b[39m=\u001b[39;49m\u001b[39mself\u001b[39;49m\u001b[39m.\u001b[39;49mstorage_options,\n\u001b[1;32m    254\u001b[0m ) \u001b[39mas\u001b[39;00m handles:\n\u001b[1;32m    255\u001b[0m     \u001b[39m# Note: self.encoding is irrelevant here\u001b[39;00m\n\u001b[1;32m    256\u001b[0m     \u001b[39mself\u001b[39m\u001b[39m.\u001b[39mwriter \u001b[39m=\u001b[39m csvlib\u001b[39m.\u001b[39mwriter(\n\u001b[1;32m    257\u001b[0m         handles\u001b[39m.\u001b[39mhandle,\n\u001b[1;32m    258\u001b[0m         lineterminator\u001b[39m=\u001b[39m\u001b[39mself\u001b[39m\u001b[39m.\u001b[39mlineterminator,\n\u001b[0;32m   (...)\u001b[0m\n\u001b[1;32m    263\u001b[0m         quotechar\u001b[39m=\u001b[39m\u001b[39mself\u001b[39m\u001b[39m.\u001b[39mquotechar,\n\u001b[1;32m    264\u001b[0m     )\n\u001b[1;32m    266\u001b[0m     \u001b[39mself\u001b[39m\u001b[39m.\u001b[39m_save()\n",
      "File \u001b[0;32m/opt/homebrew/Caskroom/mambaforge/base/envs/krakowiak/lib/python3.9/site-packages/pandas/io/common.py:739\u001b[0m, in \u001b[0;36mget_handle\u001b[0;34m(path_or_buf, mode, encoding, compression, memory_map, is_text, errors, storage_options)\u001b[0m\n\u001b[1;32m    737\u001b[0m \u001b[39m# Only for write methods\u001b[39;00m\n\u001b[1;32m    738\u001b[0m \u001b[39mif\u001b[39;00m \u001b[39m\"\u001b[39m\u001b[39mr\u001b[39m\u001b[39m\"\u001b[39m \u001b[39mnot\u001b[39;00m \u001b[39min\u001b[39;00m mode \u001b[39mand\u001b[39;00m is_path:\n\u001b[0;32m--> 739\u001b[0m     check_parent_directory(\u001b[39mstr\u001b[39;49m(handle))\n\u001b[1;32m    741\u001b[0m \u001b[39mif\u001b[39;00m compression:\n\u001b[1;32m    742\u001b[0m     \u001b[39mif\u001b[39;00m compression \u001b[39m!=\u001b[39m \u001b[39m\"\u001b[39m\u001b[39mzstd\u001b[39m\u001b[39m\"\u001b[39m:\n\u001b[1;32m    743\u001b[0m         \u001b[39m# compression libraries do not like an explicit text-mode\u001b[39;00m\n",
      "File \u001b[0;32m/opt/homebrew/Caskroom/mambaforge/base/envs/krakowiak/lib/python3.9/site-packages/pandas/io/common.py:604\u001b[0m, in \u001b[0;36mcheck_parent_directory\u001b[0;34m(path)\u001b[0m\n\u001b[1;32m    602\u001b[0m parent \u001b[39m=\u001b[39m Path(path)\u001b[39m.\u001b[39mparent\n\u001b[1;32m    603\u001b[0m \u001b[39mif\u001b[39;00m \u001b[39mnot\u001b[39;00m parent\u001b[39m.\u001b[39mis_dir():\n\u001b[0;32m--> 604\u001b[0m     \u001b[39mraise\u001b[39;00m \u001b[39mOSError\u001b[39;00m(\u001b[39mrf\u001b[39m\u001b[39m\"\u001b[39m\u001b[39mCannot save file into a non-existent directory: \u001b[39m\u001b[39m'\u001b[39m\u001b[39m{\u001b[39;00mparent\u001b[39m}\u001b[39;00m\u001b[39m'\u001b[39m\u001b[39m\"\u001b[39m)\n",
      "\u001b[0;31mOSError\u001b[0m: Cannot save file into a non-existent directory: '../data/en'"
     ]
    }
   ],
   "source": [
    "dolly = load_dataset(\"databricks/databricks-dolly-15k\")\n",
    "dolly_train_df = dolly['train'].to_pandas()\n",
    "# to csv\n",
    "dolly_train_df.to_csv(\"../data/en/dolly_train.csv\", index=False)"
   ]
  },
  {
   "cell_type": "markdown",
   "metadata": {},
   "source": [
    "### QA - with context - Process clarin-pl/poquad"
   ]
  },
  {
   "cell_type": "code",
   "execution_count": 11,
   "metadata": {},
   "outputs": [
    {
     "data": {
      "text/plain": [
       "'qodpowiedz korzystając z tekstua'"
      ]
     },
     "execution_count": 11,
     "metadata": {},
     "output_type": "execute_result"
    }
   ],
   "source": [
    "poquad = load_dataset(\"clarin-pl/poquad\")\n",
    "poquad_df_train = poquad['train'].to_pandas()\n",
    "poquad_df_test = poquad['validation'].to_pandas()\n",
    "poquad_df = pd.concat([poquad_df_train, poquad_df_test], ignore_index=True)\n",
    "poquad_df = poquad_df.drop_duplicates(subset=[\"title\"]).reset_index(drop=True)\n",
    "poquad_df[\"answers\"] = poquad_df[\"answers\"].apply(lambda x: x[\"text\"][0])\n",
    "poquad_df[\"answers\"] = poquad_df[\"answers\"].str.capitalize()\n",
    "poquad_df = poquad_df[[\"context\",\"question\",\"answers\"]]\n",
    "poquad_df\n",
    "#### CREATE PROMPTS\n",
    "poquad_df[\"question_uzytownik\"] = USER_TAG + poquad_df[\"question\"]\n",
    "poquad_df[\"answer_asystent\"] = ASSISTANT_TAG + poquad_df[\"answers\"]\n"
   ]
  },
  {
   "cell_type": "markdown",
   "metadata": {},
   "source": [
    "### Process poleval_2019_mt"
   ]
  },
  {
   "cell_type": "code",
   "execution_count": 12,
   "metadata": {},
   "outputs": [],
   "source": [
    "opus100 = load_dataset(\"opus100\", \"en-pl\")"
   ]
  },
  {
   "cell_type": "code",
   "execution_count": 13,
   "metadata": {},
   "outputs": [
    {
     "name": "stderr",
     "output_type": "stream",
     "text": [
      "/var/folders/fn/clqd998j3vn03yyqqybzkq240000gn/T/ipykernel_87122/2643363535.py:8: SettingWithCopyWarning: \n",
      "A value is trying to be set on a copy of a slice from a DataFrame.\n",
      "Try using .loc[row_indexer,col_indexer] = value instead\n",
      "\n",
      "See the caveats in the documentation: https://pandas.pydata.org/pandas-docs/stable/user_guide/indexing.html#returning-a-view-versus-a-copy\n",
      "  opus100_df_en_pl[\"prompt\"] = \"### Użytkownik: Przetłumacz dany tekst z języka Angielskiego na Polski. \" + opus100_df_en_pl[\"en\"] + \"### Asystent: \" + opus100_df_en_pl[\"pl\"]\n",
      "/var/folders/fn/clqd998j3vn03yyqqybzkq240000gn/T/ipykernel_87122/2643363535.py:11: SettingWithCopyWarning: \n",
      "A value is trying to be set on a copy of a slice from a DataFrame.\n",
      "Try using .loc[row_indexer,col_indexer] = value instead\n",
      "\n",
      "See the caveats in the documentation: https://pandas.pydata.org/pandas-docs/stable/user_guide/indexing.html#returning-a-view-versus-a-copy\n",
      "  opus100_df_pl_en[\"prompt\"] = \"### Użytkownik: Przetłumacz dany tekst z języka Polskiego na Angielski. \" + opus100_df[\"pl\"] + \"### Asystent: \" + opus100_df[\"en\"]\n"
     ]
    }
   ],
   "source": [
    "opus100_df = opus100['validation'].to_pandas()\n",
    "#get data from dictonary inside column translation\n",
    "opus100_df[\"en\"] = opus100_df[\"translation\"].apply(lambda x: x[\"en\"])\n",
    "opus100_df[\"pl\"] = opus100_df[\"translation\"].apply(lambda x: x[\"pl\"])\n",
    "## przetłumacz teksty z angielskiego na polski z pierwszego 1000 wierszy\n",
    "# Take first 1000 rows\n",
    "opus100_df_en_pl = opus100_df[:1000]\n",
    "opus100_df_en_pl[\"prompt\"] = \"### Użytkownik: Przetłumacz dany tekst z języka Angielskiego na Polski. \" + opus100_df_en_pl[\"en\"] + \"### Asystent: \" + opus100_df_en_pl[\"pl\"]\n",
    "\n",
    "opus100_df_pl_en = opus100_df[1000:2000]\n",
    "opus100_df_pl_en[\"prompt\"] = \"### Użytkownik: Przetłumacz dany tekst z języka Polskiego na Angielski. \" + opus100_df[\"pl\"] + \"### Asystent: \" + opus100_df[\"en\"]\n",
    "\n",
    "#### concat \n",
    "prompts_opus100 = pd.concat([opus100_df_en_pl[\"prompt\"], opus100_df_pl_en[\"prompt\"]], ignore_index=True)\n",
    "# reset index\n",
    "prompts_opus100 = prompts_opus100.reset_index(drop=True)\n"
   ]
  },
  {
   "cell_type": "markdown",
   "metadata": {},
   "source": [
    "### JOIN dolly prompts"
   ]
  },
  {
   "cell_type": "code",
   "execution_count": 112,
   "metadata": {},
   "outputs": [],
   "source": [
    "synonimy_do_tekst_źródłowy = [\n",
    "    \"Materiał źródłowy\",\n",
    "    \"Tekst bazowy\",\n",
    "    \"Dokument źródłowy\",\n",
    "    \"Materiał badawczy\",\n",
    "    \"Zbiór danych\",\n",
    "    \"Plik źródłowy\",\n",
    "    \"Zawartość źródłowa\",\n",
    "    \"Tekst oryginalny\",\n",
    "    \"Zasoby źródłowe\",\n",
    "    \"Dane do analizy\",\n",
    "    \"Tekst referencyjny\",\n",
    "    \"Materiał wejściowy\",\n",
    "    \"Dane pierwotne\",\n",
    "    \"Materiał analizy\",\n",
    "    \"Informacje źródłowe\",\n",
    "    \"Tekst podstawowy\",\n",
    "    \"Dokument do analizy\",\n",
    "    \"Tekst do badania\",\n",
    "    \"Tekst do oceny\",\n",
    "    \"Tekst\",\n",
    "    \"Tekst bazowy do analizy\",\n",
    "    \"Materiał referencyjny\",\n",
    "    \"Dane badawcze\",\n",
    "    \"Materiał do przetwarzania\",\n",
    "    \"Treść źródłowa\",\n",
    "    \"Informacje do badania\",\n",
    "    \"Tekst poddawany analizie\",\n",
    "    \"Dane eksploracyjne\",\n",
    "    \"Tekst wejściowy\",\n",
    "    \"Materiał do badania\",\n",
    "    \"Dane źródłowe\",\n",
    "    \"Tekst do kontroli\",\n",
    "    \"Zbiór tekstowy\",\n",
    "    \"Materiał interpretacyjny\",\n",
    "    \"Tekst do udzielenia odpowiedzi\",\n",
    "    \"Dane do oceny\",\n",
    "    \"Plik badawczy\",\n",
    "    \"Materiał referencyjny\",\n",
    "    \"Plik do analizy\",\n",
    "    \"Zawartość do analizy\",\n",
    "    \"Tekst do przetwarzania\",\n",
    "    \"Dokument referencyjny\",\n",
    "    \"Tekst do interpretacji\",\n",
    "    \"Materiał do oceny\",\n",
    "    \"Informacje do przetwarzania\",\n",
    "    \"Plik referencyjny\",\n",
    "    \"Tekst do badań\",\n",
    "    \"Materiał eksploracyjny\"\n",
    "]\n"
   ]
  },
  {
   "cell_type": "code",
   "execution_count": 199,
   "metadata": {},
   "outputs": [
    {
     "data": {
      "text/html": [
       "<div>\n",
       "<style scoped>\n",
       "    .dataframe tbody tr th:only-of-type {\n",
       "        vertical-align: middle;\n",
       "    }\n",
       "\n",
       "    .dataframe tbody tr th {\n",
       "        vertical-align: top;\n",
       "    }\n",
       "\n",
       "    .dataframe thead th {\n",
       "        text-align: right;\n",
       "    }\n",
       "</style>\n",
       "<table border=\"1\" class=\"dataframe\">\n",
       "  <thead>\n",
       "    <tr style=\"text-align: right;\">\n",
       "      <th></th>\n",
       "      <th>text</th>\n",
       "    </tr>\n",
       "  </thead>\n",
       "  <tbody>\n",
       "    <tr>\n",
       "      <th>0</th>\n",
       "      <td>&lt;|Użytkownik|&gt;: Kiedy Virgin Australia rozpocz...</td>\n",
       "    </tr>\n",
       "    <tr>\n",
       "      <th>1</th>\n",
       "      <td>&lt;|Użytkownik|&gt;: Kiedy urodziła się Tomoaki Kom...</td>\n",
       "    </tr>\n",
       "    <tr>\n",
       "      <th>2</th>\n",
       "      <td>&lt;|Użytkownik|&gt;: Biorąc pod uwagę tekst referen...</td>\n",
       "    </tr>\n",
       "    <tr>\n",
       "      <th>3</th>\n",
       "      <td>&lt;|Użytkownik|&gt;: Czym jest wydobycie procesowe?...</td>\n",
       "    </tr>\n",
       "    <tr>\n",
       "      <th>4</th>\n",
       "      <td>&lt;|Użytkownik|&gt;: Co to jest pryzmat dyspersyjny...</td>\n",
       "    </tr>\n",
       "    <tr>\n",
       "      <th>...</th>\n",
       "      <td>...</td>\n",
       "    </tr>\n",
       "    <tr>\n",
       "      <th>2196</th>\n",
       "      <td>&lt;|Użytkownik|&gt;: Kto wyreżyserował Terror Mount...</td>\n",
       "    </tr>\n",
       "    <tr>\n",
       "      <th>2197</th>\n",
       "      <td>&lt;|Użytkownik|&gt;: Ile typów kotów rozpoznaje świ...</td>\n",
       "    </tr>\n",
       "    <tr>\n",
       "      <th>2198</th>\n",
       "      <td>&lt;|Użytkownik|&gt;: Kiedy Phil Knight ogłosił, że ...</td>\n",
       "    </tr>\n",
       "    <tr>\n",
       "      <th>2199</th>\n",
       "      <td>&lt;|Użytkownik|&gt;: Jakie kwiaty można znaleźć w P...</td>\n",
       "    </tr>\n",
       "    <tr>\n",
       "      <th>2200</th>\n",
       "      <td>&lt;|Użytkownik|&gt;: Co to jest polityka jednego dz...</td>\n",
       "    </tr>\n",
       "  </tbody>\n",
       "</table>\n",
       "<p>2201 rows × 1 columns</p>\n",
       "</div>"
      ],
      "text/plain": [
       "                                                   text\n",
       "0     <|Użytkownik|>: Kiedy Virgin Australia rozpocz...\n",
       "1     <|Użytkownik|>: Kiedy urodziła się Tomoaki Kom...\n",
       "2     <|Użytkownik|>: Biorąc pod uwagę tekst referen...\n",
       "3     <|Użytkownik|>: Czym jest wydobycie procesowe?...\n",
       "4     <|Użytkownik|>: Co to jest pryzmat dyspersyjny...\n",
       "...                                                 ...\n",
       "2196  <|Użytkownik|>: Kto wyreżyserował Terror Mount...\n",
       "2197  <|Użytkownik|>: Ile typów kotów rozpoznaje świ...\n",
       "2198  <|Użytkownik|>: Kiedy Phil Knight ogłosił, że ...\n",
       "2199  <|Użytkownik|>: Jakie kwiaty można znaleźć w P...\n",
       "2200  <|Użytkownik|>: Co to jest polityka jednego dz...\n",
       "\n",
       "[2201 rows x 1 columns]"
      ]
     },
     "execution_count": 199,
     "metadata": {},
     "output_type": "execute_result"
    }
   ],
   "source": [
    "### Load translated dataset\n",
    "dolly_translated_df = pd.read_csv(\"../../data/pl_eval/dolly_pl.csv\")\n",
    "dolly_translated_df = dolly_translated_df[dolly_translated_df[\"trans_score_pl\"] >= 0.8]\n",
    "dolly_translated_df[\"text\"] = ''\n",
    "# join prompts\n",
    "for i, row in dolly_translated_df.iterrows():\n",
    "    dolly_translated_df.at[i,\"text\"] = USER_TAG + row[\"instruction_pl\"] + ' '+row[\"context_pl\"] + ASSISTANT_TAG + row[\"response_pl\"]\n",
    "    # dolly_translated_df.at[i,\"text\"] = USER_TAG + row[\"instruction_pl\"] + f\"\\n{synonimy_do_tekst_źródłowy[i%len(synonimy_do_tekst_źródłowy)]}\\n\" + row[\"context_pl\"] + ASSISTANT_TAG + row[\"response_pl\"]\n",
    "# rename column to text\n",
    "dolly_translated_df.reset_index(drop=True, inplace=True)\n",
    "dolly_translated_df = dolly_translated_df[[\"text\"]]\n",
    "dolly_translated_df"
   ]
  },
  {
   "cell_type": "code",
   "execution_count": 214,
   "metadata": {},
   "outputs": [
    {
     "data": {
      "text/plain": [
       "'<|Użytkownik|>: W którym dystrykcie jest Lightwater? Lightwater – wieś w Anglii, w dystrykcie Surrey Heath, w hrabstwie Surrey, około 43\\xa0km na południowy zachód od centrum Londynu. Bezpośrednio otaczające miasta i wsie to Bagshot, Deepcut, Windlesham, Camberley i West End, Woking. Na północny-zachód jest ograniczony autostradą M3, a na północny-wschód przez “Lightwater Bypass” (A322). Na południowym wschodzie jest ograniczony przez “Red Road” (B311), a na południu przez istnieją tory testowe pojazdów należące do Ministerstwa Obrony.\\n\\nMiejscowość przylega do zjazdu nr 3 z autostrady M3. Najbliższa stacja kolejowa znajduje się w Bagshot, na linii Ascot i Aldershot. Lightwater jest częścią cywilnej parafii Windlesham, która liczy 17,000 mieszkańców i obejmuje również sąsiednią wioskę Bagshot.<|Asystent|>: Lightwater – miasto w hrabstwie Windlesham, w dystrykcie Surrey Heath.'"
      ]
     },
     "execution_count": 214,
     "metadata": {},
     "output_type": "execute_result"
    }
   ],
   "source": [
    "dolly_translated_df[\"text\"].iloc[random.randint(0, 2201)]"
   ]
  },
  {
   "cell_type": "markdown",
   "metadata": {},
   "source": [
    "#### JOIN GUANCO PROMPTS"
   ]
  },
  {
   "cell_type": "code",
   "execution_count": 154,
   "metadata": {},
   "outputs": [
    {
     "name": "stdout",
     "output_type": "stream",
     "text": [
      "This is an example of removing duplicate words and that come after.\n"
     ]
    }
   ],
   "source": [
    "def remove_duplicate_words_and_following(input_string):\n",
    "    words = input_string.split()  # Split the string into words\n",
    "    unique_words = []\n",
    "    seen_words = set()\n",
    "\n",
    "    for word in words:\n",
    "        if word not in seen_words:\n",
    "            seen_words.add(word)\n",
    "            unique_words.append(word)\n",
    "\n",
    "    return ' '.join(unique_words)\n",
    "\n",
    "input_string = \"This is an example example of removing duplicate words and words that come after.\"\n",
    "result = remove_duplicate_words_and_following(input_string)\n",
    "print(result)"
   ]
  },
  {
   "cell_type": "code",
   "execution_count": 159,
   "metadata": {},
   "outputs": [
    {
     "data": {
      "text/plain": [
       "'<|użytkownik|> Gdzie jest Brian?<|asystent|> Istnieje wiele osób o imieniu Brian. Czy możesz podać więcej informacji, takich jak nazwisko Briana lub inne informacje identyfikujące?<|użytkownik|> Gra na gitarze, kręcone włosy, nie pochodzi z USA<|asystent|> Być może odnosisz się do Briana Harolda Maya, angielskiego muzyka znanego na całym świecie z bycia gitarzystą zespołu rockowego Queen. Ma też kręcone włosy, więc pasuje do twojego opisu. Jeśli chodzi o miejsce jego pobytu, wydaje się, że obecnie mieszka w południowo-wschodnim Londynie, choć te informacje mogą być niedokładne.'"
      ]
     },
     "execution_count": 159,
     "metadata": {},
     "output_type": "execute_result"
    }
   ],
   "source": [
    "text"
   ]
  },
  {
   "cell_type": "code",
   "execution_count": 165,
   "metadata": {},
   "outputs": [
    {
     "data": {
      "text/plain": [
       "['<|użytkownik|> Gdzie jest Brian?<|asystent|> Istnieje wiele osób o imieniu Brian. Czy możesz podać więcej informacji, takich jak nazwisko Briana lub inne informacje identyfikujące?<|użytkownik|> Gra na gitarze, kręcone włosy, nie pochodzi z USA<|asystent|> Być może odnosisz się do Briana Harolda Maya, angielskiego muzyka znanego na całym świecie z bycia gitarzystą zespołu rockowego Queen. Ma też kręcone włosy, więc pasuje do twojego opisu. Jeśli chodzi o miejsce jego pobytu, wydaje się, że obecnie mieszka w południowo-wschodnim Londynie, choć te informacje mogą być niedokładne.']"
      ]
     },
     "execution_count": 165,
     "metadata": {},
     "output_type": "execute_result"
    }
   ],
   "source": []
  },
  {
   "cell_type": "code",
   "execution_count": 108,
   "metadata": {},
   "outputs": [],
   "source": [
    "guanco_translated_df = pd.read_csv(\"../../data/pl_eval/guanco_pl.csv\")\n",
    "guanco_translated_df[\"text_pl\"] = guanco_translated_df[\"text_pl\"].str.replace(\"<ASYSTENT_TAG>: \", ASSISTANT_TAG)\n",
    "guanco_translated_df[\"text\"] = guanco_translated_df[\"text_pl\"].str.replace(\"<USER_TAG>: \", USER_TAG)\n",
    "guanco_translated_df[\"text\"] = guanco_translated_df[\"text\"].str.replace(\"Open Assistant\", \"Krakowiak\")\n",
    "guanco_translated_df = guanco_translated_df[guanco_translated_df[\"trans_score_pl\"] >= 0.8][\"text\"]\n",
    "guanco_translated_df.reset_index(drop=True, inplace=True)\n",
    "guanco_translated_df\n",
    "guanco_translated_df = pd.DataFrame(guanco_translated_df, columns=[\"text\"])"
   ]
  },
  {
   "cell_type": "code",
   "execution_count": 109,
   "metadata": {},
   "outputs": [],
   "source": [
    "guanco_translated_df= guanco_translated_df['text'].apply(split_after_second_occurrence)\n"
   ]
  },
  {
   "cell_type": "code",
   "execution_count": 111,
   "metadata": {},
   "outputs": [
    {
     "data": {
      "text/plain": [
       "'<|użytkownik|> Gdzie jest Brian?<|asystent|> Istnieje wiele osób o imieniu Brian. Czy możesz podać więcej informacji, takich jak nazwisko Briana lub inne informacje identyfikujące?<|użytkownik|> Gra na gitarze, kręcone włosy, nie pochodzi z USA<|asystent|> Być może odnosisz się do Briana Harolda Maya, angielskiego muzyka znanego na całym świecie z bycia gitarzystą zespołu rockowego Queen. Ma też kręcone włosy, więc pasuje do twojego opisu. Jeśli chodzi o miejsce jego pobytu, wydaje się, że obecnie mieszka w południowo-wschodnim Londynie, choć te informacje mogą być niedokładne.'"
      ]
     },
     "execution_count": 111,
     "metadata": {},
     "output_type": "execute_result"
    }
   ],
   "source": [
    "guanco_translated_df.iloc[1]"
   ]
  },
  {
   "cell_type": "code",
   "execution_count": 183,
   "metadata": {},
   "outputs": [
    {
     "name": "stdout",
     "output_type": "stream",
     "text": [
      "<|użytkownik|> kilka interesujących faktów o astronomii.<|asystent|> Oto kilka interesujących faktów o astronomii:\n",
      "\n",
      "1. Galaktyka Drogi Mlecznej – która jest domem dla Ziemi i reszty Układu Słonecznego – szacuje się, że zawiera około 100 miliardów gwiazd.\n",
      "2. Uważa się, że Wszechświat rozszerza się w przyspieszającym tempie i uważa się, że przyspieszenie to jest spowodowane ciemną energią.\n",
      "3. Układ Słoneczny znajduje się w jednym z ramion spiralnych Drogi Mlecznej, znanym jako ramię Oriona lub ramię Cariny.\n",
      "4. Księżyc jest jedynym naturalnym satelitą Ziemi i krąży wokół Ziemi od ponad 4.5 miliarda lat.\n",
      "5. Saturn jest jedyną planetą w Układzie Słonecznym, która ma system pierścieni, a pierścienie planety składają się głównie z cząstek lodu wodnego.\n",
      "6. Merkury jest planetą najbliższą Słońcu i okrąża Słońce w zaledwie 88 dni.\n",
      "7. Mars jest nieco mniejszy od Ziemi i znany jest z unikalnego czerwonego koloru, który jest spowodowany obecnością tlenku żelaza na powierzchni planety.\n"
     ]
    }
   ],
   "source": [
    "def remove_after_second_occurrence_from_right(input_string, substring):\n",
    "    parts = input_string.rsplit(substring, 2)\n",
    "    if len(parts) == 3:\n",
    "        result_string = parts[0] + substring + parts[1]\n",
    "        return result_string\n",
    "    else:\n",
    "        return input_string\n",
    "\n",
    "input_string = guanco_translated_df.iloc[5]\n",
    "substring = USER_TAG\n",
    "\n",
    "result = remove_after_second_occurrence_from_right(input_string, substring)\n",
    "print(result)\n"
   ]
  },
  {
   "cell_type": "code",
   "execution_count": 27,
   "metadata": {},
   "outputs": [
    {
     "data": {
      "text/plain": [
       "0       <|użytkownik|> W którym roku wynaleziono pierw...\n",
       "1       <|użytkownik|> Zaproponuj pytanie do zadania p...\n",
       "2       <|użytkownik|> Jaka jest formuła konstruowania...\n",
       "3       <|użytkownik|> Kto jest autorem powieści “Biał...\n",
       "4       <|użytkownik|> Przypisz ten zawód do odpowiedn...\n",
       "                              ...                        \n",
       "7086    <|użytkownik|> Jakiego języka powinienem się n...\n",
       "7087    <|użytkownik|> witaj\\r\\n<|asystent|> Witaj, ja...\n",
       "7088    <|użytkownik|> Alicja podróżuje z dala od punk...\n",
       "7089    <|użytkownik|> jaka jest dzisiaj pogoda?\\r\\n<|...\n",
       "7090    <|użytkownik|> Podaj mi dwie liczby, tak aby i...\n",
       "Name: text, Length: 7091, dtype: object"
      ]
     },
     "execution_count": 27,
     "metadata": {},
     "output_type": "execute_result"
    }
   ],
   "source": [
    "os_wizard = pd.read_csv(\"../../data/pl_eval/oa_wizard_pl.csv\")\n",
    "os_wizard[\"text_pl\"] = os_wizard[\"text_pl\"].str.replace(\"<ASYSTENT_TAG>: \", ASSISTANT_TAG)\n",
    "os_wizard[\"text\"] = os_wizard[\"text_pl\"].str.replace(\"<USER_TAG>: \", USER_TAG)\n",
    "# trans_score_pl >= 0.8 get those rows\n",
    "os_wizard_translated_df = os_wizard[os_wizard[\"trans_score_pl\"] >= 0.8][\"text\"]\n",
    "os_wizard_translated_df.reset_index(drop=True, inplace=True)\n",
    "os_wizard_translated_df"
   ]
  },
  {
   "cell_type": "code",
   "execution_count": 17,
   "metadata": {},
   "outputs": [
    {
     "data": {
      "text/plain": [
       "'<|użytkownik|> Jakie choroby genetyczne dziedziczą się autosomalnie dominująco?<|asystent|> Nerwiakowłókniakowatości (neurofibromatozy, łac. neurofibromatoses) są grupą chorób genetycznych dziedziczonych autosomalnie dominująco cechujących się obecnością licznych, niezłośliwych nowotworów pochodzenia nerwowego.'"
      ]
     },
     "execution_count": 17,
     "metadata": {},
     "output_type": "execute_result"
    }
   ],
   "source": [
    "prompts_klej_dyk.iloc[0]"
   ]
  },
  {
   "cell_type": "code",
   "execution_count": 18,
   "metadata": {},
   "outputs": [
    {
     "data": {
      "text/plain": [
       "'<|użytkownik|> Kim był Donatello i jakie są jego najważniejsze dzieła?<|asystent|> Donatello, właśc. Donato di Niccolò di Betto Bardi (1386/1387 - 13 grudnia 1466), był włoskim rzeźbiarzem i złotnikiem zaangażowanym w ruch renesansowy. Uważany jest za jednego z najważniejszych rzeźbiarzy w historii, który przyczynił się do rewolucji w sztuce i odnowy rzemiosła rzeźbiarskiego.\\nJego prace są często opisane jako przełomowe i innowacyjne, zwracające uwagę na nowatorskie podejście do kompozycji, formy i techniki. Wprowadził trójwymiarowość, naturalizm i emocjonalność do rzeźby, przyczyniając się do rozwoju perspektywy rzeźby.\\nNajważniejsze i najbardziej znane dzieła Donatella to:\\n1. David: Ta rzeźba z brązu przedstawia postać biblijnego Davida. Jest to jedno z najbardziej wpływowych dzieł Donatella, które odzwierciedla jego umiejętność ukazania dynamizmu i naturalizmu postaci.\\n2. Święty Jerzy: Rzeźba wykonana dla Florenckiego Konsulatu we Florencji przedstawia świętego Jerzego walczącego z smokiem. Jest to pierwsza rzeźba na wolnym powietrzu wykonana w stylu renesansowym.\\n3. Mariusz: Rzeźba przedstawiająca legendarnego rzymskiego wodza Gajusza Mariusza. Jest to pierwsza pełnoplastyczna rzeźba konnego jeźdźca od czasów starożytnego Rzymu.\\n4. Relikwiarz św. Ludwika z Tuluzy: Owa rzeźba, wykonana dla Katedry w Padwie, przedstawia zmarłego świętego z zachowanymi szczątkami w głowie. To wybitne dzieło sztuki sakralnej.\\n5. Eweretta: Rzeźba wykonana dla Księcia Kardynała Konstantyna, przedstawia młodą dziewczynę w eleganckim stroju. Jest to arcydzieło sztuki renesansowej.\\nOprócz tych znanych dzieł, Donatello pracował nad wieloma innymi, takimi jak marmurowe posągi nawiasowe z Orsanmichele, m.in. św. Jorisza i św. Marka, rzeźby do Katedry we Florencji i liczne bazyliki, kaplice, pałace i pomniki w różnych częściach Włoch. Jego wpływ na sztukę rzeźbiarską jest trudny do przecenienia, a jego dzieła są do dzisiaj podziwiane i studiowane.'"
      ]
     },
     "execution_count": 18,
     "metadata": {},
     "output_type": "execute_result"
    }
   ],
   "source": [
    "prompts_gpt_exam.iloc[0]"
   ]
  },
  {
   "cell_type": "code",
   "execution_count": 32,
   "metadata": {},
   "outputs": [
    {
     "data": {
      "text/plain": [
       "'### Użytkownik: Przetłumacz dany tekst z języka Angielskiego na Polski. Jab it into his antecubital vein, and tape his arm down.### Asystent: Wbij w żyłę w zgięciu łokciowym i opatrz rękę.'"
      ]
     },
     "execution_count": 32,
     "metadata": {},
     "output_type": "execute_result"
    }
   ],
   "source": [
    "prompts_opus100.iloc[0]"
   ]
  },
  {
   "cell_type": "code",
   "execution_count": 31,
   "metadata": {},
   "outputs": [
    {
     "data": {
      "text/plain": [
       "'<|użytkownik|> W którym roku wynaleziono pierwszą mysz komputerową?\\r\\n<|asystent|> Pierwsza mysz komputerowa została wynaleziona w 1964 roku.\\r\\n<|użytkownik|> Kto wynalazł pierwszą mysz komputerową?\\r\\n<|asystent|> Pierwsza mysz komputerowa została wynaleziona przez Douglasa Engelbarta w 1964 roku podczas pracy w Instytucie Badawczym Stanforda.'"
      ]
     },
     "execution_count": 31,
     "metadata": {},
     "output_type": "execute_result"
    }
   ],
   "source": [
    "os_wizard_translated_df.iloc[0]"
   ]
  },
  {
   "cell_type": "code",
   "execution_count": 21,
   "metadata": {},
   "outputs": [
    {
     "data": {
      "text/plain": [
       "'<|użytkownik|> Kiedy Virgin Australia rozpoczęła działalność?\\ntekst źródłowy:\\nVirgin Australia, nazwa handlowa Virgin Australia Airlines Pty Ltd, jest australijską linią lotniczą. Jest to największa linia lotnicza pod względem wielkości floty, która używa marki Virgin. Rozpoczęła działalność 31 sierpnia 2000 roku pod nazwą Virgin Blue, z dwoma samolotami na jednej trasie. Nagle stała się główną linią lotniczą na australijskim rynku krajowym po upadku Ansett Australia we wrześniu 2001 roku. Od tego czasu linia rozrosła się do 32 miast w Australii, z węzłów w Brisbane, Melbourne i Sydney.<|asystent|> Virgin Australia rozpoczął służbę 31 sierpnia 2000 jako Virgin Blue, z dwoma samolotami na jednej trasie.'"
      ]
     },
     "execution_count": 21,
     "metadata": {},
     "output_type": "execute_result"
    }
   ],
   "source": [
    "dolly_translated_df.iloc[0]"
   ]
  },
  {
   "cell_type": "code",
   "execution_count": 33,
   "metadata": {},
   "outputs": [
    {
     "data": {
      "text/html": [
       "<div>\n",
       "<style scoped>\n",
       "    .dataframe tbody tr th:only-of-type {\n",
       "        vertical-align: middle;\n",
       "    }\n",
       "\n",
       "    .dataframe tbody tr th {\n",
       "        vertical-align: top;\n",
       "    }\n",
       "\n",
       "    .dataframe thead th {\n",
       "        text-align: right;\n",
       "    }\n",
       "</style>\n",
       "<table border=\"1\" class=\"dataframe\">\n",
       "  <thead>\n",
       "    <tr style=\"text-align: right;\">\n",
       "      <th></th>\n",
       "      <th>text</th>\n",
       "    </tr>\n",
       "  </thead>\n",
       "  <tbody>\n",
       "    <tr>\n",
       "      <th>0</th>\n",
       "      <td>&lt;|użytkownik|&gt; Jakie zastosowanie mają włókna ...</td>\n",
       "    </tr>\n",
       "    <tr>\n",
       "      <th>1</th>\n",
       "      <td>&lt;|użytkownik|&gt; Jakie procesy zachodzą w cyklu ...</td>\n",
       "    </tr>\n",
       "    <tr>\n",
       "      <th>2</th>\n",
       "      <td>&lt;|użytkownik|&gt; Klasyfikuj następujące zdania n...</td>\n",
       "    </tr>\n",
       "    <tr>\n",
       "      <th>3</th>\n",
       "      <td>&lt;|użytkownik|&gt; Jaki byłby odpowiedni nagłówek ...</td>\n",
       "    </tr>\n",
       "    <tr>\n",
       "      <th>4</th>\n",
       "      <td>&lt;|użytkownik|&gt; Jakie są podstawowe kategorie a...</td>\n",
       "    </tr>\n",
       "    <tr>\n",
       "      <th>...</th>\n",
       "      <td>...</td>\n",
       "    </tr>\n",
       "    <tr>\n",
       "      <th>18979</th>\n",
       "      <td>&lt;|użytkownik|&gt; Jakie są najważniejsze cechy ch...</td>\n",
       "    </tr>\n",
       "    <tr>\n",
       "      <th>18980</th>\n",
       "      <td>&lt;|użytkownik|&gt; Jakie są główne różnice między ...</td>\n",
       "    </tr>\n",
       "    <tr>\n",
       "      <th>18981</th>\n",
       "      <td>&lt;|użytkownik|&gt; Jakie są główne zastosowania ko...</td>\n",
       "    </tr>\n",
       "    <tr>\n",
       "      <th>18982</th>\n",
       "      <td>&lt;|użytkownik|&gt; Jakie są najważniejsze cechy be...</td>\n",
       "    </tr>\n",
       "    <tr>\n",
       "      <th>18983</th>\n",
       "      <td>&lt;|użytkownik|&gt; Co to jest fenotyp komórkowy i ...</td>\n",
       "    </tr>\n",
       "  </tbody>\n",
       "</table>\n",
       "<p>18984 rows × 1 columns</p>\n",
       "</div>"
      ],
      "text/plain": [
       "                                                    text\n",
       "0      <|użytkownik|> Jakie zastosowanie mają włókna ...\n",
       "1      <|użytkownik|> Jakie procesy zachodzą w cyklu ...\n",
       "2      <|użytkownik|> Klasyfikuj następujące zdania n...\n",
       "3      <|użytkownik|> Jaki byłby odpowiedni nagłówek ...\n",
       "4      <|użytkownik|> Jakie są podstawowe kategorie a...\n",
       "...                                                  ...\n",
       "18979  <|użytkownik|> Jakie są najważniejsze cechy ch...\n",
       "18980  <|użytkownik|> Jakie są główne różnice między ...\n",
       "18981  <|użytkownik|> Jakie są główne zastosowania ko...\n",
       "18982  <|użytkownik|> Jakie są najważniejsze cechy be...\n",
       "18983  <|użytkownik|> Co to jest fenotyp komórkowy i ...\n",
       "\n",
       "[18984 rows x 1 columns]"
      ]
     },
     "execution_count": 33,
     "metadata": {},
     "output_type": "execute_result"
    }
   ],
   "source": [
    "## concat all prompts\n",
    "prompts = pd.concat([prompts_klej_dyk, prompts_gpt_exam, os_wizard_translated_df, guanco_translated_df, dolly_translated_df], ignore_index=True)\n",
    "## shuffle rows in prompts \n",
    "prompts = prompts.sample(frac=1).reset_index(drop=True)\n",
    "## add column NAMED text\n",
    "prompts = pd.DataFrame(prompts, columns=[\"text\"])\n",
    "prompts"
   ]
  },
  {
   "cell_type": "code",
   "execution_count": 34,
   "metadata": {},
   "outputs": [
    {
     "data": {
      "text/plain": [
       "0       <|użytkownik|> Kim był Donatello i jakie są je...\n",
       "1       <|użytkownik|> Jakie są główne cechy systemów ...\n",
       "2       <|użytkownik|> Jakie są najważniejsze metody z...\n",
       "3       <|użytkownik|> Jakie są możliwości leczenia ja...\n",
       "4       <|użytkownik|> Jakie są przyczyny i leczenie z...\n",
       "                              ...                        \n",
       "8126    <|użytkownik|> Co to jest amortyzacja? Jakie s...\n",
       "8127    <|użytkownik|> Jaka jest rola lekarza medycyny...\n",
       "8128    <|użytkownik|> Jakie są prawa człowieka dotycz...\n",
       "8129    <|użytkownik|> Jakie są podstawowe instrumenty...\n",
       "8130    <|użytkownik|> Jakie są różnice między konfigu...\n",
       "Length: 8131, dtype: object"
      ]
     },
     "execution_count": 34,
     "metadata": {},
     "output_type": "execute_result"
    }
   ],
   "source": [
    "prompts_gpt_exam"
   ]
  },
  {
   "cell_type": "code",
   "execution_count": 125,
   "metadata": {},
   "outputs": [],
   "source": [
    "import random"
   ]
  },
  {
   "cell_type": "code",
   "execution_count": 63,
   "metadata": {},
   "outputs": [
    {
     "data": {
      "text/plain": [
       "'<|użytkownik|> Na jakiej zasadzie działają hormonalne środki antykoncepcyjne?<|asystent|> Hormonalne środki antykoncepcyjne, znane również jako tabletki antykoncepcyjne, działają na zasadzie wpływu na naturalny cykl hormonalny organizmu kobiety. Składają się one z dwóch głównych hormonów: estrogenów i progestagenów.\\nEstrogeny, takie jak etynyloestradiol, często używane są w tabletkach antykoncepcyjnych, ponieważ hamują wydzielanie hormonalne związków gonadotropowych, czyli hormonów odpowiedzialnych za regulację cyklu menstruacyjnego. Estrogeny blokują wydzielanie hormonu folikulotropowego (FSH) z przysadki mózgowej, co powoduje zahamowanie dojrzewania pęcherzyków jajnikowych i uniemożliwienie owulacji.\\nProgestageny, takie jak lewonorgestrel, drospirenon lub desogestrel, działają głównie poprzez hamowanie wydzielania hormonu luteinizującego (LH) przez przysadkę mózgową. Chociaż progestageny mają różne mechanizmy działania, ogólnie mają podobny efekt na jajniki jak estrogeny, uniemożliwiając dojrzewanie pęcherzyków jajnikowych i utrudniając owulację.\\nDodatkowo, hormony w tabletkach antykoncepcyjnych zmieniają wyściółkę macicy, sprawiając, że jest ona bardziej nieprzyjazna dla zapłodnienia i implantacji zarodka. Zmieniają także skład śluzu szyjkowego, utrudniając ruch plemników w kierunku jajowodów.\\nW połączeniu, estrogeny i progestageny w hormonalnych środkach antykoncepcyjnych razem wpływają na hamowanie owulacji, zmiany w macicy i śluzie szyjkowym, tworząc skuteczne metody antykoncepcji hormonalnej. Ważne jest jednak pamiętanie, że każdy organizm może reagować nieco inaczej na hormonalne środki antykoncepcyjne i skonsultowanie się z lekarzem jest zawsze zalecane przed rozpoczęciem stosowania jakiejkolwiek metody antykoncepcji.'"
      ]
     },
     "execution_count": 63,
     "metadata": {},
     "output_type": "execute_result"
    }
   ],
   "source": [
    "prompts[\"text\"].iloc[random.randint(0, len(prompts))]"
   ]
  },
  {
   "cell_type": "code",
   "execution_count": null,
   "metadata": {},
   "outputs": [],
   "source": [
    "### Customr prompts\n",
    "\"### Uzytkownik: Kim jesteś? Jestem\""
   ]
  },
  {
   "cell_type": "markdown",
   "metadata": {},
   "source": [
    "### Post to huggingface dataset"
   ]
  },
  {
   "cell_type": "code",
   "execution_count": 64,
   "metadata": {},
   "outputs": [],
   "source": [
    "from datasets import load_dataset\n",
    "import datasets\n",
    "from datasets import Dataset, DatasetDict\n",
    "\n",
    "### get random 1000 rows from prompts with seed and put into validation df\n",
    "prompts_sample = prompts.sample(n=500, random_state=1)\n",
    "prompts_sample = prompts_sample.reset_index(drop=True)\n",
    "### substract validation df from prompts df\n",
    "prompts_train = prompts[~prompts.text.isin(prompts_sample.text)]\n",
    "prompts_train = prompts_train.reset_index(drop=True)\n",
    "### reset index"
   ]
  },
  {
   "cell_type": "code",
   "execution_count": 65,
   "metadata": {},
   "outputs": [],
   "source": [
    "ds = DatasetDict()\n",
    "ds['train'] = Dataset.from_pandas(prompts_train)\n",
    "ds['validation'] = Dataset.from_pandas(prompts_sample)"
   ]
  },
  {
   "cell_type": "code",
   "execution_count": 66,
   "metadata": {},
   "outputs": [
    {
     "name": "stderr",
     "output_type": "stream",
     "text": [
      "Creating parquet from Arrow format: 100%|██████████| 19/19 [00:00<00:00, 229.27ba/s]\n",
      "Pushing dataset shards to the dataset hub: 100%|██████████| 1/1 [00:06<00:00,  6.32s/it]\n",
      "Creating parquet from Arrow format: 100%|██████████| 1/1 [00:00<00:00, 212.94ba/s]\n",
      "Pushing dataset shards to the dataset hub: 100%|██████████| 1/1 [00:01<00:00,  1.45s/it]\n",
      "Downloading metadata: 100%|██████████| 30.0/30.0 [00:00<00:00, 77.9kB/s]\n"
     ]
    }
   ],
   "source": [
    "ds.push_to_hub(\"szymonrucinski/krakowiak-pl\")"
   ]
  }
 ],
 "metadata": {
  "kernelspec": {
   "display_name": "intranet-search",
   "language": "python",
   "name": "python3"
  },
  "language_info": {
   "codemirror_mode": {
    "name": "ipython",
    "version": 3
   },
   "file_extension": ".py",
   "mimetype": "text/x-python",
   "name": "python",
   "nbconvert_exporter": "python",
   "pygments_lexer": "ipython3",
   "version": "3.9.18"
  },
  "orig_nbformat": 4
 },
 "nbformat": 4,
 "nbformat_minor": 2
}
