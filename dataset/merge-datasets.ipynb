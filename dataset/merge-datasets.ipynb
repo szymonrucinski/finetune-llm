{
 "cells": [
  {
   "cell_type": "code",
   "execution_count": 70,
   "metadata": {},
   "outputs": [],
   "source": [
    "from datasets import load_dataset\n",
    "import pandas as pd\n"
   ]
  },
  {
   "cell_type": "markdown",
   "metadata": {},
   "source": [
    "### QA - Process Klej_dyk"
   ]
  },
  {
   "cell_type": "code",
   "execution_count": 71,
   "metadata": {},
   "outputs": [],
   "source": [
    "klej_dyk = load_dataset(\"allegro/klej-dyk\")\n",
    "klej_dyk_df_train = klej_dyk['train'].to_pandas()\n",
    "klej_dyk_df_test = klej_dyk['test'].to_pandas()\n",
    "# combine train and test\n",
    "klej_dyk_df = pd.concat([klej_dyk_df_train, klej_dyk_df_test], ignore_index=True)\n",
    "klej_dyk_df = klej_dyk_df[klej_dyk_df[\"target\"]==1][[\"question\",\"answer\"]]\n",
    "klej_dyk_df[\"question\"] = klej_dyk_df[\"question\"].str.capitalize()"
   ]
  },
  {
   "cell_type": "markdown",
   "metadata": {},
   "source": [
    "### QA - with context - Process clarin-pl/poquad"
   ]
  },
  {
   "cell_type": "code",
   "execution_count": 72,
   "metadata": {},
   "outputs": [
    {
     "data": {
      "text/html": [
       "<div>\n",
       "<style scoped>\n",
       "    .dataframe tbody tr th:only-of-type {\n",
       "        vertical-align: middle;\n",
       "    }\n",
       "\n",
       "    .dataframe tbody tr th {\n",
       "        vertical-align: top;\n",
       "    }\n",
       "\n",
       "    .dataframe thead th {\n",
       "        text-align: right;\n",
       "    }\n",
       "</style>\n",
       "<table border=\"1\" class=\"dataframe\">\n",
       "  <thead>\n",
       "    <tr style=\"text-align: right;\">\n",
       "      <th></th>\n",
       "      <th>context</th>\n",
       "      <th>question</th>\n",
       "      <th>answers</th>\n",
       "    </tr>\n",
       "  </thead>\n",
       "  <tbody>\n",
       "    <tr>\n",
       "      <th>0</th>\n",
       "      <td>Projekty konfederacji zaczęły się załamywać 5 ...</td>\n",
       "      <td>Co było powodem powrócenia konceptu porozumien...</td>\n",
       "      <td>Wymianą listów ripka – stroński</td>\n",
       "    </tr>\n",
       "    <tr>\n",
       "      <th>1</th>\n",
       "      <td>Samoloty Pomilio PD weszły na wyposażenie jedn...</td>\n",
       "      <td>Jaki model zastąpił Pomilio PC?</td>\n",
       "      <td>Pomilio pd</td>\n",
       "    </tr>\n",
       "    <tr>\n",
       "      <th>2</th>\n",
       "      <td>Kowal trafił do wojska jesienią 1952 roku, nat...</td>\n",
       "      <td>W którym roku zawodnik zdobył swojego pierwsze...</td>\n",
       "      <td>1953</td>\n",
       "    </tr>\n",
       "    <tr>\n",
       "      <th>3</th>\n",
       "      <td>Zgodnie z Regulaminem Sejmu i zarządzeniem Sze...</td>\n",
       "      <td>Na jakiej witrynie znajduje się system informa...</td>\n",
       "      <td>Www.sejm.gov.pl</td>\n",
       "    </tr>\n",
       "    <tr>\n",
       "      <th>4</th>\n",
       "      <td>W 2006 otworzyła wystawę malarską o tytule Nev...</td>\n",
       "      <td>Za co piosenkarka została wyróżniona Orderem S...</td>\n",
       "      <td>Za swój udział w rozwoju sztuki francuskiej</td>\n",
       "    </tr>\n",
       "    <tr>\n",
       "      <th>...</th>\n",
       "      <td>...</td>\n",
       "      <td>...</td>\n",
       "      <td>...</td>\n",
       "    </tr>\n",
       "    <tr>\n",
       "      <th>9098</th>\n",
       "      <td>18 listopada 2015 został sekretarzem stanu w M...</td>\n",
       "      <td>Przewodniczącym jakich organów został Paweł Ja...</td>\n",
       "      <td>Przewodniczącym zespołu ds. ochrony autonomii ...</td>\n",
       "    </tr>\n",
       "    <tr>\n",
       "      <th>9099</th>\n",
       "      <td>W połowie kwietnia 2008 na oficjalnej stronie ...</td>\n",
       "      <td>Czy Black Ice był pierwszym albumem tego zespo...</td>\n",
       "      <td>Producentem płyty był brendan o’brien, a inżyn...</td>\n",
       "    </tr>\n",
       "    <tr>\n",
       "      <th>9100</th>\n",
       "      <td>Pierwsze dwa albumy, choć nieźle sprzedające s...</td>\n",
       "      <td>Czy debiutancki album Deep Purple odniósł sukc...</td>\n",
       "      <td>Pierwsze dwa albumy, choć nieźle sprzedające s...</td>\n",
       "    </tr>\n",
       "    <tr>\n",
       "      <th>9101</th>\n",
       "      <td>Po napaści ZSRR na Polskę w 1939 roku Gimnazju...</td>\n",
       "      <td>Kiedy zamknięto Państwowe Wyższe Gimnazjum im....</td>\n",
       "      <td>1939</td>\n",
       "    </tr>\n",
       "    <tr>\n",
       "      <th>9102</th>\n",
       "      <td>Polską część wyspy Uznam porasta w większości ...</td>\n",
       "      <td>Czy Świdny Las jest iglasty?</td>\n",
       "      <td>Mieszany z przewagą sosny</td>\n",
       "    </tr>\n",
       "  </tbody>\n",
       "</table>\n",
       "<p>9103 rows × 3 columns</p>\n",
       "</div>"
      ],
      "text/plain": [
       "                                                context  \\\n",
       "0     Projekty konfederacji zaczęły się załamywać 5 ...   \n",
       "1     Samoloty Pomilio PD weszły na wyposażenie jedn...   \n",
       "2     Kowal trafił do wojska jesienią 1952 roku, nat...   \n",
       "3     Zgodnie z Regulaminem Sejmu i zarządzeniem Sze...   \n",
       "4     W 2006 otworzyła wystawę malarską o tytule Nev...   \n",
       "...                                                 ...   \n",
       "9098  18 listopada 2015 został sekretarzem stanu w M...   \n",
       "9099  W połowie kwietnia 2008 na oficjalnej stronie ...   \n",
       "9100  Pierwsze dwa albumy, choć nieźle sprzedające s...   \n",
       "9101  Po napaści ZSRR na Polskę w 1939 roku Gimnazju...   \n",
       "9102  Polską część wyspy Uznam porasta w większości ...   \n",
       "\n",
       "                                               question  \\\n",
       "0     Co było powodem powrócenia konceptu porozumien...   \n",
       "1                       Jaki model zastąpił Pomilio PC?   \n",
       "2     W którym roku zawodnik zdobył swojego pierwsze...   \n",
       "3     Na jakiej witrynie znajduje się system informa...   \n",
       "4     Za co piosenkarka została wyróżniona Orderem S...   \n",
       "...                                                 ...   \n",
       "9098  Przewodniczącym jakich organów został Paweł Ja...   \n",
       "9099  Czy Black Ice był pierwszym albumem tego zespo...   \n",
       "9100  Czy debiutancki album Deep Purple odniósł sukc...   \n",
       "9101  Kiedy zamknięto Państwowe Wyższe Gimnazjum im....   \n",
       "9102                       Czy Świdny Las jest iglasty?   \n",
       "\n",
       "                                                answers  \n",
       "0                       Wymianą listów ripka – stroński  \n",
       "1                                            Pomilio pd  \n",
       "2                                                  1953  \n",
       "3                                       Www.sejm.gov.pl  \n",
       "4           Za swój udział w rozwoju sztuki francuskiej  \n",
       "...                                                 ...  \n",
       "9098  Przewodniczącym zespołu ds. ochrony autonomii ...  \n",
       "9099  Producentem płyty był brendan o’brien, a inżyn...  \n",
       "9100  Pierwsze dwa albumy, choć nieźle sprzedające s...  \n",
       "9101                                               1939  \n",
       "9102                          Mieszany z przewagą sosny  \n",
       "\n",
       "[9103 rows x 3 columns]"
      ]
     },
     "execution_count": 72,
     "metadata": {},
     "output_type": "execute_result"
    }
   ],
   "source": [
    "poquad = load_dataset(\"clarin-pl/poquad\")\n",
    "poquad_df_train = poquad['train'].to_pandas()\n",
    "poquad_df_test = poquad['validation'].to_pandas()\n",
    "poquad_df = pd.concat([poquad_df_train, poquad_df_test], ignore_index=True)\n",
    "poquad_df = poquad_df.drop_duplicates(subset=[\"title\"]).reset_index(drop=True)\n",
    "poquad_df[\"answers\"] = poquad_df[\"answers\"].apply(lambda x: x[\"text\"][0])\n",
    "poquad_df[\"answers\"] = poquad_df[\"answers\"].str.capitalize()\n",
    "poquad_df = poquad_df[[\"context\",\"question\",\"answers\"]]\n",
    "poquad_df"
   ]
  },
  {
   "cell_type": "markdown",
   "metadata": {},
   "source": [
    "### Process poleval_2019_mt"
   ]
  },
  {
   "cell_type": "code",
   "execution_count": 78,
   "metadata": {},
   "outputs": [
    {
     "name": "stderr",
     "output_type": "stream",
     "text": [
      "Downloading data: 100%|██████████| 39.3M/39.3M [00:02<00:00, 15.8MB/s]\n",
      "Generating test split: 100%|██████████| 2000/2000 [00:00<00:00, 5423.74 examples/s]\n",
      "Generating train split: 100%|██████████| 1000000/1000000 [00:10<00:00, 91669.93 examples/s]\n",
      "Generating validation split: 100%|██████████| 2000/2000 [00:00<00:00, 9171.78 examples/s]\n"
     ]
    }
   ],
   "source": [
    "opus100 = load_dataset(\"opus100\", \"en-pl\")\n",
    "dataset = load_dataset(\"opus100\", \"pl-en\")\n",
    "dataset = load_dataset(\"opus100\", \"de-pl\")\n",
    "dataset = load_dataset(\"opus100\", \"pl-de\")\n",
    "for l_pair in [\"en-pl\", \"pl-en\", \"de-pl\", \"pl\"]"
   ]
  },
  {
   "cell_type": "code",
   "execution_count": null,
   "metadata": {},
   "outputs": [],
   "source": []
  }
 ],
 "metadata": {
  "kernelspec": {
   "display_name": "intranet-search",
   "language": "python",
   "name": "python3"
  },
  "language_info": {
   "codemirror_mode": {
    "name": "ipython",
    "version": 3
   },
   "file_extension": ".py",
   "mimetype": "text/x-python",
   "name": "python",
   "nbconvert_exporter": "python",
   "pygments_lexer": "ipython3",
   "version": "3.9.16"
  },
  "orig_nbformat": 4
 },
 "nbformat": 4,
 "nbformat_minor": 2
}
